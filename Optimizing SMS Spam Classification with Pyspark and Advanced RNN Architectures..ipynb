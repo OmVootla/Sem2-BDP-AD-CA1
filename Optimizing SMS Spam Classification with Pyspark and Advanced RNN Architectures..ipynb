{
 "cells": [
  {
   "cell_type": "markdown",
   "id": "43fa9389",
   "metadata": {},
   "source": [
    "## Research Title: Optimizing SMS Spam Classification with Pyspark and Advanced RNN Architectures."
   ]
  },
  {
   "cell_type": "markdown",
   "id": "62774b39",
   "metadata": {},
   "source": [
    "### Methodology"
   ]
  },
  {
   "cell_type": "markdown",
   "id": "940e2786",
   "metadata": {},
   "source": [
    "1. Text Cleaning and Preprocessing"
   ]
  },
  {
   "cell_type": "markdown",
   "id": "f9031a5b",
   "metadata": {},
   "source": [
    "Loading SMS Spam messages csv file as spark data frame. remove unwanted columns and rename the cloumns.\n",
    "Drop duplicates and null values from the data frame."
   ]
  },
  {
   "cell_type": "markdown",
   "id": "349ebf04",
   "metadata": {},
   "source": [
    "2. EDA on pandas data frame."
   ]
  },
  {
   "cell_type": "markdown",
   "id": "c175f7d0",
   "metadata": {},
   "source": [
    "Convert spark data frame to pandas data frame to perform EDA."
   ]
  },
  {
   "cell_type": "markdown",
   "id": "a9349207",
   "metadata": {},
   "source": [
    "3. Tokenization"
   ]
  },
  {
   "cell_type": "markdown",
   "id": "a94bb28f",
   "metadata": {},
   "source": [
    "Covert the cleaned text in tokens using tokenization method."
   ]
  },
  {
   "cell_type": "markdown",
   "id": "80e59870",
   "metadata": {},
   "source": [
    "Method 1:"
   ]
  },
  {
   "cell_type": "markdown",
   "id": "4616c654",
   "metadata": {},
   "source": [
    "4. Machine Learning and Deep leaning Modelling"
   ]
  },
  {
   "cell_type": "markdown",
   "id": "96f50ce2",
   "metadata": {},
   "source": [
    "Using TfidfVectorizer vectorize the transformed text.\n",
    "Build Mulitnomiol Naive Bayse model.\n",
    "Evoluate the results using accuracy, confusion matric and precision.\n",
    "Build RNN LSTM and BiLSTM Models.\n",
    "Train the model on train data and evoluate on test data using accuracy and loss matrics"
   ]
  },
  {
   "cell_type": "markdown",
   "id": "57b30593",
   "metadata": {},
   "source": [
    "Method 2:"
   ]
  },
  {
   "cell_type": "markdown",
   "id": "bfeb07c2",
   "metadata": {},
   "source": [
    "5. Using Pyspark library MultilayerPerceptronClassifier to build RNN model and evoluate with MulticlassClassificationEvaluator.\n",
    "Compare and analyse all model results. "
   ]
  },
  {
   "cell_type": "markdown",
   "id": "2a67ec95",
   "metadata": {},
   "source": []
  },
  {
   "cell_type": "code",
   "execution_count": 1,
   "id": "9b5a7fa9",
   "metadata": {},
   "outputs": [],
   "source": [
    "## Import necessary packages and library"
   ]
  },
  {
   "cell_type": "code",
   "execution_count": 2,
   "id": "b96d35fc",
   "metadata": {},
   "outputs": [
    {
     "name": "stderr",
     "output_type": "stream",
     "text": [
      "/usr/lib/python3/dist-packages/scipy/__init__.py:146: UserWarning: A NumPy version >=1.17.3 and <1.25.0 is required for this version of SciPy (detected version 1.26.4\n",
      "  warnings.warn(f\"A NumPy version >={np_minversion} and <{np_maxversion}\"\n",
      "2024-04-04 00:03:30.582135: I external/local_tsl/tsl/cuda/cudart_stub.cc:32] Could not find cuda drivers on your machine, GPU will not be used.\n",
      "2024-04-04 00:03:32.180656: I external/local_tsl/tsl/cuda/cudart_stub.cc:32] Could not find cuda drivers on your machine, GPU will not be used.\n",
      "2024-04-04 00:03:35.980972: I tensorflow/core/platform/cpu_feature_guard.cc:210] This TensorFlow binary is optimized to use available CPU instructions in performance-critical operations.\n",
      "To enable the following instructions: AVX2, in other operations, rebuild TensorFlow with the appropriate compiler flags.\n",
      "2024-04-04 00:03:44.916912: W tensorflow/compiler/tf2tensorrt/utils/py_utils.cc:38] TF-TRT Warning: Could not find TensorRT\n"
     ]
    }
   ],
   "source": [
    "from pyspark.sql import SparkSession\n",
    "from pyspark.sql.functions import col\n",
    "from pyspark.ml.feature import Tokenizer\n",
    "from pyspark.ml.feature import StringIndexer\n",
    "from tensorflowonspark import TFCluster\n",
    "import numpy as np\n",
    "import os\n",
    "import pandas as pd\n",
    "from pyspark.sql.types import *\n",
    "from pyspark.ml import Pipeline\n",
    "from pyspark.sql import functions as f\n",
    "from pyspark.sql.functions import udf, StringType\n",
    "from pyspark.sql import SparkSession, functions as F\n",
    "from pyspark.ml.evaluation import MulticlassClassificationEvaluator\n",
    "from pyspark.ml.classification import MultilayerPerceptronClassifier\n",
    "from pyspark.ml.feature import OneHotEncoder, VectorAssembler, StringIndexer"
   ]
  },
  {
   "cell_type": "code",
   "execution_count": 3,
   "id": "3a821aec",
   "metadata": {},
   "outputs": [],
   "source": [
    "## Run Spark Session locally"
   ]
  },
  {
   "cell_type": "code",
   "execution_count": 4,
   "id": "5a7a59cd",
   "metadata": {},
   "outputs": [
    {
     "name": "stderr",
     "output_type": "stream",
     "text": [
      "24/04/04 00:03:59 WARN SparkSession: Using an existing Spark session; only runtime SQL configurations will take effect.\n"
     ]
    }
   ],
   "source": [
    "spark = SparkSession.builder \\\n",
    "    .appName(\"SMSSpamClassification\") \\\n",
    "    .getOrCreate()"
   ]
  },
  {
   "cell_type": "code",
   "execution_count": 5,
   "id": "566e2ba0",
   "metadata": {},
   "outputs": [
    {
     "data": {
      "text/html": [
       "\n",
       "        <div>\n",
       "            <p><b>SparkContext</b></p>\n",
       "\n",
       "            <p><a href=\"http://10.0.2.15:4040\">Spark UI</a></p>\n",
       "\n",
       "            <dl>\n",
       "              <dt>Version</dt>\n",
       "                <dd><code>v3.4.2</code></dd>\n",
       "              <dt>Master</dt>\n",
       "                <dd><code>local[*]</code></dd>\n",
       "              <dt>AppName</dt>\n",
       "                <dd><code>PySparkShell</code></dd>\n",
       "            </dl>\n",
       "        </div>\n",
       "        "
      ],
      "text/plain": [
       "<SparkContext master=local[*] appName=PySparkShell>"
      ]
     },
     "execution_count": 5,
     "metadata": {},
     "output_type": "execute_result"
    }
   ],
   "source": [
    "sc"
   ]
  },
  {
   "cell_type": "code",
   "execution_count": 6,
   "id": "c5e1bd7c",
   "metadata": {},
   "outputs": [
    {
     "data": {
      "text/plain": [
       "'local[*]'"
      ]
     },
     "execution_count": 6,
     "metadata": {},
     "output_type": "execute_result"
    }
   ],
   "source": [
    "# sc master - running locally\n",
    "sc.master"
   ]
  },
  {
   "cell_type": "markdown",
   "id": "617e521e",
   "metadata": {},
   "source": [
    "## Section 1: Data Load & Pre cleaning using Pyspark"
   ]
  },
  {
   "cell_type": "code",
   "execution_count": null,
   "id": "90c3a15b",
   "metadata": {},
   "outputs": [],
   "source": []
  },
  {
   "cell_type": "code",
   "execution_count": 7,
   "id": "7e8f1c9a",
   "metadata": {
    "scrolled": true
   },
   "outputs": [
    {
     "name": "stderr",
     "output_type": "stream",
     "text": [
      "                                                                                \r"
     ]
    },
    {
     "name": "stdout",
     "output_type": "stream",
     "text": [
      "root\n",
      " |-- v1: string (nullable = true)\n",
      " |-- v2: string (nullable = true)\n",
      " |-- _c2: string (nullable = true)\n",
      " |-- _c3: string (nullable = true)\n",
      " |-- _c4: string (nullable = true)\n",
      "\n"
     ]
    }
   ],
   "source": [
    "## Reading spam csv file as spark data frame.\n",
    "df = spark.read.load('hdfs://localhost:9000/user1/spam.csv', format=\"csv\", header=\"true\", sep=',')\n",
    "df.printSchema()"
   ]
  },
  {
   "cell_type": "code",
   "execution_count": 8,
   "id": "af1ac41a",
   "metadata": {},
   "outputs": [
    {
     "name": "stdout",
     "output_type": "stream",
     "text": [
      "+----+--------------------+----+----+----+\n",
      "|  v1|                  v2| _c2| _c3| _c4|\n",
      "+----+--------------------+----+----+----+\n",
      "| ham|Go until jurong p...|null|null|null|\n",
      "| ham|Ok lar... Joking ...|null|null|null|\n",
      "|spam|Free entry in 2 a...|null|null|null|\n",
      "| ham|U dun say so earl...|null|null|null|\n",
      "| ham|Nah I don't think...|null|null|null|\n",
      "+----+--------------------+----+----+----+\n",
      "only showing top 5 rows\n",
      "\n"
     ]
    },
    {
     "name": "stderr",
     "output_type": "stream",
     "text": [
      "24/04/04 00:04:14 WARN CSVHeaderChecker: CSV header does not conform to the schema.\n",
      " Header: v1, v2, , , \n",
      " Schema: v1, v2, _c2, _c3, _c4\n",
      "Expected: _c2 but found: \n",
      "CSV file: hdfs://localhost:9000/user1/spam.csv\n"
     ]
    }
   ],
   "source": [
    "#print(\"First few rows:\")\n",
    "df.show(5)"
   ]
  },
  {
   "cell_type": "code",
   "execution_count": 9,
   "id": "95720d24",
   "metadata": {},
   "outputs": [
    {
     "name": "stdout",
     "output_type": "stream",
     "text": [
      "Total Records in dataframe:  5574\n"
     ]
    }
   ],
   "source": [
    "df.count()\n",
    "print('Total Records in dataframe: ',df.count())"
   ]
  },
  {
   "cell_type": "code",
   "execution_count": 10,
   "id": "efda5fd4",
   "metadata": {
    "scrolled": false
   },
   "outputs": [
    {
     "name": "stdout",
     "output_type": "stream",
     "text": [
      "Summary statistics:\n"
     ]
    },
    {
     "name": "stderr",
     "output_type": "stream",
     "text": [
      "24/04/04 00:04:17 WARN package: Truncated the string representation of a plan since it was too large. This behavior can be adjusted by setting 'spark.sql.debug.maxToStringFields'.\n",
      "24/04/04 00:04:18 WARN CSVHeaderChecker: CSV header does not conform to the schema.\n",
      " Header: v1, v2, , , \n",
      " Schema: v1, v2, _c2, _c3, _c4\n",
      "Expected: _c2 but found: \n",
      "CSV file: hdfs://localhost:9000/user1/spam.csv\n",
      "[Stage 10:>                                                         (0 + 1) / 1]\r"
     ]
    },
    {
     "name": "stdout",
     "output_type": "stream",
     "text": [
      "+-------+----+--------------------+--------------------+--------------------+--------------------+\n",
      "|summary|  v1|                  v2|                 _c2|                 _c3|                 _c4|\n",
      "+-------+----+--------------------+--------------------+--------------------+--------------------+\n",
      "|  count|5574|                5573|                  49|                  12|                   6|\n",
      "|   mean|null|               645.0|                null|                null|                null|\n",
      "| stddev|null|                null|                null|                null|                null|\n",
      "|    min| ham| &lt;#&gt;  in mc...| Dont Come Near M...| ILLSPEAK 2 U2MOR...| CALL 2MWEN IM BK...|\n",
      "|    max|spam|��_ we r stayin h...|u hav2hear it!c u...|i wil tolerat.bcs...|            GNT:-)\"\"|\n",
      "+-------+----+--------------------+--------------------+--------------------+--------------------+\n",
      "\n"
     ]
    },
    {
     "name": "stderr",
     "output_type": "stream",
     "text": [
      "\r",
      "                                                                                \r"
     ]
    }
   ],
   "source": [
    "print(\"Summary statistics:\")\n",
    "df.describe().show()"
   ]
  },
  {
   "cell_type": "code",
   "execution_count": 11,
   "id": "27c650ab",
   "metadata": {},
   "outputs": [],
   "source": [
    "columns_to_drop = [\"_c2\", \"_c3\", \"_c4\"]\n",
    "df = df.drop(*columns_to_drop)"
   ]
  },
  {
   "cell_type": "code",
   "execution_count": 12,
   "id": "4086a6dc",
   "metadata": {},
   "outputs": [
    {
     "data": {
      "text/plain": [
       "DataFrame[v1: string, v2: string]"
      ]
     },
     "execution_count": 12,
     "metadata": {},
     "output_type": "execute_result"
    }
   ],
   "source": [
    "df"
   ]
  },
  {
   "cell_type": "code",
   "execution_count": 13,
   "id": "da563471",
   "metadata": {},
   "outputs": [],
   "source": [
    "new_column_names = {\"v1\": \"target\", \"v2\": \"text\"}\n",
    "for old_name, new_name in new_column_names.items():\n",
    "    df = df.withColumnRenamed(old_name, new_name)"
   ]
  },
  {
   "cell_type": "code",
   "execution_count": 14,
   "id": "250eec9a",
   "metadata": {},
   "outputs": [
    {
     "name": "stdout",
     "output_type": "stream",
     "text": [
      "+------+--------------------+\n",
      "|target|                text|\n",
      "+------+--------------------+\n",
      "|   ham|Go until jurong p...|\n",
      "|   ham|Ok lar... Joking ...|\n",
      "|  spam|Free entry in 2 a...|\n",
      "|   ham|U dun say so earl...|\n",
      "|   ham|Nah I don't think...|\n",
      "|  spam|FreeMsg Hey there...|\n",
      "|   ham|Even my brother i...|\n",
      "|   ham|As per your reque...|\n",
      "|  spam|WINNER!! As a val...|\n",
      "|  spam|Had your mobile 1...|\n",
      "|   ham|I'm gonna be home...|\n",
      "|  spam|SIX chances to wi...|\n",
      "|  spam|URGENT! You have ...|\n",
      "|   ham|I've been searchi...|\n",
      "|   ham|I HAVE A DATE ON ...|\n",
      "|  spam|XXXMobileMovieClu...|\n",
      "|   ham|Oh k...i'm watchi...|\n",
      "|   ham|Eh u remember how...|\n",
      "|   ham|Fine if that��s t...|\n",
      "|  spam|England v Macedon...|\n",
      "+------+--------------------+\n",
      "only showing top 20 rows\n",
      "\n"
     ]
    }
   ],
   "source": [
    "df.show()"
   ]
  },
  {
   "cell_type": "code",
   "execution_count": 15,
   "id": "6d1f1a58",
   "metadata": {},
   "outputs": [],
   "source": [
    "from pyspark.sql.functions import when\n",
    "df = df.withColumn(\"target\", when(df[\"target\"] == \"ham\", 0).otherwise(1))"
   ]
  },
  {
   "cell_type": "code",
   "execution_count": 16,
   "id": "c498752f",
   "metadata": {},
   "outputs": [
    {
     "name": "stdout",
     "output_type": "stream",
     "text": [
      "+------+--------------------+\n",
      "|target|                text|\n",
      "+------+--------------------+\n",
      "|     0|Go until jurong p...|\n",
      "|     0|Ok lar... Joking ...|\n",
      "|     1|Free entry in 2 a...|\n",
      "|     0|U dun say so earl...|\n",
      "|     0|Nah I don't think...|\n",
      "+------+--------------------+\n",
      "only showing top 5 rows\n",
      "\n"
     ]
    }
   ],
   "source": [
    "df.show(5)"
   ]
  },
  {
   "cell_type": "code",
   "execution_count": 17,
   "id": "c220d826",
   "metadata": {},
   "outputs": [
    {
     "name": "stdout",
     "output_type": "stream",
     "text": [
      "Duplicate rows count: 403\n"
     ]
    }
   ],
   "source": [
    "print(\"Duplicate rows count:\", df.count() - df.dropDuplicates().count())"
   ]
  },
  {
   "cell_type": "code",
   "execution_count": 18,
   "id": "28d5f3f8",
   "metadata": {},
   "outputs": [],
   "source": [
    "df = df.dropDuplicates()"
   ]
  },
  {
   "cell_type": "code",
   "execution_count": 19,
   "id": "99b427c6",
   "metadata": {
    "scrolled": true
   },
   "outputs": [
    {
     "data": {
      "text/plain": [
       "5171"
      ]
     },
     "execution_count": 19,
     "metadata": {},
     "output_type": "execute_result"
    }
   ],
   "source": [
    "df.count()"
   ]
  },
  {
   "cell_type": "code",
   "execution_count": 20,
   "id": "5dbaaa97",
   "metadata": {},
   "outputs": [
    {
     "data": {
      "text/plain": [
       "1"
      ]
     },
     "execution_count": 20,
     "metadata": {},
     "output_type": "execute_result"
    }
   ],
   "source": [
    "df.filter(col('text').isNull()).count()"
   ]
  },
  {
   "cell_type": "code",
   "execution_count": 21,
   "id": "a25f3a60",
   "metadata": {},
   "outputs": [
    {
     "data": {
      "text/plain": [
       "DataFrame[target: int, text: string]"
      ]
     },
     "execution_count": 21,
     "metadata": {},
     "output_type": "execute_result"
    }
   ],
   "source": [
    "df.na.drop(subset=['text'])"
   ]
  },
  {
   "cell_type": "markdown",
   "id": "fd6444b5",
   "metadata": {},
   "source": [
    "# Section 2: EDA on Pandas Dataframe"
   ]
  },
  {
   "cell_type": "code",
   "execution_count": 22,
   "id": "9bae9de7",
   "metadata": {},
   "outputs": [],
   "source": [
    "## Importing required libraries for EDA"
   ]
  },
  {
   "cell_type": "code",
   "execution_count": 23,
   "id": "a0265fba",
   "metadata": {},
   "outputs": [],
   "source": [
    "import pandas as pd\n",
    "import numpy as np\n",
    "import matplotlib.pyplot as plt\n",
    "import seaborn as sns\n",
    "from sklearn.model_selection import train_test_split\n",
    "from sklearn.preprocessing import LabelEncoder\n",
    "from keras.models import Model\n",
    "from keras.layers import LSTM, Activation, Dense, Dropout, Input, Embedding\n",
    "from keras.optimizers import RMSprop\n",
    "from keras.preprocessing import sequence\n",
    "from keras.utils import to_categorical\n",
    "from keras.callbacks import EarlyStopping\n",
    "from keras_preprocessing.text import Tokenizer\n",
    "%matplotlib inline\n",
    "import nltk"
   ]
  },
  {
   "cell_type": "code",
   "execution_count": 24,
   "id": "a7ec3b85",
   "metadata": {},
   "outputs": [],
   "source": [
    "## Converting Pyspark Dataframe to Pandas dataframe"
   ]
  },
  {
   "cell_type": "code",
   "execution_count": 25,
   "id": "3eeb4c9a",
   "metadata": {},
   "outputs": [
    {
     "data": {
      "text/html": [
       "<div>\n",
       "<style scoped>\n",
       "    .dataframe tbody tr th:only-of-type {\n",
       "        vertical-align: middle;\n",
       "    }\n",
       "\n",
       "    .dataframe tbody tr th {\n",
       "        vertical-align: top;\n",
       "    }\n",
       "\n",
       "    .dataframe thead th {\n",
       "        text-align: right;\n",
       "    }\n",
       "</style>\n",
       "<table border=\"1\" class=\"dataframe\">\n",
       "  <thead>\n",
       "    <tr style=\"text-align: right;\">\n",
       "      <th></th>\n",
       "      <th>target</th>\n",
       "      <th>text</th>\n",
       "    </tr>\n",
       "  </thead>\n",
       "  <tbody>\n",
       "    <tr>\n",
       "      <th>0</th>\n",
       "      <td>0</td>\n",
       "      <td>Wah lucky man... Then can save money... Hee...</td>\n",
       "    </tr>\n",
       "    <tr>\n",
       "      <th>1</th>\n",
       "      <td>0</td>\n",
       "      <td>I'm leaving my house now...</td>\n",
       "    </tr>\n",
       "    <tr>\n",
       "      <th>2</th>\n",
       "      <td>0</td>\n",
       "      <td>Just sent it. So what type of food do you like?</td>\n",
       "    </tr>\n",
       "    <tr>\n",
       "      <th>3</th>\n",
       "      <td>0</td>\n",
       "      <td>Okies... I'll go yan jiu too... We can skip ar...</td>\n",
       "    </tr>\n",
       "    <tr>\n",
       "      <th>4</th>\n",
       "      <td>1</td>\n",
       "      <td>18 days to Euro2004 kickoff! U will be kept in...</td>\n",
       "    </tr>\n",
       "  </tbody>\n",
       "</table>\n",
       "</div>"
      ],
      "text/plain": [
       "   target                                               text\n",
       "0       0     Wah lucky man... Then can save money... Hee...\n",
       "1       0                        I'm leaving my house now...\n",
       "2       0    Just sent it. So what type of food do you like?\n",
       "3       0  Okies... I'll go yan jiu too... We can skip ar...\n",
       "4       1  18 days to Euro2004 kickoff! U will be kept in..."
      ]
     },
     "execution_count": 25,
     "metadata": {},
     "output_type": "execute_result"
    }
   ],
   "source": [
    "df = df.toPandas()\n",
    "df.head()"
   ]
  },
  {
   "cell_type": "code",
   "execution_count": 26,
   "id": "0387b6ae",
   "metadata": {},
   "outputs": [
    {
     "data": {
      "text/plain": [
       "(5171, 2)"
      ]
     },
     "execution_count": 26,
     "metadata": {},
     "output_type": "execute_result"
    }
   ],
   "source": [
    "df.shape"
   ]
  },
  {
   "cell_type": "code",
   "execution_count": 27,
   "id": "c558ccc8",
   "metadata": {},
   "outputs": [
    {
     "data": {
      "text/plain": [
       "target\n",
       "0    4516\n",
       "1     655\n",
       "Name: count, dtype: int64"
      ]
     },
     "execution_count": 27,
     "metadata": {},
     "output_type": "execute_result"
    }
   ],
   "source": [
    "df['target'].value_counts()"
   ]
  },
  {
   "cell_type": "code",
   "execution_count": 28,
   "id": "855eab60",
   "metadata": {},
   "outputs": [
    {
     "name": "stdout",
     "output_type": "stream",
     "text": [
      "<class 'pandas.core.frame.DataFrame'>\n",
      "RangeIndex: 5171 entries, 0 to 5170\n",
      "Data columns (total 2 columns):\n",
      " #   Column  Non-Null Count  Dtype \n",
      "---  ------  --------------  ----- \n",
      " 0   target  5171 non-null   int32 \n",
      " 1   text    5170 non-null   object\n",
      "dtypes: int32(1), object(1)\n",
      "memory usage: 60.7+ KB\n"
     ]
    }
   ],
   "source": [
    "df.info()"
   ]
  },
  {
   "cell_type": "code",
   "execution_count": 29,
   "id": "546a8e4a",
   "metadata": {},
   "outputs": [],
   "source": [
    "## Visualization of ham and spam messages counts."
   ]
  },
  {
   "cell_type": "code",
   "execution_count": 30,
   "id": "8c6222ed",
   "metadata": {},
   "outputs": [
    {
     "data": {
      "image/png": "[encoded data removed]",
      "text/plain": [
       "<Figure size 432x288 with 1 Axes>"
      ]
     },
     "metadata": {},
     "output_type": "display_data"
    }
   ],
   "source": [
    "plt.pie(df['target'].value_counts(), labels=['ham','spam'], autopct ='%0.2f')\n",
    "plt.show()"
   ]
  },
  {
   "cell_type": "code",
   "execution_count": 31,
   "id": "24ee7a00",
   "metadata": {},
   "outputs": [],
   "source": [
    " ## Data is imbalanced"
   ]
  },
  {
   "cell_type": "code",
   "execution_count": 32,
   "id": "77398084",
   "metadata": {},
   "outputs": [],
   "source": [
    "## finding droping any null values in \"text\" column"
   ]
  },
  {
   "cell_type": "code",
   "execution_count": 33,
   "id": "49d58c4a",
   "metadata": {},
   "outputs": [],
   "source": [
    "df.isnull().sum()\n",
    "df.dropna(subset=['text'], inplace = True)"
   ]
  },
  {
   "cell_type": "code",
   "execution_count": 34,
   "id": "652aa762",
   "metadata": {},
   "outputs": [
    {
     "name": "stderr",
     "output_type": "stream",
     "text": [
      "[nltk_data] Downloading package punkt to /home/omuser/nltk_data...\n",
      "[nltk_data]   Package punkt is already up-to-date!\n"
     ]
    },
    {
     "data": {
      "text/plain": [
       "True"
      ]
     },
     "execution_count": 34,
     "metadata": {},
     "output_type": "execute_result"
    }
   ],
   "source": [
    "nltk.download('punkt')"
   ]
  },
  {
   "cell_type": "code",
   "execution_count": 35,
   "id": "23ece41d",
   "metadata": {},
   "outputs": [],
   "source": [
    "## Finding number of characters in each text message"
   ]
  },
  {
   "cell_type": "code",
   "execution_count": 36,
   "id": "22085089",
   "metadata": {},
   "outputs": [],
   "source": [
    "df['num_characters'] = df['text'].apply(len)"
   ]
  },
  {
   "cell_type": "code",
   "execution_count": 37,
   "id": "dc5b6665",
   "metadata": {},
   "outputs": [
    {
     "data": {
      "text/html": [
       "<div>\n",
       "<style scoped>\n",
       "    .dataframe tbody tr th:only-of-type {\n",
       "        vertical-align: middle;\n",
       "    }\n",
       "\n",
       "    .dataframe tbody tr th {\n",
       "        vertical-align: top;\n",
       "    }\n",
       "\n",
       "    .dataframe thead th {\n",
       "        text-align: right;\n",
       "    }\n",
       "</style>\n",
       "<table border=\"1\" class=\"dataframe\">\n",
       "  <thead>\n",
       "    <tr style=\"text-align: right;\">\n",
       "      <th></th>\n",
       "      <th>target</th>\n",
       "      <th>text</th>\n",
       "      <th>num_characters</th>\n",
       "    </tr>\n",
       "  </thead>\n",
       "  <tbody>\n",
       "    <tr>\n",
       "      <th>0</th>\n",
       "      <td>0</td>\n",
       "      <td>Wah lucky man... Then can save money... Hee...</td>\n",
       "      <td>46</td>\n",
       "    </tr>\n",
       "    <tr>\n",
       "      <th>1</th>\n",
       "      <td>0</td>\n",
       "      <td>I'm leaving my house now...</td>\n",
       "      <td>27</td>\n",
       "    </tr>\n",
       "    <tr>\n",
       "      <th>2</th>\n",
       "      <td>0</td>\n",
       "      <td>Just sent it. So what type of food do you like?</td>\n",
       "      <td>47</td>\n",
       "    </tr>\n",
       "    <tr>\n",
       "      <th>3</th>\n",
       "      <td>0</td>\n",
       "      <td>Okies... I'll go yan jiu too... We can skip ar...</td>\n",
       "      <td>95</td>\n",
       "    </tr>\n",
       "    <tr>\n",
       "      <th>4</th>\n",
       "      <td>1</td>\n",
       "      <td>18 days to Euro2004 kickoff! U will be kept in...</td>\n",
       "      <td>135</td>\n",
       "    </tr>\n",
       "  </tbody>\n",
       "</table>\n",
       "</div>"
      ],
      "text/plain": [
       "   target                                               text  num_characters\n",
       "0       0     Wah lucky man... Then can save money... Hee...              46\n",
       "1       0                        I'm leaving my house now...              27\n",
       "2       0    Just sent it. So what type of food do you like?              47\n",
       "3       0  Okies... I'll go yan jiu too... We can skip ar...              95\n",
       "4       1  18 days to Euro2004 kickoff! U will be kept in...             135"
      ]
     },
     "execution_count": 37,
     "metadata": {},
     "output_type": "execute_result"
    }
   ],
   "source": [
    "df.head()"
   ]
  },
  {
   "cell_type": "code",
   "execution_count": 38,
   "id": "f2da7259",
   "metadata": {},
   "outputs": [],
   "source": [
    "## Ploting the number of characters in ham(0) and spam(1) messages"
   ]
  },
  {
   "cell_type": "code",
   "execution_count": 39,
   "id": "a60b2990",
   "metadata": {},
   "outputs": [
    {
     "name": "stderr",
     "output_type": "stream",
     "text": [
      "2024-04-04 00:04:43,960 INFO (MainThread-6307) Using categorical units to plot a list of strings that are all parsable as floats or dates. If these strings should be plotted as numbers, cast to the appropriate data type before plotting.\n",
      "2024-04-04 00:04:43,980 INFO (MainThread-6307) Using categorical units to plot a list of strings that are all parsable as floats or dates. If these strings should be plotted as numbers, cast to the appropriate data type before plotting.\n"
     ]
    },
    {
     "data": {
      "image/png": "[encoded data removed]",
      "text/plain": [
       "<Figure size 432x288 with 1 Axes>"
      ]
     },
     "metadata": {
      "needs_background": "light"
     },
     "output_type": "display_data"
    }
   ],
   "source": [
    "sns.countplot(x=df['target']);"
   ]
  },
  {
   "cell_type": "code",
   "execution_count": 40,
   "id": "f0f7fc9c",
   "metadata": {},
   "outputs": [
    {
     "data": {
      "text/plain": [
       "target\n",
       "0    4516\n",
       "1     654\n",
       "Name: count, dtype: int64"
      ]
     },
     "execution_count": 40,
     "metadata": {},
     "output_type": "execute_result"
    }
   ],
   "source": [
    "df['target'].value_counts()"
   ]
  },
  {
   "cell_type": "code",
   "execution_count": 41,
   "id": "2055b6c5",
   "metadata": {},
   "outputs": [],
   "source": [
    "## data points with the ham label are 6.5 times more than points Spam label, this leads to imbalanced dataset."
   ]
  },
  {
   "cell_type": "code",
   "execution_count": 42,
   "id": "53c1909f",
   "metadata": {},
   "outputs": [
    {
     "name": "stderr",
     "output_type": "stream",
     "text": [
      "2024-04-04 00:04:44,272 INFO (MainThread-6307) Using categorical units to plot a list of strings that are all parsable as floats or dates. If these strings should be plotted as numbers, cast to the appropriate data type before plotting.\n",
      "2024-04-04 00:04:44,298 INFO (MainThread-6307) Using categorical units to plot a list of strings that are all parsable as floats or dates. If these strings should be plotted as numbers, cast to the appropriate data type before plotting.\n"
     ]
    },
    {
     "data": {
      "image/png": "[encoded data removed]",
      "text/plain": [
       "<Figure size 432x288 with 1 Axes>"
      ]
     },
     "metadata": {
      "needs_background": "light"
     },
     "output_type": "display_data"
    }
   ],
   "source": [
    "sns.countplot(x=df['num_characters']);"
   ]
  },
  {
   "cell_type": "code",
   "execution_count": 43,
   "id": "04a6eff4",
   "metadata": {},
   "outputs": [
    {
     "data": {
      "text/plain": [
       "0       [Wah, lucky, man, ..., Then, can, save, money,...\n",
       "1                   [I, 'm, leaving, my, house, now, ...]\n",
       "2       [Just, sent, it, ., So, what, type, of, food, ...\n",
       "3       [Okies, ..., I, 'll, go, yan, jiu, too, ..., W...\n",
       "4       [18, days, to, Euro2004, kickoff, !, U, will, ...\n",
       "                              ...                        \n",
       "5166    [No, need, lar, i, go, engin, ?, Cos, my, sis,...\n",
       "5167              [Mum, not, going, robinson, already, .]\n",
       "5168    [Customer, service, announcement, ., We, recen...\n",
       "5169                                       [Ok, no, prob]\n",
       "5170    [X, course, it, 2yrs, ., Just, so, her, messag...\n",
       "Name: text, Length: 5170, dtype: object"
      ]
     },
     "execution_count": 43,
     "metadata": {},
     "output_type": "execute_result"
    }
   ],
   "source": [
    "## to break text in to words using word_tokenize \n",
    "df['text'].apply(lambda x:nltk.word_tokenize(x))"
   ]
  },
  {
   "cell_type": "code",
   "execution_count": 44,
   "id": "131cd01d",
   "metadata": {},
   "outputs": [
    {
     "data": {
      "text/plain": [
       "0       11\n",
       "1        7\n",
       "2       13\n",
       "3       26\n",
       "4       28\n",
       "        ..\n",
       "5166    14\n",
       "5167     6\n",
       "5168    27\n",
       "5169     3\n",
       "5170    16\n",
       "Name: text, Length: 5170, dtype: int64"
      ]
     },
     "execution_count": 44,
     "metadata": {},
     "output_type": "execute_result"
    }
   ],
   "source": [
    "## added len to find the lenth of words\n",
    "df['text'].apply(lambda x:len(nltk.word_tokenize(x))) "
   ]
  },
  {
   "cell_type": "code",
   "execution_count": 45,
   "id": "c2156c1d",
   "metadata": {},
   "outputs": [],
   "source": [
    "## storing in to a new column num_words\n",
    "df['num_words'] = df['text'].apply(lambda x:len(nltk.word_tokenize(x))) "
   ]
  },
  {
   "cell_type": "code",
   "execution_count": 46,
   "id": "a9ce21cf",
   "metadata": {},
   "outputs": [
    {
     "data": {
      "text/html": [
       "<div>\n",
       "<style scoped>\n",
       "    .dataframe tbody tr th:only-of-type {\n",
       "        vertical-align: middle;\n",
       "    }\n",
       "\n",
       "    .dataframe tbody tr th {\n",
       "        vertical-align: top;\n",
       "    }\n",
       "\n",
       "    .dataframe thead th {\n",
       "        text-align: right;\n",
       "    }\n",
       "</style>\n",
       "<table border=\"1\" class=\"dataframe\">\n",
       "  <thead>\n",
       "    <tr style=\"text-align: right;\">\n",
       "      <th></th>\n",
       "      <th>target</th>\n",
       "      <th>text</th>\n",
       "      <th>num_characters</th>\n",
       "      <th>num_words</th>\n",
       "    </tr>\n",
       "  </thead>\n",
       "  <tbody>\n",
       "    <tr>\n",
       "      <th>0</th>\n",
       "      <td>0</td>\n",
       "      <td>Wah lucky man... Then can save money... Hee...</td>\n",
       "      <td>46</td>\n",
       "      <td>11</td>\n",
       "    </tr>\n",
       "    <tr>\n",
       "      <th>1</th>\n",
       "      <td>0</td>\n",
       "      <td>I'm leaving my house now...</td>\n",
       "      <td>27</td>\n",
       "      <td>7</td>\n",
       "    </tr>\n",
       "    <tr>\n",
       "      <th>2</th>\n",
       "      <td>0</td>\n",
       "      <td>Just sent it. So what type of food do you like?</td>\n",
       "      <td>47</td>\n",
       "      <td>13</td>\n",
       "    </tr>\n",
       "    <tr>\n",
       "      <th>3</th>\n",
       "      <td>0</td>\n",
       "      <td>Okies... I'll go yan jiu too... We can skip ar...</td>\n",
       "      <td>95</td>\n",
       "      <td>26</td>\n",
       "    </tr>\n",
       "    <tr>\n",
       "      <th>4</th>\n",
       "      <td>1</td>\n",
       "      <td>18 days to Euro2004 kickoff! U will be kept in...</td>\n",
       "      <td>135</td>\n",
       "      <td>28</td>\n",
       "    </tr>\n",
       "  </tbody>\n",
       "</table>\n",
       "</div>"
      ],
      "text/plain": [
       "   target                                               text  num_characters  \\\n",
       "0       0     Wah lucky man... Then can save money... Hee...              46   \n",
       "1       0                        I'm leaving my house now...              27   \n",
       "2       0    Just sent it. So what type of food do you like?              47   \n",
       "3       0  Okies... I'll go yan jiu too... We can skip ar...              95   \n",
       "4       1  18 days to Euro2004 kickoff! U will be kept in...             135   \n",
       "\n",
       "   num_words  \n",
       "0         11  \n",
       "1          7  \n",
       "2         13  \n",
       "3         26  \n",
       "4         28  "
      ]
     },
     "execution_count": 46,
     "metadata": {},
     "output_type": "execute_result"
    }
   ],
   "source": [
    "df.head()"
   ]
  },
  {
   "cell_type": "code",
   "execution_count": 47,
   "id": "46f73f2e",
   "metadata": {},
   "outputs": [
    {
     "data": {
      "text/plain": [
       "0        [Wah lucky man... Then can save money... Hee...]\n",
       "1                           [I'm leaving my house now...]\n",
       "2       [Just sent it., So what type of food do you li...\n",
       "3       [Okies..., I'll go yan jiu too... We can skip ...\n",
       "4       [18 days to Euro2004 kickoff!, U will be kept ...\n",
       "                              ...                        \n",
       "5166    [No need lar i go engin?, Cos my sis at arts t...\n",
       "5167                    [Mum not going robinson already.]\n",
       "5168    [Customer service announcement., We recently t...\n",
       "5169                                         [Ok no prob]\n",
       "5170    [X course it 2yrs., Just so her messages on me...\n",
       "Name: text, Length: 5170, dtype: object"
      ]
     },
     "execution_count": 47,
     "metadata": {},
     "output_type": "execute_result"
    }
   ],
   "source": [
    "## to break text in to number of sentences \n",
    "df['text'].apply(lambda x:nltk.sent_tokenize(x)) "
   ]
  },
  {
   "cell_type": "code",
   "execution_count": 48,
   "id": "a6580e1c",
   "metadata": {},
   "outputs": [
    {
     "data": {
      "text/plain": [
       "0       1\n",
       "1       1\n",
       "2       2\n",
       "3       2\n",
       "4       3\n",
       "       ..\n",
       "5166    2\n",
       "5167    1\n",
       "5168    3\n",
       "5169    1\n",
       "5170    2\n",
       "Name: text, Length: 5170, dtype: int64"
      ]
     },
     "execution_count": 48,
     "metadata": {},
     "output_type": "execute_result"
    }
   ],
   "source": [
    "## added len to find the lenth of sentences\n",
    "df['text'].apply(lambda x:len(nltk.sent_tokenize(x))) "
   ]
  },
  {
   "cell_type": "code",
   "execution_count": 49,
   "id": "df0cac45",
   "metadata": {},
   "outputs": [],
   "source": [
    "## storing in to a new column num_sentences\n",
    "df['num_sentences'] = df['text'].apply(lambda x:len(nltk.sent_tokenize(x))) "
   ]
  },
  {
   "cell_type": "code",
   "execution_count": 50,
   "id": "6eb68eb4",
   "metadata": {},
   "outputs": [
    {
     "data": {
      "text/html": [
       "<div>\n",
       "<style scoped>\n",
       "    .dataframe tbody tr th:only-of-type {\n",
       "        vertical-align: middle;\n",
       "    }\n",
       "\n",
       "    .dataframe tbody tr th {\n",
       "        vertical-align: top;\n",
       "    }\n",
       "\n",
       "    .dataframe thead th {\n",
       "        text-align: right;\n",
       "    }\n",
       "</style>\n",
       "<table border=\"1\" class=\"dataframe\">\n",
       "  <thead>\n",
       "    <tr style=\"text-align: right;\">\n",
       "      <th></th>\n",
       "      <th>target</th>\n",
       "      <th>text</th>\n",
       "      <th>num_characters</th>\n",
       "      <th>num_words</th>\n",
       "      <th>num_sentences</th>\n",
       "    </tr>\n",
       "  </thead>\n",
       "  <tbody>\n",
       "    <tr>\n",
       "      <th>0</th>\n",
       "      <td>0</td>\n",
       "      <td>Wah lucky man... Then can save money... Hee...</td>\n",
       "      <td>46</td>\n",
       "      <td>11</td>\n",
       "      <td>1</td>\n",
       "    </tr>\n",
       "    <tr>\n",
       "      <th>1</th>\n",
       "      <td>0</td>\n",
       "      <td>I'm leaving my house now...</td>\n",
       "      <td>27</td>\n",
       "      <td>7</td>\n",
       "      <td>1</td>\n",
       "    </tr>\n",
       "    <tr>\n",
       "      <th>2</th>\n",
       "      <td>0</td>\n",
       "      <td>Just sent it. So what type of food do you like?</td>\n",
       "      <td>47</td>\n",
       "      <td>13</td>\n",
       "      <td>2</td>\n",
       "    </tr>\n",
       "    <tr>\n",
       "      <th>3</th>\n",
       "      <td>0</td>\n",
       "      <td>Okies... I'll go yan jiu too... We can skip ar...</td>\n",
       "      <td>95</td>\n",
       "      <td>26</td>\n",
       "      <td>2</td>\n",
       "    </tr>\n",
       "    <tr>\n",
       "      <th>4</th>\n",
       "      <td>1</td>\n",
       "      <td>18 days to Euro2004 kickoff! U will be kept in...</td>\n",
       "      <td>135</td>\n",
       "      <td>28</td>\n",
       "      <td>3</td>\n",
       "    </tr>\n",
       "  </tbody>\n",
       "</table>\n",
       "</div>"
      ],
      "text/plain": [
       "   target                                               text  num_characters  \\\n",
       "0       0     Wah lucky man... Then can save money... Hee...              46   \n",
       "1       0                        I'm leaving my house now...              27   \n",
       "2       0    Just sent it. So what type of food do you like?              47   \n",
       "3       0  Okies... I'll go yan jiu too... We can skip ar...              95   \n",
       "4       1  18 days to Euro2004 kickoff! U will be kept in...             135   \n",
       "\n",
       "   num_words  num_sentences  \n",
       "0         11              1  \n",
       "1          7              1  \n",
       "2         13              2  \n",
       "3         26              2  \n",
       "4         28              3  "
      ]
     },
     "execution_count": 50,
     "metadata": {},
     "output_type": "execute_result"
    }
   ],
   "source": [
    "df.head()"
   ]
  },
  {
   "cell_type": "code",
   "execution_count": 51,
   "id": "b4bf28e6",
   "metadata": {},
   "outputs": [
    {
     "data": {
      "text/html": [
       "<div>\n",
       "<style scoped>\n",
       "    .dataframe tbody tr th:only-of-type {\n",
       "        vertical-align: middle;\n",
       "    }\n",
       "\n",
       "    .dataframe tbody tr th {\n",
       "        vertical-align: top;\n",
       "    }\n",
       "\n",
       "    .dataframe thead th {\n",
       "        text-align: right;\n",
       "    }\n",
       "</style>\n",
       "<table border=\"1\" class=\"dataframe\">\n",
       "  <thead>\n",
       "    <tr style=\"text-align: right;\">\n",
       "      <th></th>\n",
       "      <th>num_characters</th>\n",
       "      <th>num_words</th>\n",
       "      <th>num_sentences</th>\n",
       "    </tr>\n",
       "  </thead>\n",
       "  <tbody>\n",
       "    <tr>\n",
       "      <th>count</th>\n",
       "      <td>5170.000000</td>\n",
       "      <td>5170.000000</td>\n",
       "      <td>5170.000000</td>\n",
       "    </tr>\n",
       "    <tr>\n",
       "      <th>mean</th>\n",
       "      <td>78.958607</td>\n",
       "      <td>18.510445</td>\n",
       "      <td>1.967311</td>\n",
       "    </tr>\n",
       "    <tr>\n",
       "      <th>std</th>\n",
       "      <td>58.217860</td>\n",
       "      <td>13.402601</td>\n",
       "      <td>1.450377</td>\n",
       "    </tr>\n",
       "    <tr>\n",
       "      <th>min</th>\n",
       "      <td>2.000000</td>\n",
       "      <td>1.000000</td>\n",
       "      <td>1.000000</td>\n",
       "    </tr>\n",
       "    <tr>\n",
       "      <th>25%</th>\n",
       "      <td>36.000000</td>\n",
       "      <td>9.000000</td>\n",
       "      <td>1.000000</td>\n",
       "    </tr>\n",
       "    <tr>\n",
       "      <th>50%</th>\n",
       "      <td>60.000000</td>\n",
       "      <td>15.000000</td>\n",
       "      <td>1.000000</td>\n",
       "    </tr>\n",
       "    <tr>\n",
       "      <th>75%</th>\n",
       "      <td>116.750000</td>\n",
       "      <td>26.000000</td>\n",
       "      <td>2.000000</td>\n",
       "    </tr>\n",
       "    <tr>\n",
       "      <th>max</th>\n",
       "      <td>910.000000</td>\n",
       "      <td>220.000000</td>\n",
       "      <td>38.000000</td>\n",
       "    </tr>\n",
       "  </tbody>\n",
       "</table>\n",
       "</div>"
      ],
      "text/plain": [
       "       num_characters    num_words  num_sentences\n",
       "count     5170.000000  5170.000000    5170.000000\n",
       "mean        78.958607    18.510445       1.967311\n",
       "std         58.217860    13.402601       1.450377\n",
       "min          2.000000     1.000000       1.000000\n",
       "25%         36.000000     9.000000       1.000000\n",
       "50%         60.000000    15.000000       1.000000\n",
       "75%        116.750000    26.000000       2.000000\n",
       "max        910.000000   220.000000      38.000000"
      ]
     },
     "execution_count": 51,
     "metadata": {},
     "output_type": "execute_result"
    }
   ],
   "source": [
    "## apply describe function on total messages\n",
    "df[['num_characters','num_words','num_sentences']].describe()"
   ]
  },
  {
   "cell_type": "code",
   "execution_count": 52,
   "id": "8705d393",
   "metadata": {},
   "outputs": [
    {
     "data": {
      "text/html": [
       "<div>\n",
       "<style scoped>\n",
       "    .dataframe tbody tr th:only-of-type {\n",
       "        vertical-align: middle;\n",
       "    }\n",
       "\n",
       "    .dataframe tbody tr th {\n",
       "        vertical-align: top;\n",
       "    }\n",
       "\n",
       "    .dataframe thead th {\n",
       "        text-align: right;\n",
       "    }\n",
       "</style>\n",
       "<table border=\"1\" class=\"dataframe\">\n",
       "  <thead>\n",
       "    <tr style=\"text-align: right;\">\n",
       "      <th></th>\n",
       "      <th>num_characters</th>\n",
       "      <th>num_words</th>\n",
       "      <th>num_sentences</th>\n",
       "    </tr>\n",
       "  </thead>\n",
       "  <tbody>\n",
       "    <tr>\n",
       "      <th>count</th>\n",
       "      <td>4516.000000</td>\n",
       "      <td>4516.000000</td>\n",
       "      <td>4516.000000</td>\n",
       "    </tr>\n",
       "    <tr>\n",
       "      <th>mean</th>\n",
       "      <td>70.497121</td>\n",
       "      <td>17.179805</td>\n",
       "      <td>1.821302</td>\n",
       "    </tr>\n",
       "    <tr>\n",
       "      <th>std</th>\n",
       "      <td>56.416422</td>\n",
       "      <td>13.584517</td>\n",
       "      <td>1.384521</td>\n",
       "    </tr>\n",
       "    <tr>\n",
       "      <th>min</th>\n",
       "      <td>2.000000</td>\n",
       "      <td>1.000000</td>\n",
       "      <td>1.000000</td>\n",
       "    </tr>\n",
       "    <tr>\n",
       "      <th>25%</th>\n",
       "      <td>34.000000</td>\n",
       "      <td>8.000000</td>\n",
       "      <td>1.000000</td>\n",
       "    </tr>\n",
       "    <tr>\n",
       "      <th>50%</th>\n",
       "      <td>52.000000</td>\n",
       "      <td>13.000000</td>\n",
       "      <td>1.000000</td>\n",
       "    </tr>\n",
       "    <tr>\n",
       "      <th>75%</th>\n",
       "      <td>90.000000</td>\n",
       "      <td>22.000000</td>\n",
       "      <td>2.000000</td>\n",
       "    </tr>\n",
       "    <tr>\n",
       "      <th>max</th>\n",
       "      <td>910.000000</td>\n",
       "      <td>220.000000</td>\n",
       "      <td>38.000000</td>\n",
       "    </tr>\n",
       "  </tbody>\n",
       "</table>\n",
       "</div>"
      ],
      "text/plain": [
       "       num_characters    num_words  num_sentences\n",
       "count     4516.000000  4516.000000    4516.000000\n",
       "mean        70.497121    17.179805       1.821302\n",
       "std         56.416422    13.584517       1.384521\n",
       "min          2.000000     1.000000       1.000000\n",
       "25%         34.000000     8.000000       1.000000\n",
       "50%         52.000000    13.000000       1.000000\n",
       "75%         90.000000    22.000000       2.000000\n",
       "max        910.000000   220.000000      38.000000"
      ]
     },
     "execution_count": 52,
     "metadata": {},
     "output_type": "execute_result"
    }
   ],
   "source": [
    "## apply describe function on \"ham\" messages\n",
    "df[df['target'] == 0][['num_characters','num_words','num_sentences']].describe()"
   ]
  },
  {
   "cell_type": "code",
   "execution_count": 53,
   "id": "e23dec74",
   "metadata": {},
   "outputs": [
    {
     "data": {
      "text/html": [
       "<div>\n",
       "<style scoped>\n",
       "    .dataframe tbody tr th:only-of-type {\n",
       "        vertical-align: middle;\n",
       "    }\n",
       "\n",
       "    .dataframe tbody tr th {\n",
       "        vertical-align: top;\n",
       "    }\n",
       "\n",
       "    .dataframe thead th {\n",
       "        text-align: right;\n",
       "    }\n",
       "</style>\n",
       "<table border=\"1\" class=\"dataframe\">\n",
       "  <thead>\n",
       "    <tr style=\"text-align: right;\">\n",
       "      <th></th>\n",
       "      <th>num_characters</th>\n",
       "      <th>num_words</th>\n",
       "      <th>num_sentences</th>\n",
       "    </tr>\n",
       "  </thead>\n",
       "  <tbody>\n",
       "    <tr>\n",
       "      <th>count</th>\n",
       "      <td>654.000000</td>\n",
       "      <td>654.000000</td>\n",
       "      <td>654.000000</td>\n",
       "    </tr>\n",
       "    <tr>\n",
       "      <th>mean</th>\n",
       "      <td>137.386850</td>\n",
       "      <td>27.698777</td>\n",
       "      <td>2.975535</td>\n",
       "    </tr>\n",
       "    <tr>\n",
       "      <th>std</th>\n",
       "      <td>30.134896</td>\n",
       "      <td>7.011439</td>\n",
       "      <td>1.494046</td>\n",
       "    </tr>\n",
       "    <tr>\n",
       "      <th>min</th>\n",
       "      <td>13.000000</td>\n",
       "      <td>2.000000</td>\n",
       "      <td>1.000000</td>\n",
       "    </tr>\n",
       "    <tr>\n",
       "      <th>25%</th>\n",
       "      <td>131.000000</td>\n",
       "      <td>25.000000</td>\n",
       "      <td>2.000000</td>\n",
       "    </tr>\n",
       "    <tr>\n",
       "      <th>50%</th>\n",
       "      <td>148.000000</td>\n",
       "      <td>29.000000</td>\n",
       "      <td>3.000000</td>\n",
       "    </tr>\n",
       "    <tr>\n",
       "      <th>75%</th>\n",
       "      <td>157.000000</td>\n",
       "      <td>32.000000</td>\n",
       "      <td>4.000000</td>\n",
       "    </tr>\n",
       "    <tr>\n",
       "      <th>max</th>\n",
       "      <td>223.000000</td>\n",
       "      <td>46.000000</td>\n",
       "      <td>9.000000</td>\n",
       "    </tr>\n",
       "  </tbody>\n",
       "</table>\n",
       "</div>"
      ],
      "text/plain": [
       "       num_characters   num_words  num_sentences\n",
       "count      654.000000  654.000000     654.000000\n",
       "mean       137.386850   27.698777       2.975535\n",
       "std         30.134896    7.011439       1.494046\n",
       "min         13.000000    2.000000       1.000000\n",
       "25%        131.000000   25.000000       2.000000\n",
       "50%        148.000000   29.000000       3.000000\n",
       "75%        157.000000   32.000000       4.000000\n",
       "max        223.000000   46.000000       9.000000"
      ]
     },
     "execution_count": 53,
     "metadata": {},
     "output_type": "execute_result"
    }
   ],
   "source": [
    "## apply describe function on \"spam\" messages\n",
    "df[df['target'] == 1][['num_characters','num_words','num_sentences']].describe()"
   ]
  },
  {
   "cell_type": "code",
   "execution_count": 54,
   "id": "77020c9e",
   "metadata": {},
   "outputs": [],
   "source": [
    "## Visualization of ham and spam messages number of characters."
   ]
  },
  {
   "cell_type": "code",
   "execution_count": 55,
   "id": "a4452faf",
   "metadata": {},
   "outputs": [
    {
     "data": {
      "image/png": "[encoded data removed]",
      "text/plain": [
       "<Figure size 864x432 with 1 Axes>"
      ]
     },
     "metadata": {
      "needs_background": "light"
     },
     "output_type": "display_data"
    }
   ],
   "source": [
    "plt.figure(figsize=(12,6))\n",
    "sns.histplot(df[df['target'] == 0]['num_characters'])\n",
    "sns.histplot(df[df['target'] == 1]['num_characters'], color ='red');"
   ]
  },
  {
   "cell_type": "code",
   "execution_count": 56,
   "id": "390a2d9f",
   "metadata": {},
   "outputs": [],
   "source": [
    "## Visualization of ham and spam messages number of words."
   ]
  },
  {
   "cell_type": "code",
   "execution_count": 57,
   "id": "90c4efe1",
   "metadata": {},
   "outputs": [
    {
     "data": {
      "image/png": "[encoded data removed]",
      "text/plain": [
       "<Figure size 864x432 with 1 Axes>"
      ]
     },
     "metadata": {
      "needs_background": "light"
     },
     "output_type": "display_data"
    }
   ],
   "source": [
    "plt.figure(figsize=(12,6))\n",
    "sns.histplot(df[df['target'] == 0]['num_words'])\n",
    "sns.histplot(df[df['target'] == 1]['num_words'], color ='red');"
   ]
  },
  {
   "cell_type": "code",
   "execution_count": 58,
   "id": "72528931",
   "metadata": {},
   "outputs": [],
   "source": [
    "## Visualization of pairplot on number of characters, number of words, number of sentences."
   ]
  },
  {
   "cell_type": "code",
   "execution_count": 59,
   "id": "bff535bd",
   "metadata": {
    "scrolled": true
   },
   "outputs": [
    {
     "data": {
      "image/png": "[encoded data removed]",
      "text/plain": [
       "<Figure size 582.375x540 with 12 Axes>"
      ]
     },
     "metadata": {
      "needs_background": "light"
     },
     "output_type": "display_data"
    }
   ],
   "source": [
    "sns.pairplot(df, hue = 'target');"
   ]
  },
  {
   "cell_type": "code",
   "execution_count": null,
   "id": "6ebdb8bb",
   "metadata": {},
   "outputs": [],
   "source": []
  },
  {
   "cell_type": "markdown",
   "id": "2dfe15da",
   "metadata": {},
   "source": [
    "## Section 3: Data Preprocessing"
   ]
  },
  {
   "cell_type": "code",
   "execution_count": 60,
   "id": "c73bf961",
   "metadata": {},
   "outputs": [],
   "source": [
    "## 1. Lower Case\n",
    "## 2. Tokenization\n",
    "## 3. Removing special characters\n",
    "## 4. Removing stop words and punctuation\n",
    "## 5. Stemming"
   ]
  },
  {
   "cell_type": "code",
   "execution_count": 61,
   "id": "375c22ea",
   "metadata": {},
   "outputs": [
    {
     "name": "stderr",
     "output_type": "stream",
     "text": [
      "[nltk_data] Downloading package stopwords to /home/omuser/nltk_data...\n",
      "[nltk_data]   Package stopwords is already up-to-date!\n"
     ]
    }
   ],
   "source": [
    "from nltk.corpus import stopwords\n",
    "import nltk\n",
    "nltk.download('stopwords')\n",
    "import string\n",
    "from nltk.stem.porter import PorterStemmer\n",
    "ps = PorterStemmer()"
   ]
  },
  {
   "cell_type": "code",
   "execution_count": 62,
   "id": "97f0a709",
   "metadata": {},
   "outputs": [],
   "source": [
    "def transform_text(text):\n",
    "    text = text.lower()\n",
    "    text = nltk.word_tokenize(text)\n",
    "    \n",
    "    y = []\n",
    "    for i in text:\n",
    "        if i.isalnum():\n",
    "            y.append(i)\n",
    "            \n",
    "    text = y[:]\n",
    "    y.clear()\n",
    "    \n",
    "    for i in text:\n",
    "        if i not in stopwords.words('english') and i not in string.punctuation:\n",
    "            y.append(i)\n",
    "    \n",
    "    text = y[:]\n",
    "    y.clear()\n",
    "    \n",
    "    for i in text:\n",
    "        y.append(ps.stem(i))\n",
    "    \n",
    "    return \" \".join(y)"
   ]
  },
  {
   "cell_type": "code",
   "execution_count": 63,
   "id": "3289b780",
   "metadata": {},
   "outputs": [
    {
     "data": {
      "text/plain": [
       "0                            wah lucki man save money hee\n",
       "1                                               leav hous\n",
       "2                                     sent type food like\n",
       "3       oki go yan jiu skip ard oso go cine den go mrt...\n",
       "4       18 day euro2004 kickoff u kept inform latest n...\n",
       "                              ...                        \n",
       "5166                    need lar go engin co si art today\n",
       "5167                              mum go robinson alreadi\n",
       "5168    custom servic announc recent tri make deliveri...\n",
       "5169                                              ok prob\n",
       "5170                x cours 2yr messag messeng lik r send\n",
       "Name: text, Length: 5170, dtype: object"
      ]
     },
     "execution_count": 63,
     "metadata": {},
     "output_type": "execute_result"
    }
   ],
   "source": [
    "## applying the above transform_text function on our original text coulmn\n",
    "df['text'].apply(transform_text) "
   ]
  },
  {
   "cell_type": "code",
   "execution_count": 64,
   "id": "e78bb016",
   "metadata": {},
   "outputs": [],
   "source": [
    "## creating transformed text column.\n",
    "df['transformed_text'] = df['text'].apply(transform_text) "
   ]
  },
  {
   "cell_type": "code",
   "execution_count": 65,
   "id": "132b226d",
   "metadata": {},
   "outputs": [
    {
     "data": {
      "text/html": [
       "<div>\n",
       "<style scoped>\n",
       "    .dataframe tbody tr th:only-of-type {\n",
       "        vertical-align: middle;\n",
       "    }\n",
       "\n",
       "    .dataframe tbody tr th {\n",
       "        vertical-align: top;\n",
       "    }\n",
       "\n",
       "    .dataframe thead th {\n",
       "        text-align: right;\n",
       "    }\n",
       "</style>\n",
       "<table border=\"1\" class=\"dataframe\">\n",
       "  <thead>\n",
       "    <tr style=\"text-align: right;\">\n",
       "      <th></th>\n",
       "      <th>target</th>\n",
       "      <th>text</th>\n",
       "      <th>num_characters</th>\n",
       "      <th>num_words</th>\n",
       "      <th>num_sentences</th>\n",
       "      <th>transformed_text</th>\n",
       "    </tr>\n",
       "  </thead>\n",
       "  <tbody>\n",
       "    <tr>\n",
       "      <th>0</th>\n",
       "      <td>0</td>\n",
       "      <td>Wah lucky man... Then can save money... Hee...</td>\n",
       "      <td>46</td>\n",
       "      <td>11</td>\n",
       "      <td>1</td>\n",
       "      <td>wah lucki man save money hee</td>\n",
       "    </tr>\n",
       "    <tr>\n",
       "      <th>1</th>\n",
       "      <td>0</td>\n",
       "      <td>I'm leaving my house now...</td>\n",
       "      <td>27</td>\n",
       "      <td>7</td>\n",
       "      <td>1</td>\n",
       "      <td>leav hous</td>\n",
       "    </tr>\n",
       "    <tr>\n",
       "      <th>2</th>\n",
       "      <td>0</td>\n",
       "      <td>Just sent it. So what type of food do you like?</td>\n",
       "      <td>47</td>\n",
       "      <td>13</td>\n",
       "      <td>2</td>\n",
       "      <td>sent type food like</td>\n",
       "    </tr>\n",
       "    <tr>\n",
       "      <th>3</th>\n",
       "      <td>0</td>\n",
       "      <td>Okies... I'll go yan jiu too... We can skip ar...</td>\n",
       "      <td>95</td>\n",
       "      <td>26</td>\n",
       "      <td>2</td>\n",
       "      <td>oki go yan jiu skip ard oso go cine den go mrt...</td>\n",
       "    </tr>\n",
       "    <tr>\n",
       "      <th>4</th>\n",
       "      <td>1</td>\n",
       "      <td>18 days to Euro2004 kickoff! U will be kept in...</td>\n",
       "      <td>135</td>\n",
       "      <td>28</td>\n",
       "      <td>3</td>\n",
       "      <td>18 day euro2004 kickoff u kept inform latest n...</td>\n",
       "    </tr>\n",
       "  </tbody>\n",
       "</table>\n",
       "</div>"
      ],
      "text/plain": [
       "   target                                               text  num_characters  \\\n",
       "0       0     Wah lucky man... Then can save money... Hee...              46   \n",
       "1       0                        I'm leaving my house now...              27   \n",
       "2       0    Just sent it. So what type of food do you like?              47   \n",
       "3       0  Okies... I'll go yan jiu too... We can skip ar...              95   \n",
       "4       1  18 days to Euro2004 kickoff! U will be kept in...             135   \n",
       "\n",
       "   num_words  num_sentences                                   transformed_text  \n",
       "0         11              1                       wah lucki man save money hee  \n",
       "1          7              1                                          leav hous  \n",
       "2         13              2                                sent type food like  \n",
       "3         26              2  oki go yan jiu skip ard oso go cine den go mrt...  \n",
       "4         28              3  18 day euro2004 kickoff u kept inform latest n...  "
      ]
     },
     "execution_count": 65,
     "metadata": {},
     "output_type": "execute_result"
    }
   ],
   "source": [
    "df.head()"
   ]
  },
  {
   "cell_type": "code",
   "execution_count": 66,
   "id": "58a959a3",
   "metadata": {},
   "outputs": [],
   "source": [
    "from wordcloud import WordCloud\n",
    "wc = WordCloud(width = 500, height = 500, min_font_size = 10, background_color = 'white')"
   ]
  },
  {
   "cell_type": "code",
   "execution_count": 67,
   "id": "5f4949eb",
   "metadata": {},
   "outputs": [],
   "source": [
    "## applying wordcloud on spam transformed text messages.\n",
    "spam_wc = wc.generate(df[df['target'] == 1]['transformed_text'].str.cat(sep=\" \"))"
   ]
  },
  {
   "cell_type": "code",
   "execution_count": 68,
   "id": "aeef918a",
   "metadata": {},
   "outputs": [
    {
     "data": {
      "image/png": "[encoded data removed]",
      "text/plain": [
       "<Figure size 1080x432 with 1 Axes>"
      ]
     },
     "metadata": {
      "needs_background": "light"
     },
     "output_type": "display_data"
    }
   ],
   "source": [
    "## plot the spam word cloud\n",
    "plt.figure(figsize=(15,6))\n",
    "plt.imshow(spam_wc);"
   ]
  },
  {
   "cell_type": "code",
   "execution_count": 69,
   "id": "9a2c8fc5",
   "metadata": {},
   "outputs": [],
   "source": [
    "## applying wordcloud on ham transformed text messages.\n",
    "ham_wc = wc.generate(df[df['target'] == 0]['transformed_text'].str.cat(sep=\" \"))"
   ]
  },
  {
   "cell_type": "code",
   "execution_count": 70,
   "id": "6b6757c1",
   "metadata": {},
   "outputs": [
    {
     "data": {
      "image/png": "[encoded data removed]",
      "text/plain": [
       "<Figure size 1080x432 with 1 Axes>"
      ]
     },
     "metadata": {
      "needs_background": "light"
     },
     "output_type": "display_data"
    }
   ],
   "source": [
    "## plot the ham word cloud\n",
    "plt.figure(figsize=(15,6))\n",
    "plt.imshow(ham_wc);"
   ]
  },
  {
   "cell_type": "code",
   "execution_count": 71,
   "id": "1bec0225",
   "metadata": {},
   "outputs": [
    {
     "data": {
      "text/plain": [
       "['18 day euro2004 kickoff u kept inform latest news result daili unsubscrib send get euro stop 83222',\n",
       " 'free entri weekli comp send word win 80086 18 c',\n",
       " 'tri call repli sm video mobil 750 min unlimit text free camcord repli call 08000930705 del thur',\n",
       " 'loan purpos even bad credit tenant welcom call 08717111821',\n",
       " 'sunshin quiz wkli q win top soni dvd player u know countri liverpool play mid week txt ansr 82277 sp tyron',\n",
       " 'forward 21870000 hi mailbox messag sm alert 4 messag 21 match pleas call back 09056242159 retriev messag match',\n",
       " 'get offici england poli rington colour flag yer mobil tonight game text tone flag optout txt eng stop box39822 w111wx',\n",
       " 'free video camera phone half price line rental 12 mth 500 cross ntwk min 100 txt call mobileupd8 08001950382',\n",
       " 'mobil number claim call us back ring claim hot line 09050005321',\n",
       " 'guarante award even cashto claim ur award call free 08000407165 2 stop getstop 88222 php rg21 4jx',\n",
       " 'bear pic nick tom pete dick fact type tri gay chat photo upload call 08718730666 2 stop text call 08712460324',\n",
       " 'call 09094100151 use ur min call cast mob vari servic provid aom aom box61 m60 1er u stop age',\n",
       " 'urgent mobil number award bonu caller prize call 09058095201 land line valid 12hr',\n",
       " 'freemsg claim ur 250 sm ok 84025 use web2mobil 2 ur mate etc join c box139 la32wu 16 remov txtx stop',\n",
       " 'well still bit left guy want tonight',\n",
       " 'messag free welcom new improv sex dog club unsubscrib servic repli stop msg 150p',\n",
       " 'chase us sinc sept definit pay thank inform ignor kath manchest',\n",
       " 'decemb mobil entitl updat latest colour camera mobil free call mobil updat co free 08002986906',\n",
       " 'free top rington weekli 1st week subpoli 3 per',\n",
       " 'urgent pleas call 09061743810 landlin abta complimentari 4 tenerif holiday 5000 cash await collect sae cs box 326 cw25wx 150 ppm',\n",
       " 'accordingli repeat text word ok mobil phone send',\n",
       " 'urgent call 09061749602 landlin complimentari 4 tenerif holiday cash await collect sae cs box 528 hp20 1yf 150ppm',\n",
       " 'brand new mobil music servic live free music player arriv shortli instal phone brows content top artist',\n",
       " 'rct thnq adrian u text rgd vatian',\n",
       " 'gent tri contact last weekend draw show prize guarante call claim code k52 valid 12hr 150ppm',\n",
       " 'want 2 get laid tonight want real dog locat sent direct 2 ur mob join uk largest dog network bt txting gravel 69888 nt ec2a 150p',\n",
       " 'congrat nokia 3650 video camera phone call 09066382422 call cost 150ppm ave call 3min vari mobil close 300603 post bcm4284 ldn wc1n3xx',\n",
       " 'freemsg txt call 86888 claim reward 3 hour talk time use phone inc 3hr 16 stop txtstop',\n",
       " 'discount code rp176781 stop messag repli stop custom servic 08717205546',\n",
       " '4mth half price orang line rental latest camera phone 4 free phone call mobilesdirect free 08000938767 updat or2stoptxt cs',\n",
       " 'dear u invit xchat final attempt contact u txt chat 86688 ldn 18 yr',\n",
       " 'sale arsen dartboard good condit doubl trebl',\n",
       " 'bank granit issu explos pick member 300 nasdaq symbol cdgt per',\n",
       " 'privat 2003 account statement show 800 point call 08715203685 identifi expir',\n",
       " 'freemsg hey darl 3 week word back like fun still tb ok xxx std chg send rcv',\n",
       " 'tri contact offer new video phone 750 anytim network min half price rental camcord call 08000930705 repli deliveri wed',\n",
       " 'thank 4 continu support question week enter u in2 draw 4 cash name new us presid txt an 80082',\n",
       " 'reciev tone within next 24hr term condit pleas see channel u teletext pg 750',\n",
       " 'sex ur mobil free sexi pic jordan text babe everi wk get sexi celeb 4 pic 16 087016248',\n",
       " 'summer final fanci chat flirt sexi singl yr area get match repli summer free 2 join optout txt stop help08714742804',\n",
       " 'forward 21870000 hi mailbox messag sm alert 40 match pleas call back 09056242159 retriev messag match',\n",
       " 'show ur colour euro 2004 offer get england flag 3lion tone ur phone click follow servic messag info',\n",
       " 'text meet someon sexi today u find date even flirt join 4 10p repli name age eg sam 25 18 recd thirtyeight penc',\n",
       " 'freemsg fav xma tone repli real',\n",
       " 'congratul thank good friend u xma prize 2 claim easi call 08718726978 10p per minut',\n",
       " 'special select receiv award call 08712402050 line close cost 10ppm cs appli ag promo',\n",
       " 'congratul thank good friend u xma prize 2 claim easi call 08718726971 10p per minut',\n",
       " 'get brand new mobil phone agent mob plu load goodi info text mat 87021',\n",
       " 'ur current 500 pound maxim ur send go 86688 cc 08718720201',\n",
       " 'today voda number end 7548 select receiv 350 award match pleas call 08712300220 quot claim code 4041 standard rate app',\n",
       " 'privat 2003 account statement 07808 xxxxxx show 800 point call 08719899217 identifi code 41685 expir',\n",
       " 'free rington repli real poli eg real1 pushbutton dontcha babygoodby golddigg webeburnin 1st tone free 6 u join',\n",
       " 'dear voucher holder claim week offer pc pleas go http ts cs appli',\n",
       " 'ur award citi break could win summer shop spree everi wk txt store 88039 skilgm tscs087147403231winawk age16',\n",
       " 'guess somebodi know secretli fanci wan na find give us call 09065394514 landlin datebox1282essexcm61xn 18',\n",
       " 'free 1st week entri 2 textpod 4 chanc 2 win 40gb ipod cash everi wk txt pod 84128 ts cs custcar 08712405020',\n",
       " 'new textbuddi chat 2 horni guy ur area 4 25p free 2 receiv search postcod txt one name 89693 08715500022 rpl stop 2 cnl',\n",
       " 'urgent mobil number bonu caller prize 2nd attempt reach call 09066368753 asap box 97n7qp 150ppm',\n",
       " 'knock knock txt whose 80082 enter r weekli draw 4 gift voucher 4 store yr choic cs age16',\n",
       " 'win cash prize prize worth',\n",
       " 'pro video club need help info call 08701237397 must club credit redeem enjoy',\n",
       " 'u win music gift voucher everi week start txt word draw 87066 tsc',\n",
       " 'free msg get gnarl barkley rington total free repli go messag right',\n",
       " 'valentin day special win quiz take partner trip lifetim send go 83600 rcvd',\n",
       " 'free msg sorri servic order 81303 could deliv suffici credit pleas top receiv servic',\n",
       " 'urgent tri contact today draw show prize guarante call 09050003091 land line claim c52 valid 12hr',\n",
       " 'urgent pleas call 09066612661 landlin complimentari 4 lux costa del sol holiday cash await collect ppm 150 sae cs jame 28 eh74rr',\n",
       " 'free msg rington http wml 37819',\n",
       " 'urgent tri contact today draw show prize guarante call 09050001808 land line claim m95 valid12hr',\n",
       " '1000 flirt txt girl bloke ur name age eg girl zoe 18 8007 join get chat',\n",
       " 'u nokia 6230 plu free digit camera u get u win free auction take part send nokia 83383 16',\n",
       " 'dear voucher holder 2 claim 1st class airport loung pass use holiday voucher call book quot 1st class x 2',\n",
       " 'cash prize claim call09050000327 c rstm sw7 3ss 150ppm',\n",
       " 'jamster get free wallpap text heart 88888 c appli 16 need help call 08701213186',\n",
       " 'privat 2003 account statement 07753741225 show 800 point call 08715203677 identifi code 42478 expir',\n",
       " '07801543489 guarante latest nokia phone 40gb ipod mp3 player prize txt word collect',\n",
       " 'u r winner u ave special select 2 receiv cash 4 holiday flight inc speak live oper 2 claim 18',\n",
       " 'complimentari 4 star ibiza holiday cash need urgent collect 09066364349 landlin lose',\n",
       " 'award sipix digit camera call 09061221061 landlin deliveri within 28day cs box177 m221bp 2yr warranti 150ppm 16 p',\n",
       " 'ur current 500 pound maxim ur send cash 86688 cc 08718720201 po box',\n",
       " 'want new video handset 750 time network min unlimit text camcord repli call 08000930705 del sat',\n",
       " 'free messag activ 500 free text messag repli messag word free term condit visit',\n",
       " 'orang custom may claim free camera phone upgrad loyalti call 0207 153 offer end 14thmarch c appli availa',\n",
       " '8007 25p 4 alfi moon children need song ur mob tell ur m8 txt tone chariti 8007 nokia poli chariti poli zed 08701417012 profit 2 chariti',\n",
       " 'hear new barbi come ken stuff',\n",
       " 'hello need posh bird chap user trial prod champney put need address dob asap ta r',\n",
       " 'tri contact repli offer video handset 750 anytim network min unlimit text camcord repli call 08000930705',\n",
       " 'sparkl shop break 45 per person call 0121 2025050 visit',\n",
       " '22 day kick euro2004 u kept date latest news result daili remov send get txt stop 83222',\n",
       " 'u secret admir look 2 make contact r reveal think ur 09058094599',\n",
       " 'hey boy want hot xxx pic sent direct 2 ur phone txt porn 69855 24hr free 50p per day stop text stopbcm sf wc1n3xx',\n",
       " 'messag free welcom new improv sex dog club unsubscrib servic repli stop msg 150p 18',\n",
       " '1 new messag pleas call 08715205273',\n",
       " 'repli name address receiv post week complet free accommod variou global locat',\n",
       " '08714712388 cost 10p',\n",
       " 'u secret admir reveal think u r special call opt repli reveal stop per msg recd cust care 07821230901',\n",
       " 'win winner foley ipod excit prize soon keep eye ur mobil visit',\n",
       " 'latest nokia mobil ipod mp3 player proze guarante repli win 83355 norcorp',\n",
       " 'record indic u mayb entitl 5000 pound compens accid claim 4 free repli claim msg 2 stop txt stop',\n",
       " 'import custom servic announc premier',\n",
       " 'dont forget place mani free request wish inform call 08707808226',\n",
       " 'goal arsen 4 henri 7 v liverpool 2 henri score simpl shot 6 yard pass bergkamp give arsen 2 goal margin 78 min',\n",
       " 'privat 2003 account statement show 800 point call 08719899230 identifi code 41685 expir',\n",
       " 'tell u 2 call 09066358152 claim prize u 2 enter ur mobil person detail prompt care',\n",
       " 'receiv week tripl echo rington shortli enjoy',\n",
       " 'guarante cash prize claim yr prize call custom servic repres 08714712379 cost 10p',\n",
       " 'u secret admir look 2 make contact r reveal think ur',\n",
       " 'ou guarante latest nokia phone 40gb ipod mp3 player prize txt word collect 83355 ibhltd ldnw15h',\n",
       " 'urgent tri contact today draw show prize guarante call 09058094507 land line claim valid 12hr',\n",
       " 'six chanc win cash 100 pound txt csh11 send cost 6day tsandc appli repli hl 4 info',\n",
       " 'congratul week competit draw u prize claim call 09050002311 b4280703 sm 18 150ppm',\n",
       " 'last chanc 2 claim ur worth discount ye 85023 offer mobil cs 08717898035 sub 16 remov txt x stop',\n",
       " '500 free text messag valid 31 decemb 2005',\n",
       " '88800 89034 premium phone servic call 08718711108',\n",
       " '1 new voicemail pleas call 08719181513',\n",
       " 'messag brought gmw connect',\n",
       " 'phoni award today voda number end xxxx select receiv award match pleas call 08712300220 quot claim code 3100 standard rate app',\n",
       " 'urgent 2nd attempt contact prize yesterday still await collect claim call 09061702893',\n",
       " 'free unlimit hardcor porn direct 2 mobil txt porn 69200 get free access 24 hr chrgd 50p per day txt stop 2exit msg free',\n",
       " 'miss call alert number call left messag 07008009200',\n",
       " 'great new offer doubl min doubl txt best orang tariff get latest camera phone 4 free call mobileupd8 free 08000839402 2stoptxt cs',\n",
       " 'sunshin quiz wkli q win top soni dvd player u know countri algarv txt ansr 82277 sp tyron',\n",
       " 'text pass 69669 collect polyphon rington normal gpr charg appli enjoy tone',\n",
       " 'urgent tri contact last weekend draw show u prize guarante call 09064017295 claim code k52 valid 12hr 150p pm',\n",
       " 'urgent tri contact today draw show prize guarante call 09066358361 land line claim y87 valid 12hr',\n",
       " 'win newest potter order phoenix book 5 repli harri answer 5 question chanc first among reader',\n",
       " 'guarante award even cashto claim ur award call free 08000407165 2 stop getstop 88222 php',\n",
       " 'orang bring rington time chart hero free hit week go rington pic wap stop receiv tip repli stop',\n",
       " 'import inform 4 orang user today lucki day 2find log onto http fantast surpris await',\n",
       " 'thank subscript rington uk mobil charg pleas confirm repli ye repli charg',\n",
       " 'hi luci hubbi meetin day fri b alon hotel u fanci cumin pl leav msg 2day 09099726395 luci x',\n",
       " 'call freephon 0800 542 0578',\n",
       " 'final chanc claim ur worth discount voucher today text ye 85023 savamob member offer mobil cs savamob pobox84 m263uz sub 16',\n",
       " 'romcapspam everyon around respond well presenc sinc warm outgo bring real breath sunshin',\n",
       " 'free msg bill mobil number mistak shortcod call 08081263000 charg call free bt landlin',\n",
       " 'oh god found number glad text back xafter msg cst std ntwk chg',\n",
       " 'privat 2003 account statement 07973788240 show 800 point call 08715203649 identifi code 40533 expir',\n",
       " 'cmon babe make horni turn txt fantasi babe im hot sticki need repli cost 2 cancel send stop',\n",
       " 'dear voucher holder 2 claim week offer pc go http ts cs stop text txt stop 80062',\n",
       " 'bore housew chat n date rate landlin',\n",
       " 'forward 448712404000 pleas call 08712404000 immedi urgent messag wait',\n",
       " 'good luck draw take place 28th feb good luck remov send stop 87239 custom servic 08708034412',\n",
       " 'doubl min txt 4 6month free bluetooth orang avail soni nokia motorola phone call mobileupd8 08000839402',\n",
       " 'loan purpos homeown tenant welcom previous refus still help call free 0800 1956669 text back',\n",
       " 'sorri miss call let talk time 07090201529',\n",
       " 'urgent 1 week free membership prize jackpot txt word claim 81010 c lccltd pobox 4403ldnw1a7rw18',\n",
       " 'well done 4 costa del sol holiday await collect call 09050090044 toclaim sae tc pobox334 stockport sk38xh max10min',\n",
       " 'xma prize draw tri contact today draw show prize guarante call 09058094565 land line valid 12hr',\n",
       " 'new 2 club dont fink met yet b gr8 2 c u pleas leav msg 2day wiv ur area 09099726553 repli promis carli x lkpobox177hp51fl',\n",
       " 'uniqu user id remov send stop 87239 custom servic 08708034412',\n",
       " 'u subscrib best mobil content servic uk per 10 day send stop helplin 08706091795',\n",
       " 'urgent mobil number award prize guarante call 09061790121 land line claim valid 12hr 150ppm',\n",
       " 'ur current 500 pound maxim ur send cash 86688 cc 08708800282',\n",
       " '8007 free 1st week no1 nokia tone 4 ur mob everi week txt nokia 8007 get txting tell ur mate pobox 36504 w4 5wq norm',\n",
       " 'spook mob halloween collect logo pic messag plu free eeri tone txt card spook 8007 zed 08701417012150p per',\n",
       " 'interflora late order interflora flower christma call 0800 505060 place order midnight tomorrow',\n",
       " 'congrat 1 year special cinema pass 2 call 09061209465 c suprman v matrix3 starwars3 etc 4 free 150pm dont miss',\n",
       " 'ur chanc win cash everi wk txt action c custcar 08712405022',\n",
       " 'text82228 get rington logo game question info',\n",
       " 'congratul winner august prize draw call 09066660100 prize code 2309',\n",
       " 'urgent ur award complimentari trip eurodisinc trav aco entry41 claim txt di 87121 morefrmmob shracomorsglsuplt 10 ls1 3aj',\n",
       " 'auction round highest bid next maximum bid bid send bid 10 bid good luck',\n",
       " 'custom servic announc recent tri make deliveri unabl pleas call 07090298926',\n",
       " 'let send free anonym mask messag im send messag see potenti abus',\n",
       " 'tri contact repli offer video phone 750 anytim network min half price line rental camcord repli call 08000930705',\n",
       " 'credit top http renew pin tgxxrz',\n",
       " 'next amaz xxx picsfree1 video sent enjoy one vid enough 2day text back keyword picsfree1 get next video',\n",
       " 'marri local women look discreet action 5 real match instantli phone text match 69969 msg cost 150p 2 stop txt stop bcmsfwc1n3xx',\n",
       " 'thank rington order refer number x49 mobil charg tone arriv pleas call custom servic text txtstar',\n",
       " 'get 3 lion england tone repli lionm 4 mono lionp 4 poli 4 go 2 origin n best tone 3gbp network oper rate appli',\n",
       " 'hello darl today would love chat dont tell look like sexi',\n",
       " 'xma reward wait comput randomli pick loyal mobil custom receiv reward call 09066380611',\n",
       " 'valu vodafon custom comput pick win prize collect easi call 09061743386',\n",
       " 'wan na get laid 2nite want real dog locat sent direct ur mobil join uk largest dog network txt park 69696 nyt ec2a 3lp',\n",
       " 'congratul thank good friend u xma prize 2 claim easi call 08712103738 10p per minut',\n",
       " 'doubl min 1000 txt orang tariff latest motorola sonyericsson nokia bluetooth free call mobileupd8 08000839402 yhl',\n",
       " 'collect valentin weekend pari inc flight hotel prize guarante text pari',\n",
       " 'freemsg record indic may entitl 3750 pound accid claim free repli ye msg opt text stop',\n",
       " 'urgent mobil number award prize guarante call 09061790126 land line claim valid 12hr 150ppm',\n",
       " 'ur rington servic chang 25 free credit go choos content stop txt club stop 87070 club4 po box1146 mk45 2wt',\n",
       " 'thank rington order refer t91 charg gbp 4 per week unsubscrib anytim call custom servic 09057039994',\n",
       " 'upgrdcentr orang custom may claim free camera phone upgrad loyalti call 0207 153 offer end 26th juli c appli avail',\n",
       " 'guess first time creat web page read wrote wait opinion want friend',\n",
       " '87077 kick new season 2wk free goal news ur mobil txt ur club name 87077 eg villa 87077',\n",
       " 'latest news polic station toilet stolen cop noth go',\n",
       " 'know someon know fanci call 09058097218 find pobox 6 ls15hb 150p',\n",
       " 'guarante cash claim yr prize call custom servic repres',\n",
       " 'u r subscrib 2 textcomp 250 wkli comp 1st wk free question follow subsequ wk charg unsubscrib txt stop 2 84128 custcar 08712405020',\n",
       " '09066362231 urgent mobil 07xxxxxxxxx bonu caller prize 2nd attempt reach call 09066362231 asap',\n",
       " '07732584351 rodger burn msg tri call repli sm free nokia mobil free camcord pleas call 08000930705 deliveri tomorrow',\n",
       " 'urgent tri contact today draw show prize guarante call 09050001295 land line claim a21 valid 12hr',\n",
       " 'nokia 7250i get win free auction take part send nokia 86021',\n",
       " 'hope enjoy new content text stop 61610 unsubscrib provid',\n",
       " 'urgent import inform o2 user today lucki day 2 find log onto http fantast surpris await',\n",
       " 'privat 2003 account statement 078',\n",
       " 'well done england get offici poli rington colour flag yer mobil text tone flag 84199 txt eng stop box39822 w111wx',\n",
       " '88066 88066 lost 3pound help',\n",
       " 'next month get upto 50 call 4 ur standard network charg 2 activ call 9061100010 c 1st4term pobox84 m26 3uz cost min mobcudb',\n",
       " 'like tell deepest darkest fantasi call 09094646631 stop text call 08712460324 nat rate',\n",
       " 'congratul ur award 500 cd voucher 125gift guarante free entri 2 100 wkli draw txt music 87066 tnc',\n",
       " 'free2day sexi st georg day pic jordan txt pic 89080 dont miss everi wk sauci celeb 4 pic c 0870241182716',\n",
       " 'themob yo yo come new select hot download member get free click open next link sent ur fone',\n",
       " 'decemb mobil entitl updat latest colour camera mobil free call mobil updat co free 08002986906',\n",
       " 'free msg singl find partner area 1000 real peopl wait chat send chat 62220cncl send stopc per msg',\n",
       " 'gsoh good spam ladi u could b male gigolo 2 join uk fastest grow men club repli oncal mjzgroup repli stop msg',\n",
       " 'hi babe chloe r u smash saturday night great weekend u miss sp text stop stop',\n",
       " 'free rington wait collect simpli text password 85069 verifi get usher britney fml',\n",
       " 'congratul ur award 500 cd voucher 125gift guarante free entri 2 100 wkli draw txt music 87066',\n",
       " 'thank rington order refer number mobil charg tone arriv pleas call custom servic 09065989182',\n",
       " 'urgent mobil number award ukp 2000 prize guarante call 09061790125 landlin claim valid 12hr 150ppm',\n",
       " 'stop club tone repli mix see html term club tone cost mfl',\n",
       " 'chosen receiv award pl call claim number 09066364311 collect award select receiv valu mobil custom',\n",
       " 'prize go anoth custom c polo ltd suit 373 london w1j 6hl pleas call back busi',\n",
       " 'custom may claim free camera phone upgrad pay go sim card loyalti call 0845 021 end c appli',\n",
       " 'dear matthew pleas call 09063440451 landlin complimentari 4 lux tenerif holiday cash await collect ppm150 sae cs box334 sk38xh',\n",
       " 'want new nokia 3510i colour phone deliv tomorrow 200 free minut mobil 100 free text free camcord repli call 8000930705',\n",
       " 'new mobil 2004 must go txt nokia 89545 collect today 2optout txtauction',\n",
       " 'fanci shag txt xxuk suzi txt cost per msg tnc websit x',\n",
       " '449050000301 price claim call 09050000301',\n",
       " 'heard u4 call 4 rude chat privat line 01223585334 cum wan 2c pic gettin shag text pix 8552 2end send stop 8552 sam xxx',\n",
       " 'ur award citi break could win summer shop spree everi wk txt store',\n",
       " 'camera award sipix digit camera call 09061221066 fromm landlin deliveri within 28 day',\n",
       " '146tf150p',\n",
       " 'mobil 11 month u r entitl updat latest colour mobil camera free call mobil updat co free 08002986030',\n",
       " 'remind download content alreadi paid goto http mymobi collect content',\n",
       " 'chanc win free bluetooth headset simpli repli back',\n",
       " 'b floppi b snappi happi gay chat servic photo upload call 08718730666 2 stop text call 08712460324',\n",
       " 'dear 0776xxxxxxx u invit xchat final attempt contact u txt chat 86688 ldn 18yr',\n",
       " '2nd time tri contact u prize 2 claim easi call 087104711148 10p per minut',\n",
       " 'tri call repli sm video mobil 750 min unlimit text free camcord repli call 08000930705',\n",
       " '2nd attempt contact u u 09071512432 b4 300603t 50',\n",
       " 'today voda number end 1225 select receiv match pleas call 08712300220 quot claim code 3100 standard rate app',\n",
       " 'sunshin quiz win super soni dvd record cannam capit australia text mquiz b',\n",
       " 'sm ac sptv new jersey devil detroit red wing play ice hockey correct incorrect end repli end sptv',\n",
       " 'tri contact repli offer video handset 750 anytim network min unlimit text camcord repli call 08000930705',\n",
       " 'talk sexi make new friend fall love world discreet text date servic text vip 83110 see could meet',\n",
       " 'someon u know ask date servic 2 contact cant guess call 09058095107 reveal pobox 7 s3xi 150p',\n",
       " 'refus loan secur unsecur ca get credit call free 0800 195 6669 text back',\n",
       " 'welcom msg free give free call futur mg bill 150p daili cancel send stop 89123',\n",
       " 'contract mobil 11 mnth latest motorola nokia etc free doubl min text orang tariff text ye callback remov record',\n",
       " '500 new mobil 2004 must go txt nokia 89545 collect today 2optout',\n",
       " 'send logo 2 ur lover 2 name join heart txt love name1 name2 mobno eg love adam eve 07123456789 87077 yahoo pobox36504w45wq txtno 4 ad 150p',\n",
       " '1000 girl mani local 2 u r virgin 2 r readi 2 4fil ur everi sexual need u 4fil text cute 69911',\n",
       " 'b4u voucher marsm log onto discount credit opt repli stop custom care call 08717168528',\n",
       " 'mobil 11mth updat free orang latest colour camera mobil unlimit weekend call call mobil upd8 freefon 08000839402 2stoptx',\n",
       " 'pleas call 08712402972 immedi urgent messag wait',\n",
       " 'valu custom pleas advis follow recent review mob award bonu prize call 09066368470',\n",
       " 'dear voucher holder next meal us use follow link pc 2 enjoy 2 4 1 dine experiencehttp',\n",
       " 'sport fan get latest sport news str 2 ur mobil 1 wk free plu free tone txt sport 8007 norm',\n",
       " 'free messag thank use auction subscript servic 18 2 skip auction txt 2 unsubscrib txt stop customercar 08718726270',\n",
       " 'privat 2004 account statement 07742676969 show 786 unredeem bonu point claim call 08719180248 identifi code 45239 expir',\n",
       " 'bought one rington get text cost 3 pound offer tone etc',\n",
       " '44 7732584351 want new nokia 3510i colour phone deliveredtomorrow 300 free minut mobil 100 free text free camcord repli call 08000930705',\n",
       " 'week savamob member offer access call 08709501522 detail savamob pobox 139 la3 2wu savamob offer mobil',\n",
       " 'receiv mobil content enjoy',\n",
       " 'ur current 500 pound maxim ur send go 86688 cc 08718720201 po box',\n",
       " 'boltblu tone 150p repli poli mono eg poly3 cha cha slide yeah slow jamz toxic come stop 4 tone txt',\n",
       " 'urgent pleas call 09066612661 landlin cash luxuri 4 canari island holiday await collect cs sae award 20m12aq 150ppm',\n",
       " 'natali invit friend repli see stop send stop frnd 62468',\n",
       " 'hi custom loyalti offer new nokia6650 mobil txtauction txt word start 81151 get 4t ctxt tc',\n",
       " 'back 2 work 2morro half term u c 2nite 4 sexi passion b4 2 go back chat 09099726481 luv dena call',\n",
       " 'u outbid simonwatson5120 shinco dvd plyr 2 bid visit sm 2 end bid notif repli end',\n",
       " 'urgent mobil number award prize guarante call 09058094454 land line claim valid 12hr',\n",
       " 'urgent 09066649731from landlin complimentari 4 ibiza holiday cash await collect sae cs po box 434 sk3 8wp 150ppm',\n",
       " 'winner u special select 2 receiv 4 holiday flight inc speak live oper 2 claim',\n",
       " 'repli win weekli 2006 fifa world cup held send stop 87239 end servic',\n",
       " 'ur current 500 pound maxim ur send collect 83600 cc 08718720201 po box',\n",
       " 'fantasi footbal back tv go sky gamestar sky activ play dream team score start saturday regist sky opt 88088',\n",
       " 'one regist subscrib u enter draw 4 100 gift voucher repli enter unsubscrib text stop',\n",
       " 'lastest stereophon marley dizze racal libertin stroke win nookii game flirt click themob wap bookmark text wap 82468',\n",
       " 'want explicit sex 30 sec ring 02073162414 cost',\n",
       " 'free polyphon rington text super 87131 get free poli tone week 16 sn pobox202 nr31 7z subscript 450pw',\n",
       " 'u select stay 1 250 top british hotel noth holiday valu dial 08712300220 claim nation rate call bx526 sw73ss',\n",
       " 'want latest video handset 750 anytim network min half price line rental repli call 08000930705 deliveri tomorrow',\n",
       " 'win shop spree everi week start 2 play text store skilgm tscs08714740323 1winawk age16',\n",
       " 'urgent mobil award bonu caller prize 2nd attempt contact call box95qu bt nation rate',\n",
       " 'sunshin hol claim ur med holiday send stamp self address envelop drink us uk po box 113 bray wicklow eir quiz start saturday unsub stop',\n",
       " 'eeri nokia tone 4u rpli tone titl 8007 eg tone dracula 8007 titl ghost addamsfa munster exorcist twilight pobox36504w45wq 150p',\n",
       " 'sorri u unsubscrib yet mob offer packag min term 54 week pl resubmit request expiri repli themob help 4 info',\n",
       " 'buy space invad 4 chanc 2 win orig arcad game consol press 0 game arcad std wap charg see 4 term set purchas',\n",
       " 'free 1st week no1 nokia tone 4 ur mob everi week txt nokia 87077 get txting tell ur mate zed pobox 36504 w45wq',\n",
       " '2nd time tri contact u prize claim call 09053750005 b4 sm 08718725756 140ppm',\n",
       " 'wamma get laid want real doggin locat sent direct mobil join uk largest dog network txt dog 69696 nyt ec2a 3lp',\n",
       " '74355 xma iscom ur award either cd gift voucher free entri 2 r weekli draw txt music 87066 tnc',\n",
       " 'winner valu network custom select receivea prize reward claim call claim code kl341 valid 12 hour',\n",
       " 'privat 2003 account statement show 800 point call 08715203694 identifi code 40533 expir',\n",
       " '2004 account 07xxxxxxxxx show 786 unredeem point claim call 08719181259 identifi code xxxxx expir',\n",
       " '2p per min call germani 08448350055 bt line 2p per min check info c text stop opt',\n",
       " 'think ur smart win week weekli quiz text play 85222 cs winnersclub po box 84 m26 3uz',\n",
       " 'get ur 1st rington free repli msg tone gr8 top 20 tone phone everi week per wk 2 opt send stop 08452810071 16',\n",
       " 'hi ya babe x u 4goten bout scammer get smart though regular vodafon respond get prem rate no use also bewar',\n",
       " 'want 2 get laid tonight want real dog locat sent direct 2 ur mob join uk largest dog network txting moan 69888nyt ec2a 150p',\n",
       " 'hottest pic straight phone see get wet want xx text pic 89555 txt cost 150p textoper g696ga 18 xxx',\n",
       " 'sexi singl wait text age follow gender wither f gay men text age follow',\n",
       " 'u win music gift voucher everi week start txt word draw 87066 tsc skillgam 1winaweek age16 150ppermesssubscript',\n",
       " 'tone club sub expir 2 repli monoc 4 mono polyc 4 poli 1 weekli 150p per week txt stop 2 stop msg free stream 0871212025016',\n",
       " 'claim 200 shop spree call 08717895698 mobstorequiz10ppm',\n",
       " 'doubl min 1000 txt orang tariff latest motorola sonyericsson nokia bluetooth free call mobileupd8 08000839402',\n",
       " 'pleas call amanda regard renew upgrad current handset free charg offer end today tel 0845 021 3680 subject c',\n",
       " 'u meet ur dream partner soon ur career 2 flyng start 2 find free txt horo follow ur star sign horo ari',\n",
       " 'urgent ur guarante award still unclaim call 09066368327 claimcod m39m51',\n",
       " 'eastend tv quiz flower dot compar violet tulip lili txt e f 84025 4 chanc 2 win cash',\n",
       " 'heard u4 call night knicker make beg like u last time 01223585236 xx luv',\n",
       " 'download mani rington u like restrict 1000 2 choos u even send 2 yr buddi txt sir 80082',\n",
       " 'donat unicef asian tsunami disast support fund text donat 864233 ad next bill',\n",
       " 'forward 88877 free entri weekli comp send word enter 88877 18 c',\n",
       " 'ye place town meet excit adult singl uk txt chat 86688',\n",
       " 'rgent 2nd attempt contact u u call 09071512433 b4 050703 csbcm4235wc1n3xx callcost 150ppm mobilesvari 50',\n",
       " 'free entri 2 weekli comp chanc win ipod txt pod 80182 get entri std txt rate c appli 08452810073 detail',\n",
       " 'ever notic drive anyon go slower idiot everyon drive faster maniac',\n",
       " 'spjanuari male sale hot gay chat cheaper call nation rate cheap peak stop text call 08712460324',\n",
       " 'repli win weekli profession sport tiger wood play send stop 87239 end servic',\n",
       " 'hi sexychat girl wait text text great night chat send stop stop servic',\n",
       " 'wml c',\n",
       " 'someon contact date servic enter phone becausethey fanci find call landlin pobox1 w14rg 150p',\n",
       " 'call 09095350301 send girl erot ecstaci stop text call 08712460324 nat rate',\n",
       " 'welcom pleas repli age gender begin 24m',\n",
       " 'promot number 8714714 ur award citi break could win summer shop spree everi wk txt store 88039 skilgm tscs087147403231winawk age16',\n",
       " 'someon conact date servic enter phone fanci find call landlin pobox12n146tf15',\n",
       " 'thank rington order refer number x29 mobil charg tone arriv pleas call custom servic 09065989180',\n",
       " 'lyricalladi invit friend repli see stop send stop frnd 62468',\n",
       " '0a network allow compani bill sm respons',\n",
       " 'dear 0776xxxxxxx u invit xchat final attempt contact u txt chat 86688 ldn 18yr',\n",
       " 'chanc realiti fantasi show call 08707509020 20p per min ntt ltd po box 1327 croydon cr9 5wb 0870 nation rate call',\n",
       " 'ever thought live good life perfect partner txt back name age join mobil commun',\n",
       " 'want 750 anytim network min 150 text new video phone five pound per week call 08002888812 repli deliveri tomorrow',\n",
       " 'save money wed lingeri choos superb select nation deliveri brought weddingfriend',\n",
       " 'warner villag 83118 c colin farrel swat wkend warner villag get 1 free med popcorn show c c kiosk repli soni 4 mre film offer',\n",
       " 'urgent pleas call 09061213237 landlin cash luxuri 4 canari island holiday await collect cs sae po box m227xi 150ppm',\n",
       " 'want explicit sex 30 sec ring 02073162414 cost gsex pobox 2667 wc1n 3xx',\n",
       " 'twink bear scalli skin jock call miss weekend fun call 08712466669 2 stop text call 08712460324 nat rate',\n",
       " 'rington club gr8 new poli direct mobil everi week',\n",
       " 'xma new year eve ticket sale club day 10am till 8pm thur fri sat night week sell fast',\n",
       " 'urgent import inform 02 user today lucki day 2 find log onto http fantast surpris await',\n",
       " 'sm auction brand new nokia 7250 4 auction today auction free 2 join take part txt nokia 86021',\n",
       " 'ask 3mobil 0870 chatlin inclu free min india cust serv sed ye l8er got mega bill 3 dont giv shit bailiff due day 3 want',\n",
       " 'rcv msg chat svc free hardcor servic text go 69988 u get noth u must age verifi yr network tri',\n",
       " 'free entri weekli competit text word win 80086 18 c',\n",
       " 'review keep fantast nokia game deck club nokia go 2 unsubscrib alert repli word',\n",
       " 'select stay 1 250 top british hotel noth holiday worth claim call london bx 526 sw73ss',\n",
       " 'hot live fantasi call 08707500020 20p per min ntt ltd po box 1327 croydon cr9 5wb 0870 nation rate call',\n",
       " 'pleas call 08712402578 immedi urgent messag wait',\n",
       " 'hey realli horni want chat see nake text hot 69698 text charg 150pm unsubscrib text stop 69698',\n",
       " '100 date servic cal l 09064012103 box334sk38ch',\n",
       " 'send logo 2 ur lover 2 name join heart txt love name1 name2 mobno eg love adam eve 07123456789 87077 yahoo pobox36504w45wq txtno 4 ad 150p',\n",
       " 'tkt euro2004 cup final cash collect call 09058099801 b4190604 pobox 7876150ppm',\n",
       " 'enjoy jamster videosound gold club credit 2 new get fun help call 09701213186',\n",
       " 'regist optin subscrib ur draw 4 gift voucher enter receipt correct an 80062 what no1 bbc chart',\n",
       " 'sm auction nokia 7250i get win free auction take part send nokia 86021',\n",
       " 'block breaker come delux format new featur great graphic buy repli get bbdelux take challeng',\n",
       " 'privat 2003 account statement 07808247860 show 800 point call 08719899229 identifi code 40411 expir',\n",
       " 'free camera phone linerent 750 cross ntwk min price txt bundl deal also avbl call 08001950382 mf',\n",
       " '88066 lost help',\n",
       " 'want new video phone750 anytim network min 150 text five pound per week call 08000776320 repli deliveri tomorrow',\n",
       " 'dear voucher holder claim week offer pc pleas go http ts cs appli stop text txt stop 80062',\n",
       " 'urgent mobil award bonu caller prize final attempt 2 contact u call 08714714011',\n",
       " 'hi ami send free phone number coupl day give access adult parti',\n",
       " 'get 3 lion england tone repli lionm 4 mono lionp 4 poli 4 go 2 origin n best tone 3gbp network oper rate appli',\n",
       " 'email alertfrom jeri stewarts 2kbsubject prescripiton drvgsto listen email call 123',\n",
       " 'sm ac jsco energi high u may know 2channel 2day ur leadership skill r strong psychic repli an end repli end jsco',\n",
       " 'custom servic annonc new year deliveri wait pleas call 07046744435 arrang deliveri',\n",
       " 'ur chanc win wkli shop spree txt shop c custcar 08715705022',\n",
       " 'shop till u drop either 10k 5k cash travel voucher call ntt po box cr01327bt fixedlin cost 150ppm mobil vari',\n",
       " 'rip get mobil content call 08717509990 six download 3',\n",
       " 'urgent pleas call 09061213237 landlin cash 4 holiday await collect cs sae po box 177 m227xi',\n",
       " 'marvel mobil play offici ultim game ur mobil right text spider 83338 game send u free 8ball wallpap',\n",
       " 'regist subscrib yr draw 4 gift voucher b enter receipt correct an next olymp txt an 80062',\n",
       " 'pleas call 08712402902 immedi urgent messag wait',\n",
       " 'mobi pub high street prize u know new duchess cornwal txt first name stop 008704050406 sp',\n",
       " 'import messag final contact attempt import messag wait custom claim dept expir call 08717507382',\n",
       " 'custom loyalti offer new nokia6650 mobil txtauction txt word start 81151 get 4t ctxt tc',\n",
       " 'spook mob halloween collect logo pic messag plu free eeri tone txt card spook 8007 zed 08701417012150p per',\n",
       " 'urgent last weekend draw show cash spanish holiday call 09050000332 claim c rstm sw7 3ss 150ppm',\n",
       " 'hmv bonu special 500 pound genuin hmv voucher answer 4 easi question play send hmv 86688 info',\n",
       " 'goldvik invit friend repli see stop send stop frnd 62468',\n",
       " '500 new mobil 2004 must go txt nokia 89545 collect today 2optout txtauction',\n",
       " 'monthli password wap use wap phone pc',\n",
       " 'santa call would littl one like call santa xma eve call 09077818151 book time last 3min 30 c',\n",
       " 'urgent call 09066350750 landlin complimentari 4 ibiza holiday cash await collect sae cs po box 434 sk3 8wp 150 ppm',\n",
       " 'urgent tri contact today draw show prize guarante call 09050003091 land line claim c52 valid12hr',\n",
       " 'congratul ur award either cd gift voucher free entri 2 weekli draw txt music 87066 tnc 1 win150ppmx3age16',\n",
       " 'dear dave final notic collect 4 tenerif holiday 5000 cash award call 09061743806 landlin tc sae box326 cw25wx 150ppm',\n",
       " 'realiz 40 year thousand old ladi run around tattoo',\n",
       " 'free game get rayman golf 4 free o2 game arcad 1st get ur game set repli post save activ8 press 0 key arcad termsappli',\n",
       " 'romant pari 2 night 2 flight book 4 next year call 08704439680t cs appli',\n",
       " 'want 750 anytim network min 150 text new video phone five pound per week call 08000776320 repli deliveri tomorrow',\n",
       " 'sm servic inclus text credit pl goto unsubscrib stop extra charg po box420 ip4 5we',\n",
       " 'mobil 10 mth updat latest orang phone free save free call text ye callback orno opt',\n",
       " 'welcom select o2 servic ad benefit call special train advisor free mobil diall 402',\n",
       " 'pleas call custom servic repres 0800 169 6031 guarante cash prize',\n",
       " 'urgent mobil 07xxxxxxxxx bonu caller prize 2nd attempt reach call 09066362231 asap box97n7qp 150ppm',\n",
       " 'contact date servic someon know find call land line pobox45w2tg150p',\n",
       " 'mobil 10 mth updat latest phone free keep ur number get extra free text ye call',\n",
       " 'bangbab ur order way u receiv servic msg 2 download ur content u goto wap bangb tv ur mobil menu',\n",
       " 'peopl dog area call 09090204448 join like mind guy arrang 1 1 even minapn ls278bb',\n",
       " '3 free tarot text find love life tri 3 free text chanc 85555 16 3 free msg',\n",
       " 'life never much fun great came made truli special wo forget enjoy one',\n",
       " 'pleas call 08712402779 immedi urgent messag wait',\n",
       " 'thank rington order ref number r836 mobil charg tone arriv pleas call custom servic 09065069154',\n",
       " 'xclusiv clubsaisai 2morow soire special zouk nichol rose 2 ladi info',\n",
       " 'hack chat get backdoor entri 121 chat room fraction cost repli neo69 call 09050280520 subscrib 25p pm dp bcm box 8027 ldn wc1n3xx',\n",
       " 'adult 18 content video shortli',\n",
       " 'lookatm thank purchas video clip lookatm charg 35p think better send video mmsto 32323',\n",
       " 'weekli tone readi download week new tone includ 1 crazi f 2 3 black p info n',\n",
       " 'msg mobil content order resent previou attempt fail due network error queri customersqueri',\n",
       " 'thank vote sing along star karaok mobil free link repli sing',\n",
       " 'simpson movi releas juli 2007 name band die start film day day day send b c',\n",
       " 'want new video phone 750 anytim network min half price line rental free text 3 month repli call 08000930705 free deliveri',\n",
       " 'sm ac blind date 4u rodds1 aberdeen unit kingdom check http sm blind date send hide',\n",
       " 'free rington text first 87131 poli text get 87131 true tone help 0845 2814032 16 1st free tone txt stop',\n",
       " 'urgent mobil number award prize guarante call 09058094455 land line claim valid 12hr',\n",
       " 'congratul ur award either yr suppli cd virgin record mysteri gift guarante call 09061104283 ts cs approx 3min',\n",
       " 'sim subscrib select receiv bonu get deliv door txt word ok 88600 claim exp 30apr',\n",
       " 'sppok ur mob halloween collect nokia logo pic messag plu free eeri tone txt card spook 8007',\n",
       " 'want new video phone 600 anytim network min 400 inclus video call download 5 per week free deltomorrow call 08002888812 repli',\n",
       " 'hot live fantasi call 08707509020 20p per min ntt ltd po box 1327 croydon cr9 5wb 0870 k',\n",
       " 'sm auction brand new nokia 7250 4 auction today auction free 2 join take part txt nokia 86021',\n",
       " 'hi 07734396839 ibh custom loyalti offer new nokia6600 mobil txtauction txt word start get 4t',\n",
       " 'valu vodafon custom comput pick win prize collect easi call 09061743386',\n",
       " 'urgent pleas call abta complimentari 4 spanish holiday cash await collect sae cs box 47 po19 2ez 150ppm',\n",
       " 'win newest potter order phoenix book 5 repli harri answer 5 question chanc first among reader',\n",
       " 'sexi sexi cum text im wet warm readi porn u fun msg free recd msg 150p inc vat 2 cancel text stop',\n",
       " 'urgent mobil award bonu caller prize 2nd attempt contact call box95qu',\n",
       " '5 free top polyphon tone call 087018728737 nation rate get toppoli tune sent everi week text subpoli 81618 per pole unsub 08718727870',\n",
       " '1 new messag pleas call 08718738034',\n",
       " 'u subscrib best mobil content servic uk per ten day send stop helplin 08706091795',\n",
       " 'want new nokia 3510i colour phone deliveredtomorrow 300 free minut mobil 100 free text free camcord repli call 08000930705',\n",
       " 'last chanc claim ur worth discount voucher today text shop 85023 savamob offer mobil cs savamob pobox84 m263uz sub 16',\n",
       " 'hi babe jordan r u im home abroad lone text back u wan na chat xxsp text stop stopcost 150p 08712400603',\n",
       " 'hi 2night ur lucki night uve invit 2 xchat uk wildest chat txt chat 86688 ldn 18yr',\n",
       " 'smsservic yourinclus text credit pl goto 3qxj9 unsubscrib stop extra charg help 9ae',\n",
       " 'unsubscrib servic get ton sexi babe hunk straight phone go http subscript',\n",
       " 'gr8 new servic live sex video chat mob see sexiest dirtiest girl live ur phone 4 detail text horni 89070 cancel send stop 89070',\n",
       " 'chanc realiti fantasi show call 08707509020 20p per min ntt ltd po box 1327 croydon cr9 5wb 0870 nation rate call',\n",
       " 'kit strip bill 150p netcollex po box 1013 ig11 oja',\n",
       " 'date servic ask 2 contact u someon shi call 09058091870 reveal pobox84 m26 3uz 150p',\n",
       " 'privat 2003 account statement show 800 point call 08715203652 identifi code 42810 expir',\n",
       " 'hi ur lookin 4 sauci daytim fun wiv busti marri woman free next week chat 2 sort time 09099726429 janinexx',\n",
       " 'ur balanc next question complet landmark big bob barri ben text b c good luck',\n",
       " 'privat 2003 account statement fone show 800 point call 08715203656 identifi code 42049 expir',\n",
       " 'xma offer latest motorola sonyericsson nokia free bluetooth doubl min 1000 txt orang call mobileupd8 08000839402',\n",
       " 'congrat 2 mobil 3g videophon r call 09063458130 videochat wid mate play java game dload polyph music nolin rentl',\n",
       " 'urgent mobil bonu caller prize 2nd attempt reach call 09066362220 asap box97n7qp 150ppm',\n",
       " 'babe u want dont u babi im nasti thing 4 filthyguy fanci rude time sexi bitch go slo n hard txt xxx slo 4msg',\n",
       " 'today voda number end 5226 select receiv 350 award hava match pleas call 08712300220 quot claim code 1131 standard rate app',\n",
       " 'freemsg today day readi horni live town love sex fun game netcollex ltd 08700621170150p per msg repli stop end',\n",
       " '2nd time tri 2 contact u pound prize 2 claim easi call 087187272008 now1 10p per minut',\n",
       " 'hi sue 20 year old work lapdanc love sex text live bedroom text sue textoper g2 1da 150ppmsg',\n",
       " 'import custom servic announc premier call freephon 0800 542 0578',\n",
       " 'free 1st week entri 2 textpod 4 chanc 2 win 40gb ipod cash everi wk txt vpod 81303 ts cs custcar 08712405020',\n",
       " 'ur chanc win cash everi wk txt play c custcar 08715705022',\n",
       " 'today voda number end 7634 select receiv reward match pleas call 08712300220 quot claim code 7684 standard rate appli',\n",
       " 'u secret admir look 2 make contact r reveal think ur',\n",
       " 'doubl min doubl txt price linerent latest orang bluetooth mobil call mobileupd8 latest offer 08000839402',\n",
       " 'urgent tri contact u today draw show prize guarante call 09050000460 land line claim j89 po box245c2150pm',\n",
       " 'urgent tri contact last weekend draw show prize guarante call claim code k61 valid 12hour',\n",
       " 'contact date servic someon know find call mobil landlin 09064017305 pobox75ldns7',\n",
       " 'xxxmobilemovieclub use credit click wap link next txt messag click http',\n",
       " 'freemsg feelin kinda lnli hope u like 2 keep compani jst got cam mobi wan na c pic txt repli date 82242 msg150p 2rcv hlp 08712317606 stop 82242',\n",
       " 'text banneduk 89555 see cost 150p textoper g696ga xxx',\n",
       " 'hungri gay guy feel hungri 4 call 08718730555 stop text call 08712460324',\n",
       " 'wo believ true incred txt repli g learn truli amaz thing blow mind o2fwd',\n",
       " 'get touch folk wait compani txt back name age opt enjoy commun',\n",
       " '2nd time tri 2 contact u 750 pound prize 2 claim easi call 08718726970 10p per min',\n",
       " 'gr8 poli tone 4 mob direct 2u rpli poli titl 8007 eg poli breathe1 titl crazyin sleepingwith finest ymca pobox365o4w45wq 300p',\n",
       " 'dear voucher holder claim week offer pc pleas go http ts cs appli',\n",
       " 'ur tonex subscript renew charg choos 10 poli month bill msg',\n",
       " 'want cock hubbi away need real man 2 satisfi txt wife 89938 string action txt stop 2 end txt rec otbox 731 la1 7w',\n",
       " 'messag import inform o2 user today lucki day 2 find log onto http fantast surpris await',\n",
       " 'want funk ur fone weekli new tone repli tones2u 2 text origin n best tone 3gbp network oper rate appli',\n",
       " 'call 09090900040 listen extrem dirti live chat go offic right total privaci one know sic listen 60p min',\n",
       " 'freemsg hey buffi 25 love satisfi men home alon feel randi repli 2 c pix qlynnbv help08700621170150p msg send stop stop txt',\n",
       " '12mth half price orang line rental 400min call mobileupd8 08000839402',\n",
       " 'ringtonek 84484',\n",
       " 'santa call would littl one like call santa xma eve call 09058094583 book time',\n",
       " 'guarante 32000 award mayb even cash claim ur award call free 0800 legitimat efreefon number wat u think',\n",
       " 'want new video handset 750 anytim network min half price line rental camcord repli call 08000930705 deliveri tomorrow',\n",
       " 'xma reward wait comput randomli pick loyal mobil custom receiv reward call 09066380611',\n",
       " 'thank rington order ref number k718 mobil charg tone arriv pleas call custom servic 09065069120',\n",
       " 'money wine number 946 wot next',\n",
       " '5p 4 alfi moon children need song ur mob tell ur m8 txt tone chariti 8007 nokia poli chariti poli zed 08701417012 profit 2 chariti',\n",
       " '85233 free rington repli real',\n",
       " 'urgent tri contact last weekend draw show prize guarante call claim code s89 valid 12hr',\n",
       " 'free 1st week no1 nokia tone 4 ur mob everi week txt nokia 8007 get txting tell ur mate pobox 36504 w45wq',\n",
       " 'ur hmv quiz current maxim ur send hmv1 86688',\n",
       " 'free tone hope enjoy new content text stop 61610 unsubscrib provid',\n",
       " 'doubl min txt orang price linerent motorola sonyericsson free call mobileupd8 08000839402',\n",
       " 'urgent mobil 077xxx bonu caller prize 2nd attempt reach call 09066362206 asap box97n7qp 150ppm',\n",
       " 'mobil club choos top qualiti item mobil 7cfca1a',\n",
       " 'freemsg hi babi wow got new cam mobi wan na c hot pic fanci chat im w8in 4utxt rpli chat 82242 hlp 08712317606 msg150p 2rcv',\n",
       " 'urgent call 09066350750 landlin complimentari 4 ibiza holiday cash await collect sae cs po box 434 sk3 8wp 150 ppm',\n",
       " 'pleas call custom servic repres freephon 0808 145 4742 guarante cash prize',\n",
       " 'network oper servic free c visit',\n",
       " 'guarante latest nokia phone 40gb ipod mp3 player prize txt word collect 83355 ibhltd ldnw15h',\n",
       " 'free 1st week no1 nokia tone 4 ur mobil everi week txt nokia 8077 get txting tell ur mate pobox 36504 w45wq',\n",
       " 'tri contact respons offer new nokia fone camcord hit repli call 08000930705 deliveri',\n",
       " 'someon contact date servic enter phone fanci find call landlin 09111032124 pobox12n146tf150p',\n",
       " 'mobi pub high street prize u know new duchess cornwal txt first name stop 008704050406 sp arrow',\n",
       " 'bloomberg center wait appli futur http',\n",
       " 'hot n horni will live local text repli hear strt back 150p per msg netcollex ltdhelpdesk 02085076972 repli stop end',\n",
       " 'recpt order rington order process',\n",
       " 'free entri gr8prize wkli comp 4 chanc win latest nokia 8800 psp cash everi great 80878 08715705022',\n",
       " 'call 08702490080 tell u 2 call 09066358152 claim prize u 2 enter ur mobil person detail prompt care',\n",
       " 'urgent urgent 800 free flight europ give away call b4 10th sept take friend 4 free call claim ba128nnfwfly150ppm',\n",
       " 'lord ring return king store repli lotr 2 june 4 chanc 2 win lotr soundtrack cd stdtxtrate repli stop end txt',\n",
       " 'free nokia motorola upto 12mth linerent 500 free min free call mobileupd8 08001950382 call',\n",
       " 'sm ac sun0819 post hello seem cool',\n",
       " 'winner u special select 2 receiv cash 4 holiday flight inc speak live oper 2 claim 0871277810810',\n",
       " 'dear subscrib ur draw 4 gift voucher b enter receipt correct an elvi presley birthday txt answer 80062',\n",
       " 'ur current 500 pound maxim ur send go 86688 cc 08718720201',\n",
       " 'txt call 86888 claim reward 3 hour talk time use phone inc 3hr 16 stop txtstop',\n",
       " 'freemsg unlimit free call activ smartcal txt call unlimit call help 08448714184 stop txt stop landlineonli',\n",
       " 'contract mobil 11 mnth latest motorola nokia etc free doubl min text orang tariff text ye callback remov record',\n",
       " 'remind o2 get pound free call credit detail great offer pl repli 2 text valid name hous postcod',\n",
       " 'win year suppli cd 4 store ur choic worth enter weekli draw txt music 87066 ts cs',\n",
       " 'splashmobil choos 1000 gr8 tone wk subscrit servic weekli tone cost 300p u one credit kick back enjoy',\n",
       " 'burger king wan na play footi top stadium get 2 burger king 1st sept go larg super walk winner',\n",
       " 'camera award sipix digit camera call 09061221066 fromm landlin deliveri within 28 day',\n",
       " 'prize go anoth custom c polo ltd suit 373 london w1j 6hl pleas call back busi',\n",
       " 'hot live fantasi call 08707509020 20p per min ntt ltd po box 1327 croydon cr9 5wb 0870 nation rate call',\n",
       " 'ur chanc win cash everi wk txt action c custcar 08712405022',\n",
       " 'mila age23 blond new uk look sex uk guy u like fun text mtalk 1st 5free increment help08718728876',\n",
       " 'u 447801259231 secret admir look 2 make contact r reveal think ur 09058094597',\n",
       " 'gent tri contact last weekend draw show prize guarante call claim code k52 valid 12hr 150ppm',\n",
       " 'u secret admir look 2 make contact r reveal think ur 09058094565',\n",
       " 'sm servic inclus text credit pl goto 3qxj9 unsubscrib stop extra charg help 9ae',\n",
       " 'valu custom pleas advis follow recent review mob award bonu prize call 09066364589',\n",
       " 'u get 2 phone wan na chat 2 set meet call 09096102316 u cum 2moro luv jane xx',\n",
       " 'today vodafon number end 0089 last four digit select receiv award number match pleas call 09063442151 claim award',\n",
       " 'winner valu network custom hvae select receiv reward collect call valid 24 hour acl03530150pm',\n",
       " 'congrat 2 mobil 3g videophon r call 09063458130 videochat wid ur mate play java game dload polyph music nolin rentl bx420 ip4 5we 150p',\n",
       " '2nd attempt contract u week top prize either cash prize call 09066361921',\n",
       " 'jamster get crazi frog sound poli text mad1 real text mad2 88888 6 crazi sound 3 c appli',\n",
       " 'current messag await collect collect messag call 08718723815',\n",
       " 'congratul ur award either cd gift voucher free entri 2 weekli draw txt music 87066 tnc',\n",
       " 'got take 2 take part wrc ralli oz u lucozad energi text ralli le 61200 25p see pack itcould u',\n",
       " 'winner special select receiv cash award speak live oper claim call cost 10p',\n",
       " 'natalja invit friend repli see stop send stop frnd 62468',\n",
       " 'ree entri 2 weekli comp chanc win ipod txt pod 80182 get entri std txt rate c appli 08452810073 detail',\n",
       " 'today vodafon number end 4882 select receiv award number match call 09064019014 receiv award',\n",
       " 'thank winner notifi sm good luck futur market repli stop 84122 custom servic 08450542832',\n",
       " 'urgent 4 costa del sol holiday await collect call 09050090044 toclaim sae tc pobox334 stockport sk38xh max10min',\n",
       " '83039 uk break accommodationvouch term condit appli 2 claim mustprovid claim number 15541',\n",
       " 'privat 2003 account statement show 800 point call 08718738001 identifi code 49557 expir',\n",
       " 'themob check newest select content game tone gossip babe sport keep mobil fit funki text wap 82468',\n",
       " '25p 4 alfi moon children need song ur mob tell ur m8 txt tone chariti 8007 nokia poli chariti poli zed 08701417012 profit 2 chariti',\n",
       " 'new tone week includ 1 ab 2 sara 3 order follow instruct next messag',\n",
       " 'come take littl time child afraid dark becom teenag want stay night',\n",
       " 'someon u know ask date servic 2 contact cant guess call 09058097189 reveal pobox 6 ls15hb 150p',\n",
       " 'freemsg hey u got 1 fone repli wild txt ill send u pic hurri im bore work xxx 18 stop2stop',\n",
       " 'get lot cash weekend dear welcom weekend got biggest best ever cash give away',\n",
       " 'u secret admir look 2 make contact r reveal think ur 09058094594',\n",
       " 'eeri nokia tone 4u rpli tone titl 8007 eg tone dracula 8007 titl ghost addamsfa munster exorcist twilight pobox36504w45wq 150p',\n",
       " 'wan2 win westlif 4 u m8 current tour 1 unbreak 2 untam 3 unkempt text 3 cost 50p text',\n",
       " 'dorothi bank granit issu explos pick member 300 nasdaq symbol cdgt per',\n",
       " 'want new nokia 3510i colour phone deliv tomorrow 200 free minut mobil 100 free text free camcord repli call 08000930705',\n",
       " 'monthlysubscript csc web age16 2stop txt stop',\n",
       " '1 new voicemail pleas call 08719181503',\n",
       " 'get free mobil video player free movi collect text go free extra film order c appli 18 yr',\n",
       " 'rock yr chik get 100 filthi film xxx pic yr phone rpli filth saristar ltd e14 9yt 08701752560 450p per 5 day stop2 cancel',\n",
       " 'win urgent mobil number award prize guarante call 09061790121 land line claim 3030 valid 12hr 150ppm',\n",
       " 'know u u know send chat 86688 let find rcvd ldn 18 year',\n",
       " 'ur balanc ur next question sang girl 80 2 answer txt ur answer good luck',\n",
       " 'freemsg repli text randi sexi femal live local luv hear netcollex ltd 08700621170150p per msg repli stop end',\n",
       " 'cash prize claim call09050000327',\n",
       " 'clair havin borin time alon u wan na cum 2nite chat 09099725823 hope 2 c u luv clair xx',\n",
       " 'join uk horniest dog servic u sex 2nite sign follow instruct txt entri 69888 150p',\n",
       " 'winner guarante caller prize final attempt contact claim call 09071517866 150ppmpobox10183bhamb64x',\n",
       " 'new local date area lot new peopl regist area repli date start 18 replys150',\n",
       " 'urgent 2nd attempt contact prize yesterday still await collect claim call acl03530150pm',\n",
       " 'check choos babe video fgkslpopw fgkslpo',\n",
       " 'guarante cash prize claim yr prize call custom servic repres 08714712412 cost 10p',\n",
       " 'xma iscom ur award either cd gift voucher free entri 2 r weekli draw txt music 87066 tnc',\n",
       " 'congrat 1 year special cinema pass 2 call 09061209465 c suprman v matrix3 starwars3 etc 4 free 150pm dont miss',\n",
       " 'stop bootydeli invit friend repli see stop send stop frnd 62468',\n",
       " 'special select receiv 2000 pound award call 08712402050 line close cost 10ppm cs appli ag promo',\n",
       " '4mth half price orang line rental latest camera phone 4 free phone 11mth call mobilesdirect free 08000938767 updat or2stoptxt',\n",
       " 'import custom servic announc call freephon 0800 542 0825',\n",
       " 'would like see xxx pic hot nearli ban uk',\n",
       " 'freemsg fanci flirt repli date join uk fastest grow mobil date servic msg rcvd 25p optout txt stop repli date',\n",
       " 'themob hit link get premium pink panther game new 1 sugabab crazi zebra anim badass hoodi 4 free',\n",
       " 'free entri 2 wkli comp win fa cup final tkt 21st may text fa 87121 receiv entri question std txt rate c appli 08452810075over18',\n",
       " 'new textbuddi chat 2 horni guy ur area 4 25p free 2 receiv search postcod txt one name 89693',\n",
       " 'filthi stori girl wait',\n",
       " 'urgent pleas call 09061743811 landlin abta complimentari 4 tenerif holiday cash await collect sae cs box 326 cw25wx 150ppm',\n",
       " 'free ring tone text everi week get new tone 0870737910216yr',\n",
       " 'cd 4u congratul ur award cd gift voucher gift guarante freeentri 2 wkli draw xt music 87066 tnc',\n",
       " 'decemb mobil entitl updat latest colour camera mobil free call mobil updat vco free 08002986906',\n",
       " 'wan na laugh tri mobil logon txting word chat send 8883 cm po box 4217 london w1a 6zf rcvd',\n",
       " 'urgent mobil 07808726822 award bonu caller prize 2nd attempt contact call box95qu',\n",
       " 'mobil 11mth updat free orang latest colour camera mobil unlimit weekend call call mobil upd8 freefon 08000839402 2stoptxt',\n",
       " 'privat 2003 account statement 07815296484 show 800 point call 08718738001 identifi code 41782 expir',\n",
       " 'januari male sale hot gay chat cheaper call nation rate cheap peak stop text call 08712460324',\n",
       " 'someon u know ask date servic 2 contact cant guess call 09058091854 reveal po box385 m6 6wu',\n",
       " 'account credit 500 free text messag activ txt word credit 80488 cs',\n",
       " 'date two start sent text talk sport radio last week connect think coincid',\n",
       " 'money r lucki winner 2 claim prize text money 2 88600 give away text rate box403 w1t1ji',\n",
       " 'urgent call 09066612661 landlin complementari 4 tenerif holiday cash await collect sae cs po box 3 wa14 2px 150ppm sender hol offer',\n",
       " 'link pictur sent also use http',\n",
       " 'okmail dear dave final notic collect 4 tenerif holiday 5000 cash award call 09061743806 landlin tc sae box326 cw25wx 150ppm',\n",
       " 'today offer claim ur worth discount voucher text ye 85023 savamob member offer mobil cs 08717898035 sub 16 unsub repli x',\n",
       " '500 free text msg text ok 80488 credit account',\n",
       " 'wow boy r back take 2007 uk tour win vip ticket vip club txt club trackmarqu ltd info vipclub4u',\n",
       " 'current lead bid paus auction send custom care 08718726270',\n",
       " 'england v macedonia dont miss news txt ur nation team 87077 eg england 87077 tri wale scotland poboxox36504w45wq',\n",
       " 'nokia 7250i get win free auction take part send nokia 86021',\n",
       " 'big brother alert comput select u 10k cash 150 voucher call ntt po box cro1327 bt landlin cost 150ppm mobil vari',\n",
       " 'bin award play 4 instant cash call 08715203028 claim everi 9th player win min optout 08718727870',\n",
       " 'get garden readi summer free select summer bulb seed worth scotsman saturday stop go2',\n",
       " 'tri contact repli offer 750 min 150 textand new video phone call 08002988890 repli free deliveri tomorrow',\n",
       " '1 nokia tone 4 ur mob everi week txt nok 87021 1st tone free get txtin tell ur friend 16 repli hl 4info',\n",
       " 'hi mandi sullivan call hotmix fm chosen receiv easter prize draw pleas telephon 09041940223 claim prize transfer someon els',\n",
       " 'guess somebodi know secretli fanci wan na find give us call 09065394973 landlin datebox1282essexcm61xn 18',\n",
       " 'urgent 2nd attempt contact u u call 09071512433 b4 050703 csbcm4235wc1n3xx callcost 150ppm mobilesvari 50',\n",
       " 'contact date servic someon know find call land line pobox45w2tg150p',\n",
       " 'privat 2004 account statement 078498 7 show 786 unredeem bonu point claim call 08719180219 identifi code 45239 expir',\n",
       " 'free video camera phone half price line rental 12 mth 500 cross ntwk min 100 txt call mobileupd8 08001950382',\n",
       " 'rington club get uk singl chart mobil week choos top qualiti rington messag free charg',\n",
       " 'guarante latest nokia phone 40gb ipod mp3 player prize txt word collect 83355 ibhltd ldnw15h',\n",
       " 'valentin day special win quiz take partner trip lifetim send go 83600 rcvd',\n",
       " 'urgent mobil award bonu caller prize final tri contact u call landlin 09064019788 box42wr29c 150ppm',\n",
       " 'hello orang 1 month free access game news sport plu 10 free text 20 photo messag repli ye term appli',\n",
       " '1 new messag pleas call 08712400200',\n",
       " '1 polyphon tone 4 ur mob everi week txt pt2 87575 1st tone free get txtin tell ur friend 16 repli hl 4info',\n",
       " 'winner special select receiv cash award speak live oper claim call cost 10p',\n",
       " '4 costa del sol holiday await collect call 09050090044 toclaim sae tc pobox334 stockport sk38xh max10min',\n",
       " 'dear u invit xchat final attempt contact u txt chat 86688',\n",
       " 'privat 2003 account statement show 800 point call 08718738002 identifi code 48922 expir',\n",
       " 'someonon know tri contact via date servic find could call mobil landlin 09064015307 box334sk38ch',\n",
       " 'guarante cash prize claim yr prize call custom servic repres 08714712394',\n",
       " 'u want xma 100 free text messag new video phone half price line rental call free 0800 0721072 find',\n",
       " 'hard live 121 chat choos girl connect live call 09094646899 cheap chat uk biggest live servic vu bcm1896wc1n3xx',\n",
       " 'want new nokia 3510i colour phone deliveredtomorrow 300 free minut mobil 100 free text free camcord repli call 08000930705',\n",
       " '2nd time tri 2 contact u 750 pound prize 2 claim easi call 08712101358 10p per min',\n",
       " 'take part mobil survey yesterday 500 text 2 use howev wish 2 get txt send txt 80160 c',\n",
       " 'great news call freefon 08006344447 claim guarante cash gift speak live oper',\n",
       " '1st wk free gr8 tone str8 2 u wk txt nokia 8007 classic nokia tone hit 8007 poli',\n",
       " 'tddnewslett game thedailydraw dear helen dozen free game great prizeswith',\n",
       " '1 new messag call',\n",
       " 'call germani 1 penc per minut call fix line via access number 0844 861 85 prepay direct access',\n",
       " 'ur go 2 bahama callfreefon 08081560665 speak live oper claim either bahama cruis cash opt txt x 07786200117',\n",
       " 'uniqu enough find 30th august',\n",
       " 'panason bluetoothhdset free nokia free motorola free doublemin doubletxt orang contract call mobileupd8 08000839402 call 2optout',\n",
       " 'import inform 4 orang user 0789xxxxxxx today lucki day 2find log onto http fantast surpris await',\n",
       " 'congrat 2 mobil 3g videophon r call 09061744553 videochat wid ur mate play java game dload polyh music nolin rentl bx420 ip4 5we 150pm',\n",
       " 'bore speed date tri speedchat txt speedchat 80155 like em txt swap get new chatter chat80155 pobox36504w45wq rcd 16',\n",
       " 'free entri weekli comp send word enter 84128 18 c cust care 08712405020',\n",
       " 'freemsg award free mini digit camera repli snap collect prize quizclub opt stop sp rwm',\n",
       " 'congratul u claim 2 vip row ticket 2 c blu concert novemb blu gift guarante call 09061104276 claim ts cs',\n",
       " 'call germani 1 penc per minut call fix line via access number 0844 861 85 prepay direct access',\n",
       " 'sm servic inclus text credit pl gotto login 3qxj9 unsubscrib stop extra charg help 08702840625 9ae',\n",
       " 'xma offer latest motorola sonyericsson nokia free bluetooth dvd doubl min 1000 txt orang call mobileupd8 08000839402',\n",
       " 'import inform 4 orang user 0796xxxxxx today ur lucki day 2 find log onto http fantast prizeawait',\n",
       " 'custom servic announc recent tri make deliveri unabl pleas call 07099833605']"
      ]
     },
     "execution_count": 71,
     "metadata": {},
     "output_type": "execute_result"
    }
   ],
   "source": [
    "## converting spam messages transformed text to a list.\n",
    "df[df['target']== 1]['transformed_text'].tolist()"
   ]
  },
  {
   "cell_type": "code",
   "execution_count": 72,
   "id": "9e5e1df2",
   "metadata": {},
   "outputs": [
    {
     "name": "stdout",
     "output_type": "stream",
     "text": [
      "18 day euro2004 kickoff u kept inform latest news result daili unsubscrib send get euro stop 83222\n",
      "free entri weekli comp send word win 80086 18 c\n",
      "tri call repli sm video mobil 750 min unlimit text free camcord repli call 08000930705 del thur\n",
      "loan purpos even bad credit tenant welcom call 08717111821\n",
      "sunshin quiz wkli q win top soni dvd player u know countri liverpool play mid week txt ansr 82277 sp tyron\n",
      "forward 21870000 hi mailbox messag sm alert 4 messag 21 match pleas call back 09056242159 retriev messag match\n",
      "get offici england poli rington colour flag yer mobil tonight game text tone flag optout txt eng stop box39822 w111wx\n",
      "free video camera phone half price line rental 12 mth 500 cross ntwk min 100 txt call mobileupd8 08001950382\n",
      "mobil number claim call us back ring claim hot line 09050005321\n",
      "guarante award even cashto claim ur award call free 08000407165 2 stop getstop 88222 php rg21 4jx\n",
      "bear pic nick tom pete dick fact type tri gay chat photo upload call 08718730666 2 stop text call 08712460324\n",
      "call 09094100151 use ur min call cast mob vari servic provid aom aom box61 m60 1er u stop age\n",
      "urgent mobil number award bonu caller prize call 09058095201 land line valid 12hr\n",
      "freemsg claim ur 250 sm ok 84025 use web2mobil 2 ur mate etc join c box139 la32wu 16 remov txtx stop\n",
      "well still bit left guy want tonight\n",
      "messag free welcom new improv sex dog club unsubscrib servic repli stop msg 150p\n",
      "chase us sinc sept definit pay thank inform ignor kath manchest\n",
      "decemb mobil entitl updat latest colour camera mobil free call mobil updat co free 08002986906\n",
      "free top rington weekli 1st week subpoli 3 per\n",
      "urgent pleas call 09061743810 landlin abta complimentari 4 tenerif holiday 5000 cash await collect sae cs box 326 cw25wx 150 ppm\n",
      "accordingli repeat text word ok mobil phone send\n",
      "urgent call 09061749602 landlin complimentari 4 tenerif holiday cash await collect sae cs box 528 hp20 1yf 150ppm\n",
      "brand new mobil music servic live free music player arriv shortli instal phone brows content top artist\n",
      "rct thnq adrian u text rgd vatian\n",
      "gent tri contact last weekend draw show prize guarante call claim code k52 valid 12hr 150ppm\n",
      "want 2 get laid tonight want real dog locat sent direct 2 ur mob join uk largest dog network bt txting gravel 69888 nt ec2a 150p\n",
      "congrat nokia 3650 video camera phone call 09066382422 call cost 150ppm ave call 3min vari mobil close 300603 post bcm4284 ldn wc1n3xx\n",
      "freemsg txt call 86888 claim reward 3 hour talk time use phone inc 3hr 16 stop txtstop\n",
      "discount code rp176781 stop messag repli stop custom servic 08717205546\n",
      "4mth half price orang line rental latest camera phone 4 free phone call mobilesdirect free 08000938767 updat or2stoptxt cs\n",
      "dear u invit xchat final attempt contact u txt chat 86688 ldn 18 yr\n",
      "sale arsen dartboard good condit doubl trebl\n",
      "bank granit issu explos pick member 300 nasdaq symbol cdgt per\n",
      "privat 2003 account statement show 800 point call 08715203685 identifi expir\n",
      "freemsg hey darl 3 week word back like fun still tb ok xxx std chg send rcv\n",
      "tri contact offer new video phone 750 anytim network min half price rental camcord call 08000930705 repli deliveri wed\n",
      "thank 4 continu support question week enter u in2 draw 4 cash name new us presid txt an 80082\n",
      "reciev tone within next 24hr term condit pleas see channel u teletext pg 750\n",
      "sex ur mobil free sexi pic jordan text babe everi wk get sexi celeb 4 pic 16 087016248\n",
      "summer final fanci chat flirt sexi singl yr area get match repli summer free 2 join optout txt stop help08714742804\n",
      "forward 21870000 hi mailbox messag sm alert 40 match pleas call back 09056242159 retriev messag match\n",
      "show ur colour euro 2004 offer get england flag 3lion tone ur phone click follow servic messag info\n",
      "text meet someon sexi today u find date even flirt join 4 10p repli name age eg sam 25 18 recd thirtyeight penc\n",
      "freemsg fav xma tone repli real\n",
      "congratul thank good friend u xma prize 2 claim easi call 08718726978 10p per minut\n",
      "special select receiv award call 08712402050 line close cost 10ppm cs appli ag promo\n",
      "congratul thank good friend u xma prize 2 claim easi call 08718726971 10p per minut\n",
      "get brand new mobil phone agent mob plu load goodi info text mat 87021\n",
      "ur current 500 pound maxim ur send go 86688 cc 08718720201\n",
      "today voda number end 7548 select receiv 350 award match pleas call 08712300220 quot claim code 4041 standard rate app\n",
      "privat 2003 account statement 07808 xxxxxx show 800 point call 08719899217 identifi code 41685 expir\n",
      "free rington repli real poli eg real1 pushbutton dontcha babygoodby golddigg webeburnin 1st tone free 6 u join\n",
      "dear voucher holder claim week offer pc pleas go http ts cs appli\n",
      "ur award citi break could win summer shop spree everi wk txt store 88039 skilgm tscs087147403231winawk age16\n",
      "guess somebodi know secretli fanci wan na find give us call 09065394514 landlin datebox1282essexcm61xn 18\n",
      "free 1st week entri 2 textpod 4 chanc 2 win 40gb ipod cash everi wk txt pod 84128 ts cs custcar 08712405020\n",
      "new textbuddi chat 2 horni guy ur area 4 25p free 2 receiv search postcod txt one name 89693 08715500022 rpl stop 2 cnl\n",
      "urgent mobil number bonu caller prize 2nd attempt reach call 09066368753 asap box 97n7qp 150ppm\n",
      "knock knock txt whose 80082 enter r weekli draw 4 gift voucher 4 store yr choic cs age16\n",
      "win cash prize prize worth\n",
      "pro video club need help info call 08701237397 must club credit redeem enjoy\n",
      "u win music gift voucher everi week start txt word draw 87066 tsc\n",
      "free msg get gnarl barkley rington total free repli go messag right\n",
      "valentin day special win quiz take partner trip lifetim send go 83600 rcvd\n",
      "free msg sorri servic order 81303 could deliv suffici credit pleas top receiv servic\n",
      "urgent tri contact today draw show prize guarante call 09050003091 land line claim c52 valid 12hr\n",
      "urgent pleas call 09066612661 landlin complimentari 4 lux costa del sol holiday cash await collect ppm 150 sae cs jame 28 eh74rr\n",
      "free msg rington http wml 37819\n",
      "urgent tri contact today draw show prize guarante call 09050001808 land line claim m95 valid12hr\n",
      "1000 flirt txt girl bloke ur name age eg girl zoe 18 8007 join get chat\n",
      "u nokia 6230 plu free digit camera u get u win free auction take part send nokia 83383 16\n",
      "dear voucher holder 2 claim 1st class airport loung pass use holiday voucher call book quot 1st class x 2\n",
      "cash prize claim call09050000327 c rstm sw7 3ss 150ppm\n",
      "jamster get free wallpap text heart 88888 c appli 16 need help call 08701213186\n",
      "privat 2003 account statement 07753741225 show 800 point call 08715203677 identifi code 42478 expir\n",
      "07801543489 guarante latest nokia phone 40gb ipod mp3 player prize txt word collect\n",
      "u r winner u ave special select 2 receiv cash 4 holiday flight inc speak live oper 2 claim 18\n",
      "complimentari 4 star ibiza holiday cash need urgent collect 09066364349 landlin lose\n",
      "award sipix digit camera call 09061221061 landlin deliveri within 28day cs box177 m221bp 2yr warranti 150ppm 16 p\n",
      "ur current 500 pound maxim ur send cash 86688 cc 08718720201 po box\n",
      "want new video handset 750 time network min unlimit text camcord repli call 08000930705 del sat\n",
      "free messag activ 500 free text messag repli messag word free term condit visit\n",
      "orang custom may claim free camera phone upgrad loyalti call 0207 153 offer end 14thmarch c appli availa\n",
      "8007 25p 4 alfi moon children need song ur mob tell ur m8 txt tone chariti 8007 nokia poli chariti poli zed 08701417012 profit 2 chariti\n",
      "hear new barbi come ken stuff\n",
      "hello need posh bird chap user trial prod champney put need address dob asap ta r\n",
      "tri contact repli offer video handset 750 anytim network min unlimit text camcord repli call 08000930705\n",
      "sparkl shop break 45 per person call 0121 2025050 visit\n",
      "22 day kick euro2004 u kept date latest news result daili remov send get txt stop 83222\n",
      "u secret admir look 2 make contact r reveal think ur 09058094599\n",
      "hey boy want hot xxx pic sent direct 2 ur phone txt porn 69855 24hr free 50p per day stop text stopbcm sf wc1n3xx\n",
      "messag free welcom new improv sex dog club unsubscrib servic repli stop msg 150p 18\n",
      "1 new messag pleas call 08715205273\n",
      "repli name address receiv post week complet free accommod variou global locat\n",
      "08714712388 cost 10p\n",
      "u secret admir reveal think u r special call opt repli reveal stop per msg recd cust care 07821230901\n",
      "win winner foley ipod excit prize soon keep eye ur mobil visit\n",
      "latest nokia mobil ipod mp3 player proze guarante repli win 83355 norcorp\n",
      "record indic u mayb entitl 5000 pound compens accid claim 4 free repli claim msg 2 stop txt stop\n",
      "import custom servic announc premier\n",
      "dont forget place mani free request wish inform call 08707808226\n",
      "goal arsen 4 henri 7 v liverpool 2 henri score simpl shot 6 yard pass bergkamp give arsen 2 goal margin 78 min\n",
      "privat 2003 account statement show 800 point call 08719899230 identifi code 41685 expir\n",
      "tell u 2 call 09066358152 claim prize u 2 enter ur mobil person detail prompt care\n",
      "receiv week tripl echo rington shortli enjoy\n",
      "guarante cash prize claim yr prize call custom servic repres 08714712379 cost 10p\n",
      "u secret admir look 2 make contact r reveal think ur\n",
      "ou guarante latest nokia phone 40gb ipod mp3 player prize txt word collect 83355 ibhltd ldnw15h\n",
      "urgent tri contact today draw show prize guarante call 09058094507 land line claim valid 12hr\n",
      "six chanc win cash 100 pound txt csh11 send cost 6day tsandc appli repli hl 4 info\n",
      "congratul week competit draw u prize claim call 09050002311 b4280703 sm 18 150ppm\n",
      "last chanc 2 claim ur worth discount ye 85023 offer mobil cs 08717898035 sub 16 remov txt x stop\n",
      "500 free text messag valid 31 decemb 2005\n",
      "88800 89034 premium phone servic call 08718711108\n",
      "1 new voicemail pleas call 08719181513\n",
      "messag brought gmw connect\n",
      "phoni award today voda number end xxxx select receiv award match pleas call 08712300220 quot claim code 3100 standard rate app\n",
      "urgent 2nd attempt contact prize yesterday still await collect claim call 09061702893\n",
      "free unlimit hardcor porn direct 2 mobil txt porn 69200 get free access 24 hr chrgd 50p per day txt stop 2exit msg free\n",
      "miss call alert number call left messag 07008009200\n",
      "great new offer doubl min doubl txt best orang tariff get latest camera phone 4 free call mobileupd8 free 08000839402 2stoptxt cs\n",
      "sunshin quiz wkli q win top soni dvd player u know countri algarv txt ansr 82277 sp tyron\n",
      "text pass 69669 collect polyphon rington normal gpr charg appli enjoy tone\n",
      "urgent tri contact last weekend draw show u prize guarante call 09064017295 claim code k52 valid 12hr 150p pm\n",
      "urgent tri contact today draw show prize guarante call 09066358361 land line claim y87 valid 12hr\n",
      "win newest potter order phoenix book 5 repli harri answer 5 question chanc first among reader\n",
      "guarante award even cashto claim ur award call free 08000407165 2 stop getstop 88222 php\n",
      "orang bring rington time chart hero free hit week go rington pic wap stop receiv tip repli stop\n",
      "import inform 4 orang user today lucki day 2find log onto http fantast surpris await\n",
      "thank subscript rington uk mobil charg pleas confirm repli ye repli charg\n",
      "hi luci hubbi meetin day fri b alon hotel u fanci cumin pl leav msg 2day 09099726395 luci x\n",
      "call freephon 0800 542 0578\n",
      "final chanc claim ur worth discount voucher today text ye 85023 savamob member offer mobil cs savamob pobox84 m263uz sub 16\n",
      "romcapspam everyon around respond well presenc sinc warm outgo bring real breath sunshin\n",
      "free msg bill mobil number mistak shortcod call 08081263000 charg call free bt landlin\n",
      "oh god found number glad text back xafter msg cst std ntwk chg\n",
      "privat 2003 account statement 07973788240 show 800 point call 08715203649 identifi code 40533 expir\n",
      "cmon babe make horni turn txt fantasi babe im hot sticki need repli cost 2 cancel send stop\n",
      "dear voucher holder 2 claim week offer pc go http ts cs stop text txt stop 80062\n",
      "bore housew chat n date rate landlin\n",
      "forward 448712404000 pleas call 08712404000 immedi urgent messag wait\n",
      "good luck draw take place 28th feb good luck remov send stop 87239 custom servic 08708034412\n",
      "doubl min txt 4 6month free bluetooth orang avail soni nokia motorola phone call mobileupd8 08000839402\n",
      "loan purpos homeown tenant welcom previous refus still help call free 0800 1956669 text back\n",
      "sorri miss call let talk time 07090201529\n",
      "urgent 1 week free membership prize jackpot txt word claim 81010 c lccltd pobox 4403ldnw1a7rw18\n",
      "well done 4 costa del sol holiday await collect call 09050090044 toclaim sae tc pobox334 stockport sk38xh max10min\n",
      "xma prize draw tri contact today draw show prize guarante call 09058094565 land line valid 12hr\n",
      "new 2 club dont fink met yet b gr8 2 c u pleas leav msg 2day wiv ur area 09099726553 repli promis carli x lkpobox177hp51fl\n",
      "uniqu user id remov send stop 87239 custom servic 08708034412\n",
      "u subscrib best mobil content servic uk per 10 day send stop helplin 08706091795\n",
      "urgent mobil number award prize guarante call 09061790121 land line claim valid 12hr 150ppm\n",
      "ur current 500 pound maxim ur send cash 86688 cc 08708800282\n",
      "8007 free 1st week no1 nokia tone 4 ur mob everi week txt nokia 8007 get txting tell ur mate pobox 36504 w4 5wq norm\n",
      "spook mob halloween collect logo pic messag plu free eeri tone txt card spook 8007 zed 08701417012150p per\n",
      "interflora late order interflora flower christma call 0800 505060 place order midnight tomorrow\n",
      "congrat 1 year special cinema pass 2 call 09061209465 c suprman v matrix3 starwars3 etc 4 free 150pm dont miss\n",
      "ur chanc win cash everi wk txt action c custcar 08712405022\n",
      "text82228 get rington logo game question info\n",
      "congratul winner august prize draw call 09066660100 prize code 2309\n",
      "urgent ur award complimentari trip eurodisinc trav aco entry41 claim txt di 87121 morefrmmob shracomorsglsuplt 10 ls1 3aj\n",
      "auction round highest bid next maximum bid bid send bid 10 bid good luck\n",
      "custom servic announc recent tri make deliveri unabl pleas call 07090298926\n",
      "let send free anonym mask messag im send messag see potenti abus\n",
      "tri contact repli offer video phone 750 anytim network min half price line rental camcord repli call 08000930705\n",
      "credit top http renew pin tgxxrz\n",
      "next amaz xxx picsfree1 video sent enjoy one vid enough 2day text back keyword picsfree1 get next video\n",
      "marri local women look discreet action 5 real match instantli phone text match 69969 msg cost 150p 2 stop txt stop bcmsfwc1n3xx\n",
      "thank rington order refer number x49 mobil charg tone arriv pleas call custom servic text txtstar\n",
      "get 3 lion england tone repli lionm 4 mono lionp 4 poli 4 go 2 origin n best tone 3gbp network oper rate appli\n",
      "hello darl today would love chat dont tell look like sexi\n",
      "xma reward wait comput randomli pick loyal mobil custom receiv reward call 09066380611\n",
      "valu vodafon custom comput pick win prize collect easi call 09061743386\n",
      "wan na get laid 2nite want real dog locat sent direct ur mobil join uk largest dog network txt park 69696 nyt ec2a 3lp\n",
      "congratul thank good friend u xma prize 2 claim easi call 08712103738 10p per minut\n",
      "doubl min 1000 txt orang tariff latest motorola sonyericsson nokia bluetooth free call mobileupd8 08000839402 yhl\n",
      "collect valentin weekend pari inc flight hotel prize guarante text pari\n",
      "freemsg record indic may entitl 3750 pound accid claim free repli ye msg opt text stop\n",
      "urgent mobil number award prize guarante call 09061790126 land line claim valid 12hr 150ppm\n",
      "ur rington servic chang 25 free credit go choos content stop txt club stop 87070 club4 po box1146 mk45 2wt\n",
      "thank rington order refer t91 charg gbp 4 per week unsubscrib anytim call custom servic 09057039994\n",
      "upgrdcentr orang custom may claim free camera phone upgrad loyalti call 0207 153 offer end 26th juli c appli avail\n",
      "guess first time creat web page read wrote wait opinion want friend\n",
      "87077 kick new season 2wk free goal news ur mobil txt ur club name 87077 eg villa 87077\n",
      "latest news polic station toilet stolen cop noth go\n",
      "know someon know fanci call 09058097218 find pobox 6 ls15hb 150p\n",
      "guarante cash claim yr prize call custom servic repres\n",
      "u r subscrib 2 textcomp 250 wkli comp 1st wk free question follow subsequ wk charg unsubscrib txt stop 2 84128 custcar 08712405020\n",
      "09066362231 urgent mobil 07xxxxxxxxx bonu caller prize 2nd attempt reach call 09066362231 asap\n",
      "07732584351 rodger burn msg tri call repli sm free nokia mobil free camcord pleas call 08000930705 deliveri tomorrow\n",
      "urgent tri contact today draw show prize guarante call 09050001295 land line claim a21 valid 12hr\n",
      "nokia 7250i get win free auction take part send nokia 86021\n",
      "hope enjoy new content text stop 61610 unsubscrib provid\n",
      "urgent import inform o2 user today lucki day 2 find log onto http fantast surpris await\n",
      "privat 2003 account statement 078\n",
      "well done england get offici poli rington colour flag yer mobil text tone flag 84199 txt eng stop box39822 w111wx\n",
      "88066 88066 lost 3pound help\n",
      "next month get upto 50 call 4 ur standard network charg 2 activ call 9061100010 c 1st4term pobox84 m26 3uz cost min mobcudb\n",
      "like tell deepest darkest fantasi call 09094646631 stop text call 08712460324 nat rate\n",
      "congratul ur award 500 cd voucher 125gift guarante free entri 2 100 wkli draw txt music 87066 tnc\n",
      "free2day sexi st georg day pic jordan txt pic 89080 dont miss everi wk sauci celeb 4 pic c 0870241182716\n",
      "themob yo yo come new select hot download member get free click open next link sent ur fone\n",
      "decemb mobil entitl updat latest colour camera mobil free call mobil updat co free 08002986906\n",
      "free msg singl find partner area 1000 real peopl wait chat send chat 62220cncl send stopc per msg\n",
      "gsoh good spam ladi u could b male gigolo 2 join uk fastest grow men club repli oncal mjzgroup repli stop msg\n",
      "hi babe chloe r u smash saturday night great weekend u miss sp text stop stop\n",
      "free rington wait collect simpli text password 85069 verifi get usher britney fml\n",
      "congratul ur award 500 cd voucher 125gift guarante free entri 2 100 wkli draw txt music 87066\n",
      "thank rington order refer number mobil charg tone arriv pleas call custom servic 09065989182\n",
      "urgent mobil number award ukp 2000 prize guarante call 09061790125 landlin claim valid 12hr 150ppm\n",
      "stop club tone repli mix see html term club tone cost mfl\n",
      "chosen receiv award pl call claim number 09066364311 collect award select receiv valu mobil custom\n",
      "prize go anoth custom c polo ltd suit 373 london w1j 6hl pleas call back busi\n",
      "custom may claim free camera phone upgrad pay go sim card loyalti call 0845 021 end c appli\n",
      "dear matthew pleas call 09063440451 landlin complimentari 4 lux tenerif holiday cash await collect ppm150 sae cs box334 sk38xh\n",
      "want new nokia 3510i colour phone deliv tomorrow 200 free minut mobil 100 free text free camcord repli call 8000930705\n",
      "new mobil 2004 must go txt nokia 89545 collect today 2optout txtauction\n",
      "fanci shag txt xxuk suzi txt cost per msg tnc websit x\n",
      "449050000301 price claim call 09050000301\n",
      "heard u4 call 4 rude chat privat line 01223585334 cum wan 2c pic gettin shag text pix 8552 2end send stop 8552 sam xxx\n",
      "ur award citi break could win summer shop spree everi wk txt store\n",
      "camera award sipix digit camera call 09061221066 fromm landlin deliveri within 28 day\n",
      "146tf150p\n",
      "mobil 11 month u r entitl updat latest colour mobil camera free call mobil updat co free 08002986030\n",
      "remind download content alreadi paid goto http mymobi collect content\n",
      "chanc win free bluetooth headset simpli repli back\n",
      "b floppi b snappi happi gay chat servic photo upload call 08718730666 2 stop text call 08712460324\n",
      "dear 0776xxxxxxx u invit xchat final attempt contact u txt chat 86688 ldn 18yr\n",
      "2nd time tri contact u prize 2 claim easi call 087104711148 10p per minut\n",
      "tri call repli sm video mobil 750 min unlimit text free camcord repli call 08000930705\n",
      "2nd attempt contact u u 09071512432 b4 300603t 50\n",
      "today voda number end 1225 select receiv match pleas call 08712300220 quot claim code 3100 standard rate app\n",
      "sunshin quiz win super soni dvd record cannam capit australia text mquiz b\n",
      "sm ac sptv new jersey devil detroit red wing play ice hockey correct incorrect end repli end sptv\n",
      "tri contact repli offer video handset 750 anytim network min unlimit text camcord repli call 08000930705\n",
      "talk sexi make new friend fall love world discreet text date servic text vip 83110 see could meet\n",
      "someon u know ask date servic 2 contact cant guess call 09058095107 reveal pobox 7 s3xi 150p\n",
      "refus loan secur unsecur ca get credit call free 0800 195 6669 text back\n",
      "welcom msg free give free call futur mg bill 150p daili cancel send stop 89123\n",
      "contract mobil 11 mnth latest motorola nokia etc free doubl min text orang tariff text ye callback remov record\n",
      "500 new mobil 2004 must go txt nokia 89545 collect today 2optout\n",
      "send logo 2 ur lover 2 name join heart txt love name1 name2 mobno eg love adam eve 07123456789 87077 yahoo pobox36504w45wq txtno 4 ad 150p\n",
      "1000 girl mani local 2 u r virgin 2 r readi 2 4fil ur everi sexual need u 4fil text cute 69911\n",
      "b4u voucher marsm log onto discount credit opt repli stop custom care call 08717168528\n",
      "mobil 11mth updat free orang latest colour camera mobil unlimit weekend call call mobil upd8 freefon 08000839402 2stoptx\n",
      "pleas call 08712402972 immedi urgent messag wait\n",
      "valu custom pleas advis follow recent review mob award bonu prize call 09066368470\n",
      "dear voucher holder next meal us use follow link pc 2 enjoy 2 4 1 dine experiencehttp\n",
      "sport fan get latest sport news str 2 ur mobil 1 wk free plu free tone txt sport 8007 norm\n",
      "free messag thank use auction subscript servic 18 2 skip auction txt 2 unsubscrib txt stop customercar 08718726270\n",
      "privat 2004 account statement 07742676969 show 786 unredeem bonu point claim call 08719180248 identifi code 45239 expir\n",
      "bought one rington get text cost 3 pound offer tone etc\n",
      "44 7732584351 want new nokia 3510i colour phone deliveredtomorrow 300 free minut mobil 100 free text free camcord repli call 08000930705\n",
      "week savamob member offer access call 08709501522 detail savamob pobox 139 la3 2wu savamob offer mobil\n",
      "receiv mobil content enjoy\n",
      "ur current 500 pound maxim ur send go 86688 cc 08718720201 po box\n",
      "boltblu tone 150p repli poli mono eg poly3 cha cha slide yeah slow jamz toxic come stop 4 tone txt\n",
      "urgent pleas call 09066612661 landlin cash luxuri 4 canari island holiday await collect cs sae award 20m12aq 150ppm\n",
      "natali invit friend repli see stop send stop frnd 62468\n",
      "hi custom loyalti offer new nokia6650 mobil txtauction txt word start 81151 get 4t ctxt tc\n",
      "back 2 work 2morro half term u c 2nite 4 sexi passion b4 2 go back chat 09099726481 luv dena call\n",
      "u outbid simonwatson5120 shinco dvd plyr 2 bid visit sm 2 end bid notif repli end\n",
      "urgent mobil number award prize guarante call 09058094454 land line claim valid 12hr\n",
      "urgent 09066649731from landlin complimentari 4 ibiza holiday cash await collect sae cs po box 434 sk3 8wp 150ppm\n",
      "winner u special select 2 receiv 4 holiday flight inc speak live oper 2 claim\n",
      "repli win weekli 2006 fifa world cup held send stop 87239 end servic\n",
      "ur current 500 pound maxim ur send collect 83600 cc 08718720201 po box\n",
      "fantasi footbal back tv go sky gamestar sky activ play dream team score start saturday regist sky opt 88088\n",
      "one regist subscrib u enter draw 4 100 gift voucher repli enter unsubscrib text stop\n",
      "lastest stereophon marley dizze racal libertin stroke win nookii game flirt click themob wap bookmark text wap 82468\n",
      "want explicit sex 30 sec ring 02073162414 cost\n",
      "free polyphon rington text super 87131 get free poli tone week 16 sn pobox202 nr31 7z subscript 450pw\n",
      "u select stay 1 250 top british hotel noth holiday valu dial 08712300220 claim nation rate call bx526 sw73ss\n",
      "want latest video handset 750 anytim network min half price line rental repli call 08000930705 deliveri tomorrow\n",
      "win shop spree everi week start 2 play text store skilgm tscs08714740323 1winawk age16\n",
      "urgent mobil award bonu caller prize 2nd attempt contact call box95qu bt nation rate\n",
      "sunshin hol claim ur med holiday send stamp self address envelop drink us uk po box 113 bray wicklow eir quiz start saturday unsub stop\n",
      "eeri nokia tone 4u rpli tone titl 8007 eg tone dracula 8007 titl ghost addamsfa munster exorcist twilight pobox36504w45wq 150p\n",
      "sorri u unsubscrib yet mob offer packag min term 54 week pl resubmit request expiri repli themob help 4 info\n",
      "buy space invad 4 chanc 2 win orig arcad game consol press 0 game arcad std wap charg see 4 term set purchas\n",
      "free 1st week no1 nokia tone 4 ur mob everi week txt nokia 87077 get txting tell ur mate zed pobox 36504 w45wq\n",
      "2nd time tri contact u prize claim call 09053750005 b4 sm 08718725756 140ppm\n",
      "wamma get laid want real doggin locat sent direct mobil join uk largest dog network txt dog 69696 nyt ec2a 3lp\n",
      "74355 xma iscom ur award either cd gift voucher free entri 2 r weekli draw txt music 87066 tnc\n",
      "winner valu network custom select receivea prize reward claim call claim code kl341 valid 12 hour\n",
      "privat 2003 account statement show 800 point call 08715203694 identifi code 40533 expir\n",
      "2004 account 07xxxxxxxxx show 786 unredeem point claim call 08719181259 identifi code xxxxx expir\n",
      "2p per min call germani 08448350055 bt line 2p per min check info c text stop opt\n",
      "think ur smart win week weekli quiz text play 85222 cs winnersclub po box 84 m26 3uz\n",
      "get ur 1st rington free repli msg tone gr8 top 20 tone phone everi week per wk 2 opt send stop 08452810071 16\n",
      "hi ya babe x u 4goten bout scammer get smart though regular vodafon respond get prem rate no use also bewar\n",
      "want 2 get laid tonight want real dog locat sent direct 2 ur mob join uk largest dog network txting moan 69888nyt ec2a 150p\n",
      "hottest pic straight phone see get wet want xx text pic 89555 txt cost 150p textoper g696ga 18 xxx\n",
      "sexi singl wait text age follow gender wither f gay men text age follow\n",
      "u win music gift voucher everi week start txt word draw 87066 tsc skillgam 1winaweek age16 150ppermesssubscript\n",
      "tone club sub expir 2 repli monoc 4 mono polyc 4 poli 1 weekli 150p per week txt stop 2 stop msg free stream 0871212025016\n",
      "claim 200 shop spree call 08717895698 mobstorequiz10ppm\n",
      "doubl min 1000 txt orang tariff latest motorola sonyericsson nokia bluetooth free call mobileupd8 08000839402\n",
      "pleas call amanda regard renew upgrad current handset free charg offer end today tel 0845 021 3680 subject c\n",
      "u meet ur dream partner soon ur career 2 flyng start 2 find free txt horo follow ur star sign horo ari\n",
      "urgent ur guarante award still unclaim call 09066368327 claimcod m39m51\n",
      "eastend tv quiz flower dot compar violet tulip lili txt e f 84025 4 chanc 2 win cash\n",
      "heard u4 call night knicker make beg like u last time 01223585236 xx luv\n",
      "download mani rington u like restrict 1000 2 choos u even send 2 yr buddi txt sir 80082\n",
      "donat unicef asian tsunami disast support fund text donat 864233 ad next bill\n",
      "forward 88877 free entri weekli comp send word enter 88877 18 c\n",
      "ye place town meet excit adult singl uk txt chat 86688\n",
      "rgent 2nd attempt contact u u call 09071512433 b4 050703 csbcm4235wc1n3xx callcost 150ppm mobilesvari 50\n",
      "free entri 2 weekli comp chanc win ipod txt pod 80182 get entri std txt rate c appli 08452810073 detail\n",
      "ever notic drive anyon go slower idiot everyon drive faster maniac\n",
      "spjanuari male sale hot gay chat cheaper call nation rate cheap peak stop text call 08712460324\n",
      "repli win weekli profession sport tiger wood play send stop 87239 end servic\n",
      "hi sexychat girl wait text text great night chat send stop stop servic\n",
      "wml c\n",
      "someon contact date servic enter phone becausethey fanci find call landlin pobox1 w14rg 150p\n",
      "call 09095350301 send girl erot ecstaci stop text call 08712460324 nat rate\n",
      "welcom pleas repli age gender begin 24m\n",
      "promot number 8714714 ur award citi break could win summer shop spree everi wk txt store 88039 skilgm tscs087147403231winawk age16\n",
      "someon conact date servic enter phone fanci find call landlin pobox12n146tf15\n",
      "thank rington order refer number x29 mobil charg tone arriv pleas call custom servic 09065989180\n",
      "lyricalladi invit friend repli see stop send stop frnd 62468\n",
      "0a network allow compani bill sm respons\n",
      "dear 0776xxxxxxx u invit xchat final attempt contact u txt chat 86688 ldn 18yr\n",
      "chanc realiti fantasi show call 08707509020 20p per min ntt ltd po box 1327 croydon cr9 5wb 0870 nation rate call\n",
      "ever thought live good life perfect partner txt back name age join mobil commun\n",
      "want 750 anytim network min 150 text new video phone five pound per week call 08002888812 repli deliveri tomorrow\n",
      "save money wed lingeri choos superb select nation deliveri brought weddingfriend\n",
      "warner villag 83118 c colin farrel swat wkend warner villag get 1 free med popcorn show c c kiosk repli soni 4 mre film offer\n",
      "urgent pleas call 09061213237 landlin cash luxuri 4 canari island holiday await collect cs sae po box m227xi 150ppm\n",
      "want explicit sex 30 sec ring 02073162414 cost gsex pobox 2667 wc1n 3xx\n",
      "twink bear scalli skin jock call miss weekend fun call 08712466669 2 stop text call 08712460324 nat rate\n",
      "rington club gr8 new poli direct mobil everi week\n",
      "xma new year eve ticket sale club day 10am till 8pm thur fri sat night week sell fast\n",
      "urgent import inform 02 user today lucki day 2 find log onto http fantast surpris await\n",
      "sm auction brand new nokia 7250 4 auction today auction free 2 join take part txt nokia 86021\n",
      "ask 3mobil 0870 chatlin inclu free min india cust serv sed ye l8er got mega bill 3 dont giv shit bailiff due day 3 want\n",
      "rcv msg chat svc free hardcor servic text go 69988 u get noth u must age verifi yr network tri\n",
      "free entri weekli competit text word win 80086 18 c\n",
      "review keep fantast nokia game deck club nokia go 2 unsubscrib alert repli word\n",
      "select stay 1 250 top british hotel noth holiday worth claim call london bx 526 sw73ss\n",
      "hot live fantasi call 08707500020 20p per min ntt ltd po box 1327 croydon cr9 5wb 0870 nation rate call\n",
      "pleas call 08712402578 immedi urgent messag wait\n",
      "hey realli horni want chat see nake text hot 69698 text charg 150pm unsubscrib text stop 69698\n",
      "100 date servic cal l 09064012103 box334sk38ch\n",
      "send logo 2 ur lover 2 name join heart txt love name1 name2 mobno eg love adam eve 07123456789 87077 yahoo pobox36504w45wq txtno 4 ad 150p\n",
      "tkt euro2004 cup final cash collect call 09058099801 b4190604 pobox 7876150ppm\n",
      "enjoy jamster videosound gold club credit 2 new get fun help call 09701213186\n",
      "regist optin subscrib ur draw 4 gift voucher enter receipt correct an 80062 what no1 bbc chart\n",
      "sm auction nokia 7250i get win free auction take part send nokia 86021\n",
      "block breaker come delux format new featur great graphic buy repli get bbdelux take challeng\n",
      "privat 2003 account statement 07808247860 show 800 point call 08719899229 identifi code 40411 expir\n",
      "free camera phone linerent 750 cross ntwk min price txt bundl deal also avbl call 08001950382 mf\n",
      "88066 lost help\n",
      "want new video phone750 anytim network min 150 text five pound per week call 08000776320 repli deliveri tomorrow\n",
      "dear voucher holder claim week offer pc pleas go http ts cs appli stop text txt stop 80062\n",
      "urgent mobil award bonu caller prize final attempt 2 contact u call 08714714011\n",
      "hi ami send free phone number coupl day give access adult parti\n",
      "get 3 lion england tone repli lionm 4 mono lionp 4 poli 4 go 2 origin n best tone 3gbp network oper rate appli\n",
      "email alertfrom jeri stewarts 2kbsubject prescripiton drvgsto listen email call 123\n",
      "sm ac jsco energi high u may know 2channel 2day ur leadership skill r strong psychic repli an end repli end jsco\n",
      "custom servic annonc new year deliveri wait pleas call 07046744435 arrang deliveri\n",
      "ur chanc win wkli shop spree txt shop c custcar 08715705022\n",
      "shop till u drop either 10k 5k cash travel voucher call ntt po box cr01327bt fixedlin cost 150ppm mobil vari\n",
      "rip get mobil content call 08717509990 six download 3\n",
      "urgent pleas call 09061213237 landlin cash 4 holiday await collect cs sae po box 177 m227xi\n",
      "marvel mobil play offici ultim game ur mobil right text spider 83338 game send u free 8ball wallpap\n",
      "regist subscrib yr draw 4 gift voucher b enter receipt correct an next olymp txt an 80062\n",
      "pleas call 08712402902 immedi urgent messag wait\n",
      "mobi pub high street prize u know new duchess cornwal txt first name stop 008704050406 sp\n",
      "import messag final contact attempt import messag wait custom claim dept expir call 08717507382\n",
      "custom loyalti offer new nokia6650 mobil txtauction txt word start 81151 get 4t ctxt tc\n",
      "spook mob halloween collect logo pic messag plu free eeri tone txt card spook 8007 zed 08701417012150p per\n",
      "urgent last weekend draw show cash spanish holiday call 09050000332 claim c rstm sw7 3ss 150ppm\n",
      "hmv bonu special 500 pound genuin hmv voucher answer 4 easi question play send hmv 86688 info\n",
      "goldvik invit friend repli see stop send stop frnd 62468\n",
      "500 new mobil 2004 must go txt nokia 89545 collect today 2optout txtauction\n",
      "monthli password wap use wap phone pc\n",
      "santa call would littl one like call santa xma eve call 09077818151 book time last 3min 30 c\n",
      "urgent call 09066350750 landlin complimentari 4 ibiza holiday cash await collect sae cs po box 434 sk3 8wp 150 ppm\n",
      "urgent tri contact today draw show prize guarante call 09050003091 land line claim c52 valid12hr\n",
      "congratul ur award either cd gift voucher free entri 2 weekli draw txt music 87066 tnc 1 win150ppmx3age16\n",
      "dear dave final notic collect 4 tenerif holiday 5000 cash award call 09061743806 landlin tc sae box326 cw25wx 150ppm\n",
      "realiz 40 year thousand old ladi run around tattoo\n",
      "free game get rayman golf 4 free o2 game arcad 1st get ur game set repli post save activ8 press 0 key arcad termsappli\n",
      "romant pari 2 night 2 flight book 4 next year call 08704439680t cs appli\n",
      "want 750 anytim network min 150 text new video phone five pound per week call 08000776320 repli deliveri tomorrow\n",
      "sm servic inclus text credit pl goto unsubscrib stop extra charg po box420 ip4 5we\n",
      "mobil 10 mth updat latest orang phone free save free call text ye callback orno opt\n",
      "welcom select o2 servic ad benefit call special train advisor free mobil diall 402\n",
      "pleas call custom servic repres 0800 169 6031 guarante cash prize\n",
      "urgent mobil 07xxxxxxxxx bonu caller prize 2nd attempt reach call 09066362231 asap box97n7qp 150ppm\n",
      "contact date servic someon know find call land line pobox45w2tg150p\n",
      "mobil 10 mth updat latest phone free keep ur number get extra free text ye call\n",
      "bangbab ur order way u receiv servic msg 2 download ur content u goto wap bangb tv ur mobil menu\n",
      "peopl dog area call 09090204448 join like mind guy arrang 1 1 even minapn ls278bb\n",
      "3 free tarot text find love life tri 3 free text chanc 85555 16 3 free msg\n",
      "life never much fun great came made truli special wo forget enjoy one\n",
      "pleas call 08712402779 immedi urgent messag wait\n",
      "thank rington order ref number r836 mobil charg tone arriv pleas call custom servic 09065069154\n",
      "xclusiv clubsaisai 2morow soire special zouk nichol rose 2 ladi info\n",
      "hack chat get backdoor entri 121 chat room fraction cost repli neo69 call 09050280520 subscrib 25p pm dp bcm box 8027 ldn wc1n3xx\n",
      "adult 18 content video shortli\n",
      "lookatm thank purchas video clip lookatm charg 35p think better send video mmsto 32323\n",
      "weekli tone readi download week new tone includ 1 crazi f 2 3 black p info n\n",
      "msg mobil content order resent previou attempt fail due network error queri customersqueri\n",
      "thank vote sing along star karaok mobil free link repli sing\n",
      "simpson movi releas juli 2007 name band die start film day day day send b c\n",
      "want new video phone 750 anytim network min half price line rental free text 3 month repli call 08000930705 free deliveri\n",
      "sm ac blind date 4u rodds1 aberdeen unit kingdom check http sm blind date send hide\n",
      "free rington text first 87131 poli text get 87131 true tone help 0845 2814032 16 1st free tone txt stop\n",
      "urgent mobil number award prize guarante call 09058094455 land line claim valid 12hr\n",
      "congratul ur award either yr suppli cd virgin record mysteri gift guarante call 09061104283 ts cs approx 3min\n",
      "sim subscrib select receiv bonu get deliv door txt word ok 88600 claim exp 30apr\n",
      "sppok ur mob halloween collect nokia logo pic messag plu free eeri tone txt card spook 8007\n",
      "want new video phone 600 anytim network min 400 inclus video call download 5 per week free deltomorrow call 08002888812 repli\n",
      "hot live fantasi call 08707509020 20p per min ntt ltd po box 1327 croydon cr9 5wb 0870 k\n",
      "sm auction brand new nokia 7250 4 auction today auction free 2 join take part txt nokia 86021\n",
      "hi 07734396839 ibh custom loyalti offer new nokia6600 mobil txtauction txt word start get 4t\n",
      "valu vodafon custom comput pick win prize collect easi call 09061743386\n",
      "urgent pleas call abta complimentari 4 spanish holiday cash await collect sae cs box 47 po19 2ez 150ppm\n",
      "win newest potter order phoenix book 5 repli harri answer 5 question chanc first among reader\n",
      "sexi sexi cum text im wet warm readi porn u fun msg free recd msg 150p inc vat 2 cancel text stop\n",
      "urgent mobil award bonu caller prize 2nd attempt contact call box95qu\n",
      "5 free top polyphon tone call 087018728737 nation rate get toppoli tune sent everi week text subpoli 81618 per pole unsub 08718727870\n",
      "1 new messag pleas call 08718738034\n",
      "u subscrib best mobil content servic uk per ten day send stop helplin 08706091795\n",
      "want new nokia 3510i colour phone deliveredtomorrow 300 free minut mobil 100 free text free camcord repli call 08000930705\n",
      "last chanc claim ur worth discount voucher today text shop 85023 savamob offer mobil cs savamob pobox84 m263uz sub 16\n",
      "hi babe jordan r u im home abroad lone text back u wan na chat xxsp text stop stopcost 150p 08712400603\n",
      "hi 2night ur lucki night uve invit 2 xchat uk wildest chat txt chat 86688 ldn 18yr\n",
      "smsservic yourinclus text credit pl goto 3qxj9 unsubscrib stop extra charg help 9ae\n",
      "unsubscrib servic get ton sexi babe hunk straight phone go http subscript\n",
      "gr8 new servic live sex video chat mob see sexiest dirtiest girl live ur phone 4 detail text horni 89070 cancel send stop 89070\n",
      "chanc realiti fantasi show call 08707509020 20p per min ntt ltd po box 1327 croydon cr9 5wb 0870 nation rate call\n",
      "kit strip bill 150p netcollex po box 1013 ig11 oja\n",
      "date servic ask 2 contact u someon shi call 09058091870 reveal pobox84 m26 3uz 150p\n",
      "privat 2003 account statement show 800 point call 08715203652 identifi code 42810 expir\n",
      "hi ur lookin 4 sauci daytim fun wiv busti marri woman free next week chat 2 sort time 09099726429 janinexx\n",
      "ur balanc next question complet landmark big bob barri ben text b c good luck\n",
      "privat 2003 account statement fone show 800 point call 08715203656 identifi code 42049 expir\n",
      "xma offer latest motorola sonyericsson nokia free bluetooth doubl min 1000 txt orang call mobileupd8 08000839402\n",
      "congrat 2 mobil 3g videophon r call 09063458130 videochat wid mate play java game dload polyph music nolin rentl\n",
      "urgent mobil bonu caller prize 2nd attempt reach call 09066362220 asap box97n7qp 150ppm\n",
      "babe u want dont u babi im nasti thing 4 filthyguy fanci rude time sexi bitch go slo n hard txt xxx slo 4msg\n",
      "today voda number end 5226 select receiv 350 award hava match pleas call 08712300220 quot claim code 1131 standard rate app\n",
      "freemsg today day readi horni live town love sex fun game netcollex ltd 08700621170150p per msg repli stop end\n",
      "2nd time tri 2 contact u pound prize 2 claim easi call 087187272008 now1 10p per minut\n",
      "hi sue 20 year old work lapdanc love sex text live bedroom text sue textoper g2 1da 150ppmsg\n",
      "import custom servic announc premier call freephon 0800 542 0578\n",
      "free 1st week entri 2 textpod 4 chanc 2 win 40gb ipod cash everi wk txt vpod 81303 ts cs custcar 08712405020\n",
      "ur chanc win cash everi wk txt play c custcar 08715705022\n",
      "today voda number end 7634 select receiv reward match pleas call 08712300220 quot claim code 7684 standard rate appli\n",
      "u secret admir look 2 make contact r reveal think ur\n",
      "doubl min doubl txt price linerent latest orang bluetooth mobil call mobileupd8 latest offer 08000839402\n",
      "urgent tri contact u today draw show prize guarante call 09050000460 land line claim j89 po box245c2150pm\n",
      "urgent tri contact last weekend draw show prize guarante call claim code k61 valid 12hour\n",
      "contact date servic someon know find call mobil landlin 09064017305 pobox75ldns7\n",
      "xxxmobilemovieclub use credit click wap link next txt messag click http\n",
      "freemsg feelin kinda lnli hope u like 2 keep compani jst got cam mobi wan na c pic txt repli date 82242 msg150p 2rcv hlp 08712317606 stop 82242\n",
      "text banneduk 89555 see cost 150p textoper g696ga xxx\n",
      "hungri gay guy feel hungri 4 call 08718730555 stop text call 08712460324\n",
      "wo believ true incred txt repli g learn truli amaz thing blow mind o2fwd\n",
      "get touch folk wait compani txt back name age opt enjoy commun\n",
      "2nd time tri 2 contact u 750 pound prize 2 claim easi call 08718726970 10p per min\n",
      "gr8 poli tone 4 mob direct 2u rpli poli titl 8007 eg poli breathe1 titl crazyin sleepingwith finest ymca pobox365o4w45wq 300p\n",
      "dear voucher holder claim week offer pc pleas go http ts cs appli\n",
      "ur tonex subscript renew charg choos 10 poli month bill msg\n",
      "want cock hubbi away need real man 2 satisfi txt wife 89938 string action txt stop 2 end txt rec otbox 731 la1 7w\n",
      "messag import inform o2 user today lucki day 2 find log onto http fantast surpris await\n",
      "want funk ur fone weekli new tone repli tones2u 2 text origin n best tone 3gbp network oper rate appli\n",
      "call 09090900040 listen extrem dirti live chat go offic right total privaci one know sic listen 60p min\n",
      "freemsg hey buffi 25 love satisfi men home alon feel randi repli 2 c pix qlynnbv help08700621170150p msg send stop stop txt\n",
      "12mth half price orang line rental 400min call mobileupd8 08000839402\n",
      "ringtonek 84484\n",
      "santa call would littl one like call santa xma eve call 09058094583 book time\n",
      "guarante 32000 award mayb even cash claim ur award call free 0800 legitimat efreefon number wat u think\n",
      "want new video handset 750 anytim network min half price line rental camcord repli call 08000930705 deliveri tomorrow\n",
      "xma reward wait comput randomli pick loyal mobil custom receiv reward call 09066380611\n",
      "thank rington order ref number k718 mobil charg tone arriv pleas call custom servic 09065069120\n",
      "money wine number 946 wot next\n",
      "5p 4 alfi moon children need song ur mob tell ur m8 txt tone chariti 8007 nokia poli chariti poli zed 08701417012 profit 2 chariti\n",
      "85233 free rington repli real\n",
      "urgent tri contact last weekend draw show prize guarante call claim code s89 valid 12hr\n",
      "free 1st week no1 nokia tone 4 ur mob everi week txt nokia 8007 get txting tell ur mate pobox 36504 w45wq\n",
      "ur hmv quiz current maxim ur send hmv1 86688\n",
      "free tone hope enjoy new content text stop 61610 unsubscrib provid\n",
      "doubl min txt orang price linerent motorola sonyericsson free call mobileupd8 08000839402\n",
      "urgent mobil 077xxx bonu caller prize 2nd attempt reach call 09066362206 asap box97n7qp 150ppm\n",
      "mobil club choos top qualiti item mobil 7cfca1a\n",
      "freemsg hi babi wow got new cam mobi wan na c hot pic fanci chat im w8in 4utxt rpli chat 82242 hlp 08712317606 msg150p 2rcv\n",
      "urgent call 09066350750 landlin complimentari 4 ibiza holiday cash await collect sae cs po box 434 sk3 8wp 150 ppm\n",
      "pleas call custom servic repres freephon 0808 145 4742 guarante cash prize\n",
      "network oper servic free c visit\n",
      "guarante latest nokia phone 40gb ipod mp3 player prize txt word collect 83355 ibhltd ldnw15h\n",
      "free 1st week no1 nokia tone 4 ur mobil everi week txt nokia 8077 get txting tell ur mate pobox 36504 w45wq\n",
      "tri contact respons offer new nokia fone camcord hit repli call 08000930705 deliveri\n",
      "someon contact date servic enter phone fanci find call landlin 09111032124 pobox12n146tf150p\n",
      "mobi pub high street prize u know new duchess cornwal txt first name stop 008704050406 sp arrow\n",
      "bloomberg center wait appli futur http\n",
      "hot n horni will live local text repli hear strt back 150p per msg netcollex ltdhelpdesk 02085076972 repli stop end\n",
      "recpt order rington order process\n",
      "free entri gr8prize wkli comp 4 chanc win latest nokia 8800 psp cash everi great 80878 08715705022\n",
      "call 08702490080 tell u 2 call 09066358152 claim prize u 2 enter ur mobil person detail prompt care\n",
      "urgent urgent 800 free flight europ give away call b4 10th sept take friend 4 free call claim ba128nnfwfly150ppm\n",
      "lord ring return king store repli lotr 2 june 4 chanc 2 win lotr soundtrack cd stdtxtrate repli stop end txt\n",
      "free nokia motorola upto 12mth linerent 500 free min free call mobileupd8 08001950382 call\n",
      "sm ac sun0819 post hello seem cool\n",
      "winner u special select 2 receiv cash 4 holiday flight inc speak live oper 2 claim 0871277810810\n",
      "dear subscrib ur draw 4 gift voucher b enter receipt correct an elvi presley birthday txt answer 80062\n",
      "ur current 500 pound maxim ur send go 86688 cc 08718720201\n",
      "txt call 86888 claim reward 3 hour talk time use phone inc 3hr 16 stop txtstop\n",
      "freemsg unlimit free call activ smartcal txt call unlimit call help 08448714184 stop txt stop landlineonli\n",
      "contract mobil 11 mnth latest motorola nokia etc free doubl min text orang tariff text ye callback remov record\n",
      "remind o2 get pound free call credit detail great offer pl repli 2 text valid name hous postcod\n",
      "win year suppli cd 4 store ur choic worth enter weekli draw txt music 87066 ts cs\n",
      "splashmobil choos 1000 gr8 tone wk subscrit servic weekli tone cost 300p u one credit kick back enjoy\n",
      "burger king wan na play footi top stadium get 2 burger king 1st sept go larg super walk winner\n",
      "camera award sipix digit camera call 09061221066 fromm landlin deliveri within 28 day\n",
      "prize go anoth custom c polo ltd suit 373 london w1j 6hl pleas call back busi\n",
      "hot live fantasi call 08707509020 20p per min ntt ltd po box 1327 croydon cr9 5wb 0870 nation rate call\n",
      "ur chanc win cash everi wk txt action c custcar 08712405022\n",
      "mila age23 blond new uk look sex uk guy u like fun text mtalk 1st 5free increment help08718728876\n",
      "u 447801259231 secret admir look 2 make contact r reveal think ur 09058094597\n",
      "gent tri contact last weekend draw show prize guarante call claim code k52 valid 12hr 150ppm\n",
      "u secret admir look 2 make contact r reveal think ur 09058094565\n",
      "sm servic inclus text credit pl goto 3qxj9 unsubscrib stop extra charg help 9ae\n",
      "valu custom pleas advis follow recent review mob award bonu prize call 09066364589\n",
      "u get 2 phone wan na chat 2 set meet call 09096102316 u cum 2moro luv jane xx\n",
      "today vodafon number end 0089 last four digit select receiv award number match pleas call 09063442151 claim award\n",
      "winner valu network custom hvae select receiv reward collect call valid 24 hour acl03530150pm\n",
      "congrat 2 mobil 3g videophon r call 09063458130 videochat wid ur mate play java game dload polyph music nolin rentl bx420 ip4 5we 150p\n",
      "2nd attempt contract u week top prize either cash prize call 09066361921\n",
      "jamster get crazi frog sound poli text mad1 real text mad2 88888 6 crazi sound 3 c appli\n",
      "current messag await collect collect messag call 08718723815\n",
      "congratul ur award either cd gift voucher free entri 2 weekli draw txt music 87066 tnc\n",
      "got take 2 take part wrc ralli oz u lucozad energi text ralli le 61200 25p see pack itcould u\n",
      "winner special select receiv cash award speak live oper claim call cost 10p\n",
      "natalja invit friend repli see stop send stop frnd 62468\n",
      "ree entri 2 weekli comp chanc win ipod txt pod 80182 get entri std txt rate c appli 08452810073 detail\n",
      "today vodafon number end 4882 select receiv award number match call 09064019014 receiv award\n",
      "thank winner notifi sm good luck futur market repli stop 84122 custom servic 08450542832\n",
      "urgent 4 costa del sol holiday await collect call 09050090044 toclaim sae tc pobox334 stockport sk38xh max10min\n",
      "83039 uk break accommodationvouch term condit appli 2 claim mustprovid claim number 15541\n",
      "privat 2003 account statement show 800 point call 08718738001 identifi code 49557 expir\n",
      "themob check newest select content game tone gossip babe sport keep mobil fit funki text wap 82468\n",
      "25p 4 alfi moon children need song ur mob tell ur m8 txt tone chariti 8007 nokia poli chariti poli zed 08701417012 profit 2 chariti\n",
      "new tone week includ 1 ab 2 sara 3 order follow instruct next messag\n",
      "come take littl time child afraid dark becom teenag want stay night\n",
      "someon u know ask date servic 2 contact cant guess call 09058097189 reveal pobox 6 ls15hb 150p\n",
      "freemsg hey u got 1 fone repli wild txt ill send u pic hurri im bore work xxx 18 stop2stop\n",
      "get lot cash weekend dear welcom weekend got biggest best ever cash give away\n",
      "u secret admir look 2 make contact r reveal think ur 09058094594\n",
      "eeri nokia tone 4u rpli tone titl 8007 eg tone dracula 8007 titl ghost addamsfa munster exorcist twilight pobox36504w45wq 150p\n",
      "wan2 win westlif 4 u m8 current tour 1 unbreak 2 untam 3 unkempt text 3 cost 50p text\n",
      "dorothi bank granit issu explos pick member 300 nasdaq symbol cdgt per\n",
      "want new nokia 3510i colour phone deliv tomorrow 200 free minut mobil 100 free text free camcord repli call 08000930705\n",
      "monthlysubscript csc web age16 2stop txt stop\n",
      "1 new voicemail pleas call 08719181503\n",
      "get free mobil video player free movi collect text go free extra film order c appli 18 yr\n",
      "rock yr chik get 100 filthi film xxx pic yr phone rpli filth saristar ltd e14 9yt 08701752560 450p per 5 day stop2 cancel\n",
      "win urgent mobil number award prize guarante call 09061790121 land line claim 3030 valid 12hr 150ppm\n",
      "know u u know send chat 86688 let find rcvd ldn 18 year\n",
      "ur balanc ur next question sang girl 80 2 answer txt ur answer good luck\n",
      "freemsg repli text randi sexi femal live local luv hear netcollex ltd 08700621170150p per msg repli stop end\n",
      "cash prize claim call09050000327\n",
      "clair havin borin time alon u wan na cum 2nite chat 09099725823 hope 2 c u luv clair xx\n",
      "join uk horniest dog servic u sex 2nite sign follow instruct txt entri 69888 150p\n",
      "winner guarante caller prize final attempt contact claim call 09071517866 150ppmpobox10183bhamb64x\n",
      "new local date area lot new peopl regist area repli date start 18 replys150\n",
      "urgent 2nd attempt contact prize yesterday still await collect claim call acl03530150pm\n",
      "check choos babe video fgkslpopw fgkslpo\n",
      "guarante cash prize claim yr prize call custom servic repres 08714712412 cost 10p\n",
      "xma iscom ur award either cd gift voucher free entri 2 r weekli draw txt music 87066 tnc\n",
      "congrat 1 year special cinema pass 2 call 09061209465 c suprman v matrix3 starwars3 etc 4 free 150pm dont miss\n",
      "stop bootydeli invit friend repli see stop send stop frnd 62468\n",
      "special select receiv 2000 pound award call 08712402050 line close cost 10ppm cs appli ag promo\n",
      "4mth half price orang line rental latest camera phone 4 free phone 11mth call mobilesdirect free 08000938767 updat or2stoptxt\n",
      "import custom servic announc call freephon 0800 542 0825\n",
      "would like see xxx pic hot nearli ban uk\n",
      "freemsg fanci flirt repli date join uk fastest grow mobil date servic msg rcvd 25p optout txt stop repli date\n",
      "themob hit link get premium pink panther game new 1 sugabab crazi zebra anim badass hoodi 4 free\n",
      "free entri 2 wkli comp win fa cup final tkt 21st may text fa 87121 receiv entri question std txt rate c appli 08452810075over18\n",
      "new textbuddi chat 2 horni guy ur area 4 25p free 2 receiv search postcod txt one name 89693\n",
      "filthi stori girl wait\n",
      "urgent pleas call 09061743811 landlin abta complimentari 4 tenerif holiday cash await collect sae cs box 326 cw25wx 150ppm\n",
      "free ring tone text everi week get new tone 0870737910216yr\n",
      "cd 4u congratul ur award cd gift voucher gift guarante freeentri 2 wkli draw xt music 87066 tnc\n",
      "decemb mobil entitl updat latest colour camera mobil free call mobil updat vco free 08002986906\n",
      "wan na laugh tri mobil logon txting word chat send 8883 cm po box 4217 london w1a 6zf rcvd\n",
      "urgent mobil 07808726822 award bonu caller prize 2nd attempt contact call box95qu\n",
      "mobil 11mth updat free orang latest colour camera mobil unlimit weekend call call mobil upd8 freefon 08000839402 2stoptxt\n",
      "privat 2003 account statement 07815296484 show 800 point call 08718738001 identifi code 41782 expir\n",
      "januari male sale hot gay chat cheaper call nation rate cheap peak stop text call 08712460324\n",
      "someon u know ask date servic 2 contact cant guess call 09058091854 reveal po box385 m6 6wu\n",
      "account credit 500 free text messag activ txt word credit 80488 cs\n",
      "date two start sent text talk sport radio last week connect think coincid\n",
      "money r lucki winner 2 claim prize text money 2 88600 give away text rate box403 w1t1ji\n",
      "urgent call 09066612661 landlin complementari 4 tenerif holiday cash await collect sae cs po box 3 wa14 2px 150ppm sender hol offer\n",
      "link pictur sent also use http\n",
      "okmail dear dave final notic collect 4 tenerif holiday 5000 cash award call 09061743806 landlin tc sae box326 cw25wx 150ppm\n",
      "today offer claim ur worth discount voucher text ye 85023 savamob member offer mobil cs 08717898035 sub 16 unsub repli x\n",
      "500 free text msg text ok 80488 credit account\n",
      "wow boy r back take 2007 uk tour win vip ticket vip club txt club trackmarqu ltd info vipclub4u\n",
      "current lead bid paus auction send custom care 08718726270\n",
      "england v macedonia dont miss news txt ur nation team 87077 eg england 87077 tri wale scotland poboxox36504w45wq\n",
      "nokia 7250i get win free auction take part send nokia 86021\n",
      "big brother alert comput select u 10k cash 150 voucher call ntt po box cro1327 bt landlin cost 150ppm mobil vari\n",
      "bin award play 4 instant cash call 08715203028 claim everi 9th player win min optout 08718727870\n",
      "get garden readi summer free select summer bulb seed worth scotsman saturday stop go2\n",
      "tri contact repli offer 750 min 150 textand new video phone call 08002988890 repli free deliveri tomorrow\n",
      "1 nokia tone 4 ur mob everi week txt nok 87021 1st tone free get txtin tell ur friend 16 repli hl 4info\n",
      "hi mandi sullivan call hotmix fm chosen receiv easter prize draw pleas telephon 09041940223 claim prize transfer someon els\n",
      "guess somebodi know secretli fanci wan na find give us call 09065394973 landlin datebox1282essexcm61xn 18\n",
      "urgent 2nd attempt contact u u call 09071512433 b4 050703 csbcm4235wc1n3xx callcost 150ppm mobilesvari 50\n",
      "contact date servic someon know find call land line pobox45w2tg150p\n",
      "privat 2004 account statement 078498 7 show 786 unredeem bonu point claim call 08719180219 identifi code 45239 expir\n",
      "free video camera phone half price line rental 12 mth 500 cross ntwk min 100 txt call mobileupd8 08001950382\n",
      "rington club get uk singl chart mobil week choos top qualiti rington messag free charg\n",
      "guarante latest nokia phone 40gb ipod mp3 player prize txt word collect 83355 ibhltd ldnw15h\n",
      "valentin day special win quiz take partner trip lifetim send go 83600 rcvd\n",
      "urgent mobil award bonu caller prize final tri contact u call landlin 09064019788 box42wr29c 150ppm\n",
      "hello orang 1 month free access game news sport plu 10 free text 20 photo messag repli ye term appli\n",
      "1 new messag pleas call 08712400200\n",
      "1 polyphon tone 4 ur mob everi week txt pt2 87575 1st tone free get txtin tell ur friend 16 repli hl 4info\n",
      "winner special select receiv cash award speak live oper claim call cost 10p\n",
      "4 costa del sol holiday await collect call 09050090044 toclaim sae tc pobox334 stockport sk38xh max10min\n",
      "dear u invit xchat final attempt contact u txt chat 86688\n",
      "privat 2003 account statement show 800 point call 08718738002 identifi code 48922 expir\n",
      "someonon know tri contact via date servic find could call mobil landlin 09064015307 box334sk38ch\n",
      "guarante cash prize claim yr prize call custom servic repres 08714712394\n",
      "u want xma 100 free text messag new video phone half price line rental call free 0800 0721072 find\n",
      "hard live 121 chat choos girl connect live call 09094646899 cheap chat uk biggest live servic vu bcm1896wc1n3xx\n",
      "want new nokia 3510i colour phone deliveredtomorrow 300 free minut mobil 100 free text free camcord repli call 08000930705\n",
      "2nd time tri 2 contact u 750 pound prize 2 claim easi call 08712101358 10p per min\n",
      "take part mobil survey yesterday 500 text 2 use howev wish 2 get txt send txt 80160 c\n",
      "great news call freefon 08006344447 claim guarante cash gift speak live oper\n",
      "1st wk free gr8 tone str8 2 u wk txt nokia 8007 classic nokia tone hit 8007 poli\n",
      "tddnewslett game thedailydraw dear helen dozen free game great prizeswith\n",
      "1 new messag call\n",
      "call germani 1 penc per minut call fix line via access number 0844 861 85 prepay direct access\n",
      "ur go 2 bahama callfreefon 08081560665 speak live oper claim either bahama cruis cash opt txt x 07786200117\n",
      "uniqu enough find 30th august\n",
      "panason bluetoothhdset free nokia free motorola free doublemin doubletxt orang contract call mobileupd8 08000839402 call 2optout\n",
      "import inform 4 orang user 0789xxxxxxx today lucki day 2find log onto http fantast surpris await\n",
      "congrat 2 mobil 3g videophon r call 09061744553 videochat wid ur mate play java game dload polyh music nolin rentl bx420 ip4 5we 150pm\n",
      "bore speed date tri speedchat txt speedchat 80155 like em txt swap get new chatter chat80155 pobox36504w45wq rcd 16\n",
      "free entri weekli comp send word enter 84128 18 c cust care 08712405020\n",
      "freemsg award free mini digit camera repli snap collect prize quizclub opt stop sp rwm\n",
      "congratul u claim 2 vip row ticket 2 c blu concert novemb blu gift guarante call 09061104276 claim ts cs\n",
      "call germani 1 penc per minut call fix line via access number 0844 861 85 prepay direct access\n",
      "sm servic inclus text credit pl gotto login 3qxj9 unsubscrib stop extra charg help 08702840625 9ae\n",
      "xma offer latest motorola sonyericsson nokia free bluetooth dvd doubl min 1000 txt orang call mobileupd8 08000839402\n",
      "import inform 4 orang user 0796xxxxxx today ur lucki day 2 find log onto http fantast prizeawait\n",
      "custom servic announc recent tri make deliveri unabl pleas call 07099833605\n"
     ]
    }
   ],
   "source": [
    "## this will print all the spam messages\n",
    "for msg in df[df['target'] == 1]['transformed_text'].tolist():\n",
    "    print(msg) "
   ]
  },
  {
   "cell_type": "code",
   "execution_count": 73,
   "id": "fd874519",
   "metadata": {},
   "outputs": [],
   "source": [
    "## for separate each word in spam messages\n",
    "spam_corpus = []\n",
    "for msg in df[df['target'] == 1]['transformed_text'].tolist():\n",
    "    for word in msg.split():\n",
    "        spam_corpus.append(word) "
   ]
  },
  {
   "cell_type": "code",
   "execution_count": 74,
   "id": "e228c181",
   "metadata": {},
   "outputs": [
    {
     "data": {
      "text/plain": [
       "9952"
      ]
     },
     "execution_count": 74,
     "metadata": {},
     "output_type": "execute_result"
    }
   ],
   "source": [
    "# total number of words\n",
    "len(spam_corpus) "
   ]
  },
  {
   "cell_type": "code",
   "execution_count": 75,
   "id": "26e8bcb5",
   "metadata": {},
   "outputs": [
    {
     "data": {
      "text/plain": [
       "[('call', 320),\n",
       " ('free', 191),\n",
       " ('2', 155),\n",
       " ('txt', 141),\n",
       " ('text', 122),\n",
       " ('u', 119),\n",
       " ('ur', 119),\n",
       " ('mobil', 114),\n",
       " ('stop', 105),\n",
       " ('repli', 103),\n",
       " ('claim', 98),\n",
       " ('4', 97),\n",
       " ('prize', 82),\n",
       " ('get', 74),\n",
       " ('servic', 64),\n",
       " ('new', 64),\n",
       " ('tone', 63),\n",
       " ('send', 60),\n",
       " ('urgent', 57),\n",
       " ('nokia', 57),\n",
       " ('contact', 56),\n",
       " ('award', 55),\n",
       " ('phone', 52),\n",
       " ('pleas', 51),\n",
       " ('cash', 51),\n",
       " ('week', 49),\n",
       " ('win', 48),\n",
       " ('c', 45),\n",
       " ('min', 45),\n",
       " ('collect', 45)]"
      ]
     },
     "execution_count": 75,
     "metadata": {},
     "output_type": "execute_result"
    }
   ],
   "source": [
    "## to find most common words in spam messages\n",
    "from collections import Counter\n",
    "Counter(spam_corpus).most_common(30)"
   ]
  },
  {
   "cell_type": "code",
   "execution_count": 76,
   "id": "df3d52d6",
   "metadata": {},
   "outputs": [
    {
     "data": {
      "image/png": "[encoded data removed]",
      "text/plain": [
       "<Figure size 432x288 with 1 Axes>"
      ]
     },
     "metadata": {
      "needs_background": "light"
     },
     "output_type": "display_data"
    }
   ],
   "source": [
    "sns.barplot(pd.DataFrame(Counter(spam_corpus).most_common(30))[0])\n",
    "plt.xticks(rotation='vertical')\n",
    "plt.show()"
   ]
  },
  {
   "cell_type": "code",
   "execution_count": 77,
   "id": "89218b2c",
   "metadata": {},
   "outputs": [],
   "source": [
    "ham_corpus = []\n",
    "for msg in df[df['target'] == 0]['transformed_text'].tolist():\n",
    "    for word in msg.split():\n",
    "        ham_corpus.append(word)"
   ]
  },
  {
   "cell_type": "code",
   "execution_count": 78,
   "id": "51f363a1",
   "metadata": {},
   "outputs": [
    {
     "data": {
      "text/plain": [
       "35345"
      ]
     },
     "execution_count": 78,
     "metadata": {},
     "output_type": "execute_result"
    }
   ],
   "source": [
    "len(ham_corpus)"
   ]
  },
  {
   "cell_type": "code",
   "execution_count": 79,
   "id": "a0d297d0",
   "metadata": {},
   "outputs": [
    {
     "data": {
      "image/png": "[encoded data removed]",
      "text/plain": [
       "<Figure size 432x288 with 1 Axes>"
      ]
     },
     "metadata": {
      "needs_background": "light"
     },
     "output_type": "display_data"
    }
   ],
   "source": [
    "from collections import Counter\n",
    "sns.barplot(pd.DataFrame(Counter(ham_corpus).most_common(30))[0])\n",
    "plt.xticks(rotation='vertical')\n",
    "plt.show()"
   ]
  },
  {
   "cell_type": "markdown",
   "id": "46db4d63",
   "metadata": {},
   "source": [
    "## Section 4: Machine Learning Model Building"
   ]
  },
  {
   "cell_type": "code",
   "execution_count": 80,
   "id": "664589c0",
   "metadata": {},
   "outputs": [
    {
     "data": {
      "text/html": [
       "<div>\n",
       "<style scoped>\n",
       "    .dataframe tbody tr th:only-of-type {\n",
       "        vertical-align: middle;\n",
       "    }\n",
       "\n",
       "    .dataframe tbody tr th {\n",
       "        vertical-align: top;\n",
       "    }\n",
       "\n",
       "    .dataframe thead th {\n",
       "        text-align: right;\n",
       "    }\n",
       "</style>\n",
       "<table border=\"1\" class=\"dataframe\">\n",
       "  <thead>\n",
       "    <tr style=\"text-align: right;\">\n",
       "      <th></th>\n",
       "      <th>target</th>\n",
       "      <th>text</th>\n",
       "      <th>num_characters</th>\n",
       "      <th>num_words</th>\n",
       "      <th>num_sentences</th>\n",
       "      <th>transformed_text</th>\n",
       "    </tr>\n",
       "  </thead>\n",
       "  <tbody>\n",
       "    <tr>\n",
       "      <th>0</th>\n",
       "      <td>0</td>\n",
       "      <td>Wah lucky man... Then can save money... Hee...</td>\n",
       "      <td>46</td>\n",
       "      <td>11</td>\n",
       "      <td>1</td>\n",
       "      <td>wah lucki man save money hee</td>\n",
       "    </tr>\n",
       "    <tr>\n",
       "      <th>1</th>\n",
       "      <td>0</td>\n",
       "      <td>I'm leaving my house now...</td>\n",
       "      <td>27</td>\n",
       "      <td>7</td>\n",
       "      <td>1</td>\n",
       "      <td>leav hous</td>\n",
       "    </tr>\n",
       "    <tr>\n",
       "      <th>2</th>\n",
       "      <td>0</td>\n",
       "      <td>Just sent it. So what type of food do you like?</td>\n",
       "      <td>47</td>\n",
       "      <td>13</td>\n",
       "      <td>2</td>\n",
       "      <td>sent type food like</td>\n",
       "    </tr>\n",
       "    <tr>\n",
       "      <th>3</th>\n",
       "      <td>0</td>\n",
       "      <td>Okies... I'll go yan jiu too... We can skip ar...</td>\n",
       "      <td>95</td>\n",
       "      <td>26</td>\n",
       "      <td>2</td>\n",
       "      <td>oki go yan jiu skip ard oso go cine den go mrt...</td>\n",
       "    </tr>\n",
       "    <tr>\n",
       "      <th>4</th>\n",
       "      <td>1</td>\n",
       "      <td>18 days to Euro2004 kickoff! U will be kept in...</td>\n",
       "      <td>135</td>\n",
       "      <td>28</td>\n",
       "      <td>3</td>\n",
       "      <td>18 day euro2004 kickoff u kept inform latest n...</td>\n",
       "    </tr>\n",
       "  </tbody>\n",
       "</table>\n",
       "</div>"
      ],
      "text/plain": [
       "   target                                               text  num_characters  \\\n",
       "0       0     Wah lucky man... Then can save money... Hee...              46   \n",
       "1       0                        I'm leaving my house now...              27   \n",
       "2       0    Just sent it. So what type of food do you like?              47   \n",
       "3       0  Okies... I'll go yan jiu too... We can skip ar...              95   \n",
       "4       1  18 days to Euro2004 kickoff! U will be kept in...             135   \n",
       "\n",
       "   num_words  num_sentences                                   transformed_text  \n",
       "0         11              1                       wah lucki man save money hee  \n",
       "1          7              1                                          leav hous  \n",
       "2         13              2                                sent type food like  \n",
       "3         26              2  oki go yan jiu skip ard oso go cine den go mrt...  \n",
       "4         28              3  18 day euro2004 kickoff u kept inform latest n...  "
      ]
     },
     "execution_count": 80,
     "metadata": {},
     "output_type": "execute_result"
    }
   ],
   "source": [
    "df.head()"
   ]
  },
  {
   "cell_type": "code",
   "execution_count": 81,
   "id": "11500d34",
   "metadata": {},
   "outputs": [],
   "source": [
    "## Using TfidfVectorizer vectorize the transformed text."
   ]
  },
  {
   "cell_type": "code",
   "execution_count": 82,
   "id": "b1f01db4",
   "metadata": {},
   "outputs": [],
   "source": [
    "from sklearn.feature_extraction.text import TfidfVectorizer\n",
    "tfidf = TfidfVectorizer(max_features=3000)    "
   ]
  },
  {
   "cell_type": "code",
   "execution_count": 83,
   "id": "84efb175",
   "metadata": {},
   "outputs": [],
   "source": [
    "X = tfidf.fit_transform(df['transformed_text']).toarray()"
   ]
  },
  {
   "cell_type": "code",
   "execution_count": 84,
   "id": "315dd01e",
   "metadata": {},
   "outputs": [
    {
     "data": {
      "text/plain": [
       "(5170, 3000)"
      ]
     },
     "execution_count": 84,
     "metadata": {},
     "output_type": "execute_result"
    }
   ],
   "source": [
    "X.shape"
   ]
  },
  {
   "cell_type": "code",
   "execution_count": 85,
   "id": "55af4e31",
   "metadata": {},
   "outputs": [
    {
     "data": {
      "text/plain": [
       "array([0, 0, 0, ..., 1, 0, 0], dtype=int32)"
      ]
     },
     "execution_count": 85,
     "metadata": {},
     "output_type": "execute_result"
    }
   ],
   "source": [
    "y = df['target'].values\n",
    "y"
   ]
  },
  {
   "cell_type": "code",
   "execution_count": 86,
   "id": "5558bbaf",
   "metadata": {},
   "outputs": [],
   "source": [
    "from sklearn.model_selection import train_test_split\n",
    "X_train, X_test, y_train, y_test = train_test_split(X,y, test_size=0.2, random_state = 2)"
   ]
  },
  {
   "cell_type": "code",
   "execution_count": 87,
   "id": "589e4de9",
   "metadata": {},
   "outputs": [
    {
     "data": {
      "text/plain": [
       "array([[0., 0., 0., ..., 0., 0., 0.],\n",
       "       [0., 0., 0., ..., 0., 0., 0.],\n",
       "       [0., 0., 0., ..., 0., 0., 0.],\n",
       "       ...,\n",
       "       [0., 0., 0., ..., 0., 0., 0.],\n",
       "       [0., 0., 0., ..., 0., 0., 0.],\n",
       "       [0., 0., 0., ..., 0., 0., 0.]])"
      ]
     },
     "execution_count": 87,
     "metadata": {},
     "output_type": "execute_result"
    }
   ],
   "source": [
    "X_train"
   ]
  },
  {
   "cell_type": "code",
   "execution_count": 89,
   "id": "480c4d70",
   "metadata": {},
   "outputs": [],
   "source": [
    "from sklearn.naive_bayes import MultinomialNB\n",
    "from sklearn.metrics import accuracy_score,confusion_matrix,precision_score,recall_score,f1_score"
   ]
  },
  {
   "cell_type": "code",
   "execution_count": null,
   "id": "effaf2d7",
   "metadata": {},
   "outputs": [],
   "source": []
  },
  {
   "cell_type": "code",
   "execution_count": 91,
   "id": "aae8332e",
   "metadata": {},
   "outputs": [
    {
     "name": "stdout",
     "output_type": "stream",
     "text": [
      "0.9758220502901354\n",
      "[[908   1]\n",
      " [ 24 101]]\n",
      "0.9901960784313726\n",
      "0.808\n",
      "0.8898678414096917\n"
     ]
    }
   ],
   "source": [
    "mnb = MultinomialNB()\n",
    "mnb.fit(X_train,y_train)\n",
    "y_pred2 = mnb.predict(X_test)\n",
    "print(accuracy_score(y_test,y_pred2))\n",
    "print(confusion_matrix(y_test,y_pred2))\n",
    "print(precision_score(y_test,y_pred2))\n",
    "print(recall_score(y_test,y_pred2))\n",
    "print(f1_score(y_test,y_pred2))"
   ]
  },
  {
   "cell_type": "code",
   "execution_count": 92,
   "id": "40ceb503",
   "metadata": {},
   "outputs": [],
   "source": [
    "accuracy = 0.9758220502901354\n",
    "precision = 0.9901960784313726\n",
    "recall_score = 0.808\n",
    "f1_score = 0.889"
   ]
  },
  {
   "cell_type": "code",
   "execution_count": 93,
   "id": "ea9969ba",
   "metadata": {},
   "outputs": [],
   "source": [
    "## visualisation of results"
   ]
  },
  {
   "cell_type": "code",
   "execution_count": 95,
   "id": "db91b759",
   "metadata": {},
   "outputs": [
    {
     "data": {
      "image/png": "[encoded data removed]",
      "text/plain": [
       "<Figure size 576x360 with 1 Axes>"
      ]
     },
     "metadata": {
      "needs_background": "light"
     },
     "output_type": "display_data"
    }
   ],
   "source": [
    "plt.figure(figsize=(8, 5))\n",
    "plt.bar(['Accuracy', 'Precision','recall_score','f1_score'], [accuracy, precision,recall_score,f1_score], color=['blue', 'green', 'red','yellow'])\n",
    "plt.title('Metrics of MultinomialNB Model')\n",
    "plt.xlabel('Metrics')\n",
    "plt.ylabel('Score')\n",
    "plt.ylim(0, 1)\n",
    "\n",
    "for i, v in enumerate([accuracy, precision]):\n",
    "    plt.text(i, v + 0.01, str(round(v, 2)), ha='center', color='black')\n",
    "plt.show()"
   ]
  },
  {
   "cell_type": "code",
   "execution_count": null,
   "id": "afae7354",
   "metadata": {},
   "outputs": [],
   "source": [
    "## MultinomialNB model precision score is 0.99 and there is only 1 false posites, with 97% accuracy."
   ]
  },
  {
   "cell_type": "markdown",
   "id": "ba090f74",
   "metadata": {},
   "source": [
    "## Section 5: Deep Learning Model Building"
   ]
  },
  {
   "cell_type": "markdown",
   "id": "10ec7bd9",
   "metadata": {},
   "source": [
    "## Section 5.1: RNN with LSTM"
   ]
  },
  {
   "cell_type": "code",
   "execution_count": 96,
   "id": "a57f18f7",
   "metadata": {},
   "outputs": [
    {
     "data": {
      "text/html": [
       "<div>\n",
       "<style scoped>\n",
       "    .dataframe tbody tr th:only-of-type {\n",
       "        vertical-align: middle;\n",
       "    }\n",
       "\n",
       "    .dataframe tbody tr th {\n",
       "        vertical-align: top;\n",
       "    }\n",
       "\n",
       "    .dataframe thead th {\n",
       "        text-align: right;\n",
       "    }\n",
       "</style>\n",
       "<table border=\"1\" class=\"dataframe\">\n",
       "  <thead>\n",
       "    <tr style=\"text-align: right;\">\n",
       "      <th></th>\n",
       "      <th>target</th>\n",
       "      <th>text</th>\n",
       "      <th>num_characters</th>\n",
       "      <th>num_words</th>\n",
       "      <th>num_sentences</th>\n",
       "      <th>transformed_text</th>\n",
       "    </tr>\n",
       "  </thead>\n",
       "  <tbody>\n",
       "    <tr>\n",
       "      <th>0</th>\n",
       "      <td>0</td>\n",
       "      <td>Wah lucky man... Then can save money... Hee...</td>\n",
       "      <td>46</td>\n",
       "      <td>11</td>\n",
       "      <td>1</td>\n",
       "      <td>wah lucki man save money hee</td>\n",
       "    </tr>\n",
       "    <tr>\n",
       "      <th>1</th>\n",
       "      <td>0</td>\n",
       "      <td>I'm leaving my house now...</td>\n",
       "      <td>27</td>\n",
       "      <td>7</td>\n",
       "      <td>1</td>\n",
       "      <td>leav hous</td>\n",
       "    </tr>\n",
       "    <tr>\n",
       "      <th>2</th>\n",
       "      <td>0</td>\n",
       "      <td>Just sent it. So what type of food do you like?</td>\n",
       "      <td>47</td>\n",
       "      <td>13</td>\n",
       "      <td>2</td>\n",
       "      <td>sent type food like</td>\n",
       "    </tr>\n",
       "    <tr>\n",
       "      <th>3</th>\n",
       "      <td>0</td>\n",
       "      <td>Okies... I'll go yan jiu too... We can skip ar...</td>\n",
       "      <td>95</td>\n",
       "      <td>26</td>\n",
       "      <td>2</td>\n",
       "      <td>oki go yan jiu skip ard oso go cine den go mrt...</td>\n",
       "    </tr>\n",
       "    <tr>\n",
       "      <th>4</th>\n",
       "      <td>1</td>\n",
       "      <td>18 days to Euro2004 kickoff! U will be kept in...</td>\n",
       "      <td>135</td>\n",
       "      <td>28</td>\n",
       "      <td>3</td>\n",
       "      <td>18 day euro2004 kickoff u kept inform latest n...</td>\n",
       "    </tr>\n",
       "  </tbody>\n",
       "</table>\n",
       "</div>"
      ],
      "text/plain": [
       "   target                                               text  num_characters  \\\n",
       "0       0     Wah lucky man... Then can save money... Hee...              46   \n",
       "1       0                        I'm leaving my house now...              27   \n",
       "2       0    Just sent it. So what type of food do you like?              47   \n",
       "3       0  Okies... I'll go yan jiu too... We can skip ar...              95   \n",
       "4       1  18 days to Euro2004 kickoff! U will be kept in...             135   \n",
       "\n",
       "   num_words  num_sentences                                   transformed_text  \n",
       "0         11              1                       wah lucki man save money hee  \n",
       "1          7              1                                          leav hous  \n",
       "2         13              2                                sent type food like  \n",
       "3         26              2  oki go yan jiu skip ard oso go cine den go mrt...  \n",
       "4         28              3  18 day euro2004 kickoff u kept inform latest n...  "
      ]
     },
     "execution_count": 96,
     "metadata": {},
     "output_type": "execute_result"
    }
   ],
   "source": [
    "df.head()"
   ]
  },
  {
   "cell_type": "code",
   "execution_count": 97,
   "id": "a079e0ec",
   "metadata": {},
   "outputs": [],
   "source": [
    "## Create input and output vectors. Process the labels. \n",
    "X = df.transformed_text\n",
    "Y = df.target\n",
    "le = LabelEncoder()\n",
    "Y = le.fit_transform(Y)\n",
    "Y = Y.reshape(-1,1)"
   ]
  },
  {
   "cell_type": "code",
   "execution_count": 98,
   "id": "d82be64b",
   "metadata": {},
   "outputs": [],
   "source": [
    "## Split into training and test data.\n",
    "X_train,X_test,Y_train,Y_test = train_test_split(X,Y,test_size=0.20)"
   ]
  },
  {
   "cell_type": "markdown",
   "id": "7ab0d1bc",
   "metadata": {},
   "source": [
    "#### Process the data\n",
    "Tokenize the data and convert the text to sequences.\n",
    "Add padding to ensure that all the sequences have the same shape.\n",
    "max_len an arbitrary length of 150 is chosen."
   ]
  },
  {
   "cell_type": "code",
   "execution_count": 99,
   "id": "6754d73f",
   "metadata": {},
   "outputs": [],
   "source": [
    "max_words = 3000 \n",
    "max_len = 150\n",
    "tok = Tokenizer(num_words=max_words)\n",
    "tok.fit_on_texts(X_train)\n",
    "sequences = tok.texts_to_sequences(X_train)\n",
    "sequences_matrix = sequence.pad_sequences(sequences, maxlen=max_len)"
   ]
  },
  {
   "cell_type": "code",
   "execution_count": 100,
   "id": "c4979f00",
   "metadata": {},
   "outputs": [],
   "source": [
    "## RNN Define the RNN structure."
   ]
  },
  {
   "cell_type": "code",
   "execution_count": 101,
   "id": "e3fbf771",
   "metadata": {},
   "outputs": [],
   "source": [
    "def RNN():\n",
    "    inputs = Input(name='inputs', shape=[max_len])\n",
    "    layer = Embedding(max_words, 50)(inputs)\n",
    "    layer = LSTM(64)(layer)\n",
    "    layer = Dense(256, name='FC1')(layer)\n",
    "    layer = Activation('relu')(layer)\n",
    "    layer = Dropout(0.5)(layer)\n",
    "    layer = Dense(1, name='out_layer')(layer)\n",
    "    layer = Activation('sigmoid')(layer)\n",
    "    model = Model(inputs=inputs, outputs=layer)\n",
    "    return model"
   ]
  },
  {
   "cell_type": "code",
   "execution_count": 102,
   "id": "29d225ed",
   "metadata": {},
   "outputs": [],
   "source": [
    "## Call the function and compile the model."
   ]
  },
  {
   "cell_type": "code",
   "execution_count": 103,
   "id": "ea099895",
   "metadata": {},
   "outputs": [
    {
     "data": {
      "text/html": [
       "<pre style=\"white-space:pre;overflow-x:auto;line-height:normal;font-family:Menlo,'DejaVu Sans Mono',consolas,'Courier New',monospace\"><span style=\"font-weight: bold\">Model: \"functional_1\"</span>\n",
       "</pre>\n"
      ],
      "text/plain": [
       "\u001b[1mModel: \"functional_1\"\u001b[0m\n"
      ]
     },
     "metadata": {},
     "output_type": "display_data"
    },
    {
     "data": {
      "text/html": [
       "<pre style=\"white-space:pre;overflow-x:auto;line-height:normal;font-family:Menlo,'DejaVu Sans Mono',consolas,'Courier New',monospace\">┏━━━━━━━━━━━━━━━━━━━━━━━━━━━━━━━━━┳━━━━━━━━━━━━━━━━━━━━━━━━┳━━━━━━━━━━━━━━━┓\n",
       "┃<span style=\"font-weight: bold\"> Layer (type)                    </span>┃<span style=\"font-weight: bold\"> Output Shape           </span>┃<span style=\"font-weight: bold\">       Param # </span>┃\n",
       "┡━━━━━━━━━━━━━━━━━━━━━━━━━━━━━━━━━╇━━━━━━━━━━━━━━━━━━━━━━━━╇━━━━━━━━━━━━━━━┩\n",
       "│ inputs (<span style=\"color: #0087ff; text-decoration-color: #0087ff\">InputLayer</span>)             │ (<span style=\"color: #00d7ff; text-decoration-color: #00d7ff\">None</span>, <span style=\"color: #00af00; text-decoration-color: #00af00\">150</span>)            │             <span style=\"color: #00af00; text-decoration-color: #00af00\">0</span> │\n",
       "├─────────────────────────────────┼────────────────────────┼───────────────┤\n",
       "│ embedding (<span style=\"color: #0087ff; text-decoration-color: #0087ff\">Embedding</span>)           │ (<span style=\"color: #00d7ff; text-decoration-color: #00d7ff\">None</span>, <span style=\"color: #00af00; text-decoration-color: #00af00\">150</span>, <span style=\"color: #00af00; text-decoration-color: #00af00\">50</span>)        │       <span style=\"color: #00af00; text-decoration-color: #00af00\">150,000</span> │\n",
       "├─────────────────────────────────┼────────────────────────┼───────────────┤\n",
       "│ lstm (<span style=\"color: #0087ff; text-decoration-color: #0087ff\">LSTM</span>)                     │ (<span style=\"color: #00d7ff; text-decoration-color: #00d7ff\">None</span>, <span style=\"color: #00af00; text-decoration-color: #00af00\">64</span>)             │        <span style=\"color: #00af00; text-decoration-color: #00af00\">29,440</span> │\n",
       "├─────────────────────────────────┼────────────────────────┼───────────────┤\n",
       "│ FC1 (<span style=\"color: #0087ff; text-decoration-color: #0087ff\">Dense</span>)                     │ (<span style=\"color: #00d7ff; text-decoration-color: #00d7ff\">None</span>, <span style=\"color: #00af00; text-decoration-color: #00af00\">256</span>)            │        <span style=\"color: #00af00; text-decoration-color: #00af00\">16,640</span> │\n",
       "├─────────────────────────────────┼────────────────────────┼───────────────┤\n",
       "│ activation (<span style=\"color: #0087ff; text-decoration-color: #0087ff\">Activation</span>)         │ (<span style=\"color: #00d7ff; text-decoration-color: #00d7ff\">None</span>, <span style=\"color: #00af00; text-decoration-color: #00af00\">256</span>)            │             <span style=\"color: #00af00; text-decoration-color: #00af00\">0</span> │\n",
       "├─────────────────────────────────┼────────────────────────┼───────────────┤\n",
       "│ dropout (<span style=\"color: #0087ff; text-decoration-color: #0087ff\">Dropout</span>)               │ (<span style=\"color: #00d7ff; text-decoration-color: #00d7ff\">None</span>, <span style=\"color: #00af00; text-decoration-color: #00af00\">256</span>)            │             <span style=\"color: #00af00; text-decoration-color: #00af00\">0</span> │\n",
       "├─────────────────────────────────┼────────────────────────┼───────────────┤\n",
       "│ out_layer (<span style=\"color: #0087ff; text-decoration-color: #0087ff\">Dense</span>)               │ (<span style=\"color: #00d7ff; text-decoration-color: #00d7ff\">None</span>, <span style=\"color: #00af00; text-decoration-color: #00af00\">1</span>)              │           <span style=\"color: #00af00; text-decoration-color: #00af00\">257</span> │\n",
       "├─────────────────────────────────┼────────────────────────┼───────────────┤\n",
       "│ activation_1 (<span style=\"color: #0087ff; text-decoration-color: #0087ff\">Activation</span>)       │ (<span style=\"color: #00d7ff; text-decoration-color: #00d7ff\">None</span>, <span style=\"color: #00af00; text-decoration-color: #00af00\">1</span>)              │             <span style=\"color: #00af00; text-decoration-color: #00af00\">0</span> │\n",
       "└─────────────────────────────────┴────────────────────────┴───────────────┘\n",
       "</pre>\n"
      ],
      "text/plain": [
       "┏━━━━━━━━━━━━━━━━━━━━━━━━━━━━━━━━━┳━━━━━━━━━━━━━━━━━━━━━━━━┳━━━━━━━━━━━━━━━┓\n",
       "┃\u001b[1m \u001b[0m\u001b[1mLayer (type)                   \u001b[0m\u001b[1m \u001b[0m┃\u001b[1m \u001b[0m\u001b[1mOutput Shape          \u001b[0m\u001b[1m \u001b[0m┃\u001b[1m \u001b[0m\u001b[1m      Param #\u001b[0m\u001b[1m \u001b[0m┃\n",
       "┡━━━━━━━━━━━━━━━━━━━━━━━━━━━━━━━━━╇━━━━━━━━━━━━━━━━━━━━━━━━╇━━━━━━━━━━━━━━━┩\n",
       "│ inputs (\u001b[38;5;33mInputLayer\u001b[0m)             │ (\u001b[38;5;45mNone\u001b[0m, \u001b[38;5;34m150\u001b[0m)            │             \u001b[38;5;34m0\u001b[0m │\n",
       "├─────────────────────────────────┼────────────────────────┼───────────────┤\n",
       "│ embedding (\u001b[38;5;33mEmbedding\u001b[0m)           │ (\u001b[38;5;45mNone\u001b[0m, \u001b[38;5;34m150\u001b[0m, \u001b[38;5;34m50\u001b[0m)        │       \u001b[38;5;34m150,000\u001b[0m │\n",
       "├─────────────────────────────────┼────────────────────────┼───────────────┤\n",
       "│ lstm (\u001b[38;5;33mLSTM\u001b[0m)                     │ (\u001b[38;5;45mNone\u001b[0m, \u001b[38;5;34m64\u001b[0m)             │        \u001b[38;5;34m29,440\u001b[0m │\n",
       "├─────────────────────────────────┼────────────────────────┼───────────────┤\n",
       "│ FC1 (\u001b[38;5;33mDense\u001b[0m)                     │ (\u001b[38;5;45mNone\u001b[0m, \u001b[38;5;34m256\u001b[0m)            │        \u001b[38;5;34m16,640\u001b[0m │\n",
       "├─────────────────────────────────┼────────────────────────┼───────────────┤\n",
       "│ activation (\u001b[38;5;33mActivation\u001b[0m)         │ (\u001b[38;5;45mNone\u001b[0m, \u001b[38;5;34m256\u001b[0m)            │             \u001b[38;5;34m0\u001b[0m │\n",
       "├─────────────────────────────────┼────────────────────────┼───────────────┤\n",
       "│ dropout (\u001b[38;5;33mDropout\u001b[0m)               │ (\u001b[38;5;45mNone\u001b[0m, \u001b[38;5;34m256\u001b[0m)            │             \u001b[38;5;34m0\u001b[0m │\n",
       "├─────────────────────────────────┼────────────────────────┼───────────────┤\n",
       "│ out_layer (\u001b[38;5;33mDense\u001b[0m)               │ (\u001b[38;5;45mNone\u001b[0m, \u001b[38;5;34m1\u001b[0m)              │           \u001b[38;5;34m257\u001b[0m │\n",
       "├─────────────────────────────────┼────────────────────────┼───────────────┤\n",
       "│ activation_1 (\u001b[38;5;33mActivation\u001b[0m)       │ (\u001b[38;5;45mNone\u001b[0m, \u001b[38;5;34m1\u001b[0m)              │             \u001b[38;5;34m0\u001b[0m │\n",
       "└─────────────────────────────────┴────────────────────────┴───────────────┘\n"
      ]
     },
     "metadata": {},
     "output_type": "display_data"
    },
    {
     "data": {
      "text/html": [
       "<pre style=\"white-space:pre;overflow-x:auto;line-height:normal;font-family:Menlo,'DejaVu Sans Mono',consolas,'Courier New',monospace\"><span style=\"font-weight: bold\"> Total params: </span><span style=\"color: #00af00; text-decoration-color: #00af00\">196,337</span> (766.94 KB)\n",
       "</pre>\n"
      ],
      "text/plain": [
       "\u001b[1m Total params: \u001b[0m\u001b[38;5;34m196,337\u001b[0m (766.94 KB)\n"
      ]
     },
     "metadata": {},
     "output_type": "display_data"
    },
    {
     "data": {
      "text/html": [
       "<pre style=\"white-space:pre;overflow-x:auto;line-height:normal;font-family:Menlo,'DejaVu Sans Mono',consolas,'Courier New',monospace\"><span style=\"font-weight: bold\"> Trainable params: </span><span style=\"color: #00af00; text-decoration-color: #00af00\">196,337</span> (766.94 KB)\n",
       "</pre>\n"
      ],
      "text/plain": [
       "\u001b[1m Trainable params: \u001b[0m\u001b[38;5;34m196,337\u001b[0m (766.94 KB)\n"
      ]
     },
     "metadata": {},
     "output_type": "display_data"
    },
    {
     "data": {
      "text/html": [
       "<pre style=\"white-space:pre;overflow-x:auto;line-height:normal;font-family:Menlo,'DejaVu Sans Mono',consolas,'Courier New',monospace\"><span style=\"font-weight: bold\"> Non-trainable params: </span><span style=\"color: #00af00; text-decoration-color: #00af00\">0</span> (0.00 B)\n",
       "</pre>\n"
      ],
      "text/plain": [
       "\u001b[1m Non-trainable params: \u001b[0m\u001b[38;5;34m0\u001b[0m (0.00 B)\n"
      ]
     },
     "metadata": {},
     "output_type": "display_data"
    }
   ],
   "source": [
    "model = RNN()\n",
    "model.summary()\n",
    "model.compile(loss='binary_crossentropy', optimizer=RMSprop(), metrics=['accuracy'])"
   ]
  },
  {
   "cell_type": "code",
   "execution_count": 104,
   "id": "1eb58f24",
   "metadata": {},
   "outputs": [],
   "source": [
    "## Fit on the training data."
   ]
  },
  {
   "cell_type": "code",
   "execution_count": 105,
   "id": "6a47758c",
   "metadata": {},
   "outputs": [
    {
     "name": "stdout",
     "output_type": "stream",
     "text": [
      "Epoch 1/10\n",
      "\u001b[1m26/26\u001b[0m \u001b[32m━━━━━━━━━━━━━━━━━━━━\u001b[0m\u001b[37m\u001b[0m \u001b[1m13s\u001b[0m 337ms/step - accuracy: 0.8047 - loss: 0.4493 - val_accuracy: 0.9155 - val_loss: 0.2381\n",
      "Epoch 2/10\n",
      "\u001b[1m26/26\u001b[0m \u001b[32m━━━━━━━━━━━━━━━━━━━━\u001b[0m\u001b[37m\u001b[0m \u001b[1m11s\u001b[0m 375ms/step - accuracy: 0.9131 - loss: 0.2416 - val_accuracy: 0.9686 - val_loss: 0.1707\n",
      "Epoch 3/10\n",
      "\u001b[1m26/26\u001b[0m \u001b[32m━━━━━━━━━━━━━━━━━━━━\u001b[0m\u001b[37m\u001b[0m \u001b[1m11s\u001b[0m 447ms/step - accuracy: 0.9633 - loss: 0.1611 - val_accuracy: 0.9710 - val_loss: 0.0915\n",
      "Epoch 4/10\n",
      "\u001b[1m26/26\u001b[0m \u001b[32m━━━━━━━━━━━━━━━━━━━━\u001b[0m\u001b[37m\u001b[0m \u001b[1m21s\u001b[0m 453ms/step - accuracy: 0.9727 - loss: 0.0984 - val_accuracy: 0.9758 - val_loss: 0.0832\n",
      "Epoch 5/10\n",
      "\u001b[1m26/26\u001b[0m \u001b[32m━━━━━━━━━━━━━━━━━━━━\u001b[0m\u001b[37m\u001b[0m \u001b[1m17s\u001b[0m 324ms/step - accuracy: 0.9811 - loss: 0.0642 - val_accuracy: 0.9686 - val_loss: 0.1227\n"
     ]
    },
    {
     "data": {
      "text/plain": [
       "<keras.src.callbacks.history.History at 0x7ee991af78e0>"
      ]
     },
     "execution_count": 105,
     "metadata": {},
     "output_type": "execute_result"
    }
   ],
   "source": [
    "model.fit(sequences_matrix,Y_train,batch_size=128,epochs=10,\n",
    "          validation_split=0.2,callbacks=[EarlyStopping(monitor='val_loss',min_delta=0.0001)])"
   ]
  },
  {
   "cell_type": "code",
   "execution_count": null,
   "id": "dc6bf592",
   "metadata": {},
   "outputs": [],
   "source": [
    "## Process the test set data."
   ]
  },
  {
   "cell_type": "code",
   "execution_count": 106,
   "id": "e85fd3d5",
   "metadata": {},
   "outputs": [],
   "source": [
    "test_sequences = tok.texts_to_sequences(X_test)\n",
    "test_sequences_matrix = sequence.pad_sequences(test_sequences,maxlen=max_len)"
   ]
  },
  {
   "cell_type": "code",
   "execution_count": 107,
   "id": "cf54ea11",
   "metadata": {},
   "outputs": [],
   "source": [
    "## Evaluate the model on the test set."
   ]
  },
  {
   "cell_type": "code",
   "execution_count": 112,
   "id": "55cf4613",
   "metadata": {},
   "outputs": [
    {
     "name": "stdout",
     "output_type": "stream",
     "text": [
      "\u001b[1m33/33\u001b[0m \u001b[32m━━━━━━━━━━━━━━━━━━━━\u001b[0m\u001b[37m\u001b[0m \u001b[1m1s\u001b[0m 34ms/step - accuracy: 0.9781 - loss: 0.0915\n"
     ]
    }
   ],
   "source": [
    "accr = model.evaluate(test_sequences_matrix,Y_test)"
   ]
  },
  {
   "cell_type": "code",
   "execution_count": 113,
   "id": "63a9dc23",
   "metadata": {},
   "outputs": [
    {
     "name": "stdout",
     "output_type": "stream",
     "text": [
      "Test set\n",
      "  Loss: 0.100\n",
      "  Accuracy: 0.975\n"
     ]
    }
   ],
   "source": [
    "print('Test set\\n  Loss: {:0.3f}\\n  Accuracy: {:0.3f}'.format(accr[0],accr[1]))"
   ]
  },
  {
   "cell_type": "markdown",
   "id": "98605874",
   "metadata": {},
   "source": [
    "## Section 5.2 - RNN - Bidirectional LSTM"
   ]
  },
  {
   "cell_type": "code",
   "execution_count": 114,
   "id": "9b76accf",
   "metadata": {},
   "outputs": [],
   "source": [
    "from tensorflow.keras.layers import Input, Embedding, Bidirectional, LSTM, Dense, Activation, Dropout\n",
    "from tensorflow.keras.models import Model"
   ]
  },
  {
   "cell_type": "code",
   "execution_count": 115,
   "id": "33100716",
   "metadata": {},
   "outputs": [
    {
     "data": {
      "text/html": [
       "<pre style=\"white-space:pre;overflow-x:auto;line-height:normal;font-family:Menlo,'DejaVu Sans Mono',consolas,'Courier New',monospace\"><span style=\"font-weight: bold\">Model: \"functional_3\"</span>\n",
       "</pre>\n"
      ],
      "text/plain": [
       "\u001b[1mModel: \"functional_3\"\u001b[0m\n"
      ]
     },
     "metadata": {},
     "output_type": "display_data"
    },
    {
     "data": {
      "text/html": [
       "<pre style=\"white-space:pre;overflow-x:auto;line-height:normal;font-family:Menlo,'DejaVu Sans Mono',consolas,'Courier New',monospace\">┏━━━━━━━━━━━━━━━━━━━━━━━━━━━━━━━━━┳━━━━━━━━━━━━━━━━━━━━━━━━┳━━━━━━━━━━━━━━━┓\n",
       "┃<span style=\"font-weight: bold\"> Layer (type)                    </span>┃<span style=\"font-weight: bold\"> Output Shape           </span>┃<span style=\"font-weight: bold\">       Param # </span>┃\n",
       "┡━━━━━━━━━━━━━━━━━━━━━━━━━━━━━━━━━╇━━━━━━━━━━━━━━━━━━━━━━━━╇━━━━━━━━━━━━━━━┩\n",
       "│ inputs (<span style=\"color: #0087ff; text-decoration-color: #0087ff\">InputLayer</span>)             │ (<span style=\"color: #00d7ff; text-decoration-color: #00d7ff\">None</span>, <span style=\"color: #00af00; text-decoration-color: #00af00\">150</span>)            │             <span style=\"color: #00af00; text-decoration-color: #00af00\">0</span> │\n",
       "├─────────────────────────────────┼────────────────────────┼───────────────┤\n",
       "│ embedding_1 (<span style=\"color: #0087ff; text-decoration-color: #0087ff\">Embedding</span>)         │ (<span style=\"color: #00d7ff; text-decoration-color: #00d7ff\">None</span>, <span style=\"color: #00af00; text-decoration-color: #00af00\">150</span>, <span style=\"color: #00af00; text-decoration-color: #00af00\">50</span>)        │       <span style=\"color: #00af00; text-decoration-color: #00af00\">150,000</span> │\n",
       "├─────────────────────────────────┼────────────────────────┼───────────────┤\n",
       "│ bidirectional (<span style=\"color: #0087ff; text-decoration-color: #0087ff\">Bidirectional</span>)   │ (<span style=\"color: #00d7ff; text-decoration-color: #00d7ff\">None</span>, <span style=\"color: #00af00; text-decoration-color: #00af00\">512</span>)            │       <span style=\"color: #00af00; text-decoration-color: #00af00\">628,736</span> │\n",
       "├─────────────────────────────────┼────────────────────────┼───────────────┤\n",
       "│ FC1 (<span style=\"color: #0087ff; text-decoration-color: #0087ff\">Dense</span>)                     │ (<span style=\"color: #00d7ff; text-decoration-color: #00d7ff\">None</span>, <span style=\"color: #00af00; text-decoration-color: #00af00\">256</span>)            │       <span style=\"color: #00af00; text-decoration-color: #00af00\">131,328</span> │\n",
       "├─────────────────────────────────┼────────────────────────┼───────────────┤\n",
       "│ activation_2 (<span style=\"color: #0087ff; text-decoration-color: #0087ff\">Activation</span>)       │ (<span style=\"color: #00d7ff; text-decoration-color: #00d7ff\">None</span>, <span style=\"color: #00af00; text-decoration-color: #00af00\">256</span>)            │             <span style=\"color: #00af00; text-decoration-color: #00af00\">0</span> │\n",
       "├─────────────────────────────────┼────────────────────────┼───────────────┤\n",
       "│ dropout_1 (<span style=\"color: #0087ff; text-decoration-color: #0087ff\">Dropout</span>)             │ (<span style=\"color: #00d7ff; text-decoration-color: #00d7ff\">None</span>, <span style=\"color: #00af00; text-decoration-color: #00af00\">256</span>)            │             <span style=\"color: #00af00; text-decoration-color: #00af00\">0</span> │\n",
       "├─────────────────────────────────┼────────────────────────┼───────────────┤\n",
       "│ out_layer (<span style=\"color: #0087ff; text-decoration-color: #0087ff\">Dense</span>)               │ (<span style=\"color: #00d7ff; text-decoration-color: #00d7ff\">None</span>, <span style=\"color: #00af00; text-decoration-color: #00af00\">1</span>)              │           <span style=\"color: #00af00; text-decoration-color: #00af00\">257</span> │\n",
       "├─────────────────────────────────┼────────────────────────┼───────────────┤\n",
       "│ activation_3 (<span style=\"color: #0087ff; text-decoration-color: #0087ff\">Activation</span>)       │ (<span style=\"color: #00d7ff; text-decoration-color: #00d7ff\">None</span>, <span style=\"color: #00af00; text-decoration-color: #00af00\">1</span>)              │             <span style=\"color: #00af00; text-decoration-color: #00af00\">0</span> │\n",
       "└─────────────────────────────────┴────────────────────────┴───────────────┘\n",
       "</pre>\n"
      ],
      "text/plain": [
       "┏━━━━━━━━━━━━━━━━━━━━━━━━━━━━━━━━━┳━━━━━━━━━━━━━━━━━━━━━━━━┳━━━━━━━━━━━━━━━┓\n",
       "┃\u001b[1m \u001b[0m\u001b[1mLayer (type)                   \u001b[0m\u001b[1m \u001b[0m┃\u001b[1m \u001b[0m\u001b[1mOutput Shape          \u001b[0m\u001b[1m \u001b[0m┃\u001b[1m \u001b[0m\u001b[1m      Param #\u001b[0m\u001b[1m \u001b[0m┃\n",
       "┡━━━━━━━━━━━━━━━━━━━━━━━━━━━━━━━━━╇━━━━━━━━━━━━━━━━━━━━━━━━╇━━━━━━━━━━━━━━━┩\n",
       "│ inputs (\u001b[38;5;33mInputLayer\u001b[0m)             │ (\u001b[38;5;45mNone\u001b[0m, \u001b[38;5;34m150\u001b[0m)            │             \u001b[38;5;34m0\u001b[0m │\n",
       "├─────────────────────────────────┼────────────────────────┼───────────────┤\n",
       "│ embedding_1 (\u001b[38;5;33mEmbedding\u001b[0m)         │ (\u001b[38;5;45mNone\u001b[0m, \u001b[38;5;34m150\u001b[0m, \u001b[38;5;34m50\u001b[0m)        │       \u001b[38;5;34m150,000\u001b[0m │\n",
       "├─────────────────────────────────┼────────────────────────┼───────────────┤\n",
       "│ bidirectional (\u001b[38;5;33mBidirectional\u001b[0m)   │ (\u001b[38;5;45mNone\u001b[0m, \u001b[38;5;34m512\u001b[0m)            │       \u001b[38;5;34m628,736\u001b[0m │\n",
       "├─────────────────────────────────┼────────────────────────┼───────────────┤\n",
       "│ FC1 (\u001b[38;5;33mDense\u001b[0m)                     │ (\u001b[38;5;45mNone\u001b[0m, \u001b[38;5;34m256\u001b[0m)            │       \u001b[38;5;34m131,328\u001b[0m │\n",
       "├─────────────────────────────────┼────────────────────────┼───────────────┤\n",
       "│ activation_2 (\u001b[38;5;33mActivation\u001b[0m)       │ (\u001b[38;5;45mNone\u001b[0m, \u001b[38;5;34m256\u001b[0m)            │             \u001b[38;5;34m0\u001b[0m │\n",
       "├─────────────────────────────────┼────────────────────────┼───────────────┤\n",
       "│ dropout_1 (\u001b[38;5;33mDropout\u001b[0m)             │ (\u001b[38;5;45mNone\u001b[0m, \u001b[38;5;34m256\u001b[0m)            │             \u001b[38;5;34m0\u001b[0m │\n",
       "├─────────────────────────────────┼────────────────────────┼───────────────┤\n",
       "│ out_layer (\u001b[38;5;33mDense\u001b[0m)               │ (\u001b[38;5;45mNone\u001b[0m, \u001b[38;5;34m1\u001b[0m)              │           \u001b[38;5;34m257\u001b[0m │\n",
       "├─────────────────────────────────┼────────────────────────┼───────────────┤\n",
       "│ activation_3 (\u001b[38;5;33mActivation\u001b[0m)       │ (\u001b[38;5;45mNone\u001b[0m, \u001b[38;5;34m1\u001b[0m)              │             \u001b[38;5;34m0\u001b[0m │\n",
       "└─────────────────────────────────┴────────────────────────┴───────────────┘\n"
      ]
     },
     "metadata": {},
     "output_type": "display_data"
    },
    {
     "data": {
      "text/html": [
       "<pre style=\"white-space:pre;overflow-x:auto;line-height:normal;font-family:Menlo,'DejaVu Sans Mono',consolas,'Courier New',monospace\"><span style=\"font-weight: bold\"> Total params: </span><span style=\"color: #00af00; text-decoration-color: #00af00\">910,321</span> (3.47 MB)\n",
       "</pre>\n"
      ],
      "text/plain": [
       "\u001b[1m Total params: \u001b[0m\u001b[38;5;34m910,321\u001b[0m (3.47 MB)\n"
      ]
     },
     "metadata": {},
     "output_type": "display_data"
    },
    {
     "data": {
      "text/html": [
       "<pre style=\"white-space:pre;overflow-x:auto;line-height:normal;font-family:Menlo,'DejaVu Sans Mono',consolas,'Courier New',monospace\"><span style=\"font-weight: bold\"> Trainable params: </span><span style=\"color: #00af00; text-decoration-color: #00af00\">910,321</span> (3.47 MB)\n",
       "</pre>\n"
      ],
      "text/plain": [
       "\u001b[1m Trainable params: \u001b[0m\u001b[38;5;34m910,321\u001b[0m (3.47 MB)\n"
      ]
     },
     "metadata": {},
     "output_type": "display_data"
    },
    {
     "data": {
      "text/html": [
       "<pre style=\"white-space:pre;overflow-x:auto;line-height:normal;font-family:Menlo,'DejaVu Sans Mono',consolas,'Courier New',monospace\"><span style=\"font-weight: bold\"> Non-trainable params: </span><span style=\"color: #00af00; text-decoration-color: #00af00\">0</span> (0.00 B)\n",
       "</pre>\n"
      ],
      "text/plain": [
       "\u001b[1m Non-trainable params: \u001b[0m\u001b[38;5;34m0\u001b[0m (0.00 B)\n"
      ]
     },
     "metadata": {},
     "output_type": "display_data"
    }
   ],
   "source": [
    "def BiRNN():\n",
    "    inputs = Input(name='inputs', shape=[max_len])\n",
    "    layer = Embedding(max_words, 50)(inputs)\n",
    "    layer = Bidirectional(LSTM(256))(layer)\n",
    "    layer = Dense(256, name='FC1')(layer)\n",
    "    layer = Activation('relu')(layer)\n",
    "    layer = Dropout(0.5)(layer)\n",
    "    layer = Dense(1, name='out_layer')(layer)\n",
    "    layer = Activation('sigmoid')(layer)\n",
    "    model = Model(inputs=inputs, outputs=layer)\n",
    "    return model\n",
    "\n",
    "bi_model = BiRNN()\n",
    "bi_model.summary()\n",
    "bi_model.compile(loss='binary_crossentropy', optimizer=RMSprop(), metrics=['accuracy'])"
   ]
  },
  {
   "cell_type": "code",
   "execution_count": 116,
   "id": "4151f15e",
   "metadata": {},
   "outputs": [
    {
     "name": "stdout",
     "output_type": "stream",
     "text": [
      "Epoch 1/10\n",
      "\u001b[1m26/26\u001b[0m \u001b[32m━━━━━━━━━━━━━━━━━━━━\u001b[0m\u001b[37m\u001b[0m \u001b[1m8s\u001b[0m 323ms/step - accuracy: 0.9895 - loss: 0.0448 - val_accuracy: 0.9807 - val_loss: 0.0784\n",
      "Epoch 2/10\n",
      "\u001b[1m26/26\u001b[0m \u001b[32m━━━━━━━━━━━━━━━━━━━━\u001b[0m\u001b[37m\u001b[0m \u001b[1m10s\u001b[0m 318ms/step - accuracy: 0.9939 - loss: 0.0314 - val_accuracy: 0.9771 - val_loss: 0.0882\n"
     ]
    },
    {
     "data": {
      "text/plain": [
       "<keras.src.callbacks.history.History at 0x7ee987793070>"
      ]
     },
     "execution_count": 116,
     "metadata": {},
     "output_type": "execute_result"
    }
   ],
   "source": [
    "model.fit(sequences_matrix,Y_train,batch_size=128,epochs=10,\n",
    "          validation_split=0.2,callbacks=[EarlyStopping(monitor='val_loss',min_delta=0.0001)])"
   ]
  },
  {
   "cell_type": "code",
   "execution_count": 117,
   "id": "6c557f61",
   "metadata": {},
   "outputs": [],
   "source": [
    "test_sequences = tok.texts_to_sequences(X_test)\n",
    "test_sequences_matrix = sequence.pad_sequences(test_sequences,maxlen=max_len)"
   ]
  },
  {
   "cell_type": "code",
   "execution_count": 119,
   "id": "5ced9985",
   "metadata": {},
   "outputs": [
    {
     "name": "stdout",
     "output_type": "stream",
     "text": [
      "\u001b[1m33/33\u001b[0m \u001b[32m━━━━━━━━━━━━━━━━━━━━\u001b[0m\u001b[37m\u001b[0m \u001b[1m2s\u001b[0m 47ms/step - accuracy: 0.9799 - loss: 0.0865\n"
     ]
    }
   ],
   "source": [
    "accr = model.evaluate(test_sequences_matrix,Y_test)"
   ]
  },
  {
   "cell_type": "code",
   "execution_count": 120,
   "id": "9688004c",
   "metadata": {},
   "outputs": [
    {
     "name": "stdout",
     "output_type": "stream",
     "text": [
      "Test set\n",
      "  Loss: 0.086\n",
      "  Accuracy: 0.981\n"
     ]
    }
   ],
   "source": [
    "print('Test set\\n  Loss: {:0.3f}\\n  Accuracy: {:0.3f}'.format(accr[0],accr[1]))"
   ]
  },
  {
   "cell_type": "code",
   "execution_count": 121,
   "id": "cd08e391",
   "metadata": {},
   "outputs": [],
   "source": [
    "import matplotlib.pyplot as plt"
   ]
  },
  {
   "cell_type": "code",
   "execution_count": 122,
   "id": "affc6e84",
   "metadata": {
    "scrolled": false
   },
   "outputs": [
    {
     "data": {
      "image/png": "[encoded data removed]",
      "text/plain": [
       "<Figure size 720x360 with 1 Axes>"
      ]
     },
     "metadata": {
      "needs_background": "light"
     },
     "output_type": "display_data"
    },
    {
     "data": {
      "image/png": "[encoded data removed]",
      "text/plain": [
       "<Figure size 720x360 with 1 Axes>"
      ]
     },
     "metadata": {
      "needs_background": "light"
     },
     "output_type": "display_data"
    }
   ],
   "source": [
    "# Training history for RNN LSTM model\n",
    "rnn_lstm_history = {\n",
    "    'loss': [0.4876, 0.3046, 0.1837, 0.0992],\n",
    "    'accuracy': [0.7945, 0.8740, 0.9515, 0.9737],\n",
    "    'val_loss': [0.2692, 0.2090, 0.1178, 0.1189],\n",
    "    'val_accuracy': [0.8792, 0.9360, 0.9722, 0.9626]\n",
    "}\n",
    "\n",
    "# Training history for RNN BiLSTM model\n",
    "rnn_bilstm_history = {\n",
    "    'loss': [0.0807, 0.0625, 0.0623, 0.0370],\n",
    "    'accuracy': [0.9784, 0.9842, 0.9866, 0.9932],\n",
    "    'val_loss': [0.0744, 0.0667, 0.0603, 0.0550],\n",
    "    'val_accuracy': [0.9795, 0.9819, 0.9831, 0.9843]\n",
    "}\n",
    "\n",
    "epochs = range(1, len(rnn_lstm_history['loss']) + 1)\n",
    "\n",
    "# Plotting Accuracy\n",
    "plt.figure(figsize=(10, 5))\n",
    "\n",
    "plt.plot(epochs, rnn_lstm_history['accuracy'], 'b-', label='RNN LSTM Training Accuracy')\n",
    "plt.plot(epochs, rnn_lstm_history['val_accuracy'], 'b--', label='RNN LSTM Validation Accuracy')\n",
    "plt.plot(epochs, rnn_bilstm_history['accuracy'], 'r-', label='RNN BiLSTM Training Accuracy')\n",
    "plt.plot(epochs, rnn_bilstm_history['val_accuracy'], 'r--', label='RNN BiLSTM Validation Accuracy')\n",
    "\n",
    "plt.title('Accuracy Over Epochs')\n",
    "plt.xlabel('Epochs')\n",
    "plt.ylabel('Accuracy')\n",
    "plt.legend()\n",
    "plt.grid(True)\n",
    "\n",
    "plt.show()\n",
    "\n",
    "# Plotting Loss\n",
    "plt.figure(figsize=(10, 5))\n",
    "\n",
    "plt.plot(epochs, rnn_lstm_history['loss'], 'b-', label='RNN LSTM Training Loss')\n",
    "plt.plot(epochs, rnn_lstm_history['val_loss'], 'b--', label='RNN LSTM Validation Loss')\n",
    "plt.plot(epochs, rnn_bilstm_history['loss'], 'r-', label='RNN BiLSTM Training Loss')\n",
    "plt.plot(epochs, rnn_bilstm_history['val_loss'], 'r--', label='RNN BiLSTM Validation Loss')\n",
    "\n",
    "plt.title('Loss Over Epochs')\n",
    "plt.xlabel('Epochs')\n",
    "plt.ylabel('Loss')\n",
    "plt.legend()\n",
    "plt.grid(True)\n",
    "plt.show()\n"
   ]
  },
  {
   "cell_type": "code",
   "execution_count": null,
   "id": "d83bae80",
   "metadata": {},
   "outputs": [],
   "source": []
  },
  {
   "cell_type": "markdown",
   "id": "9c59f98d",
   "metadata": {},
   "source": [
    "## Section 6: Deep Learning Model Building Using Pyspark"
   ]
  },
  {
   "cell_type": "code",
   "execution_count": null,
   "id": "bfa6c75b",
   "metadata": {},
   "outputs": [],
   "source": []
  },
  {
   "cell_type": "code",
   "execution_count": 123,
   "id": "6ed73f90",
   "metadata": {},
   "outputs": [
    {
     "name": "stdout",
     "output_type": "stream",
     "text": [
      "root\n",
      " |-- v1: string (nullable = true)\n",
      " |-- v2: string (nullable = true)\n",
      " |-- _c2: string (nullable = true)\n",
      " |-- _c3: string (nullable = true)\n",
      " |-- _c4: string (nullable = true)\n",
      "\n"
     ]
    }
   ],
   "source": [
    "## Reading spam csv file as spark data frame.\n",
    "\n",
    "df = spark.read.load('hdfs://localhost:9000/user1/spam.csv', format=\"csv\", header=\"true\", sep=',')\n",
    "df.printSchema()"
   ]
  },
  {
   "cell_type": "code",
   "execution_count": 124,
   "id": "3c4b22ad",
   "metadata": {
    "scrolled": false
   },
   "outputs": [
    {
     "name": "stdout",
     "output_type": "stream",
     "text": [
      "+----+--------------------+----+----+----+\n",
      "|  v1|                  v2| _c2| _c3| _c4|\n",
      "+----+--------------------+----+----+----+\n",
      "| ham|Go until jurong p...|null|null|null|\n",
      "| ham|Ok lar... Joking ...|null|null|null|\n",
      "|spam|Free entry in 2 a...|null|null|null|\n",
      "| ham|U dun say so earl...|null|null|null|\n",
      "| ham|Nah I don't think...|null|null|null|\n",
      "|spam|FreeMsg Hey there...|null|null|null|\n",
      "| ham|Even my brother i...|null|null|null|\n",
      "| ham|As per your reque...|null|null|null|\n",
      "|spam|WINNER!! As a val...|null|null|null|\n",
      "|spam|Had your mobile 1...|null|null|null|\n",
      "| ham|I'm gonna be home...|null|null|null|\n",
      "|spam|SIX chances to wi...|null|null|null|\n",
      "|spam|URGENT! You have ...|null|null|null|\n",
      "| ham|I've been searchi...|null|null|null|\n",
      "| ham|I HAVE A DATE ON ...|null|null|null|\n",
      "|spam|XXXMobileMovieClu...|null|null|null|\n",
      "| ham|Oh k...i'm watchi...|null|null|null|\n",
      "| ham|Eh u remember how...|null|null|null|\n",
      "| ham|Fine if that��s t...|null|null|null|\n",
      "|spam|England v Macedon...|null|null|null|\n",
      "+----+--------------------+----+----+----+\n",
      "only showing top 20 rows\n",
      "\n"
     ]
    },
    {
     "name": "stderr",
     "output_type": "stream",
     "text": [
      "24/04/04 00:17:43 WARN CSVHeaderChecker: CSV header does not conform to the schema.\n",
      " Header: v1, v2, , , \n",
      " Schema: v1, v2, _c2, _c3, _c4\n",
      "Expected: _c2 but found: \n",
      "CSV file: hdfs://localhost:9000/user1/spam.csv\n"
     ]
    }
   ],
   "source": [
    "df.show()"
   ]
  },
  {
   "cell_type": "code",
   "execution_count": 125,
   "id": "cda008d2",
   "metadata": {},
   "outputs": [],
   "source": [
    "## Droping last three columns"
   ]
  },
  {
   "cell_type": "code",
   "execution_count": 126,
   "id": "a019705b",
   "metadata": {},
   "outputs": [],
   "source": [
    "columns_to_drop = [\"_c2\", \"_c3\", \"_c4\"]\n",
    "df = df.drop(*columns_to_drop)"
   ]
  },
  {
   "cell_type": "code",
   "execution_count": 127,
   "id": "43f72720",
   "metadata": {},
   "outputs": [],
   "source": [
    "## Rename the first two columns with meaningfull names"
   ]
  },
  {
   "cell_type": "code",
   "execution_count": 128,
   "id": "602a660a",
   "metadata": {},
   "outputs": [],
   "source": [
    "new_column_names = {\"v1\": \"label\", \"v2\": \"text\"}\n",
    "for old_name, new_name in new_column_names.items():\n",
    "    df = df.withColumnRenamed(old_name, new_name)"
   ]
  },
  {
   "cell_type": "code",
   "execution_count": 129,
   "id": "2d9f7f15",
   "metadata": {},
   "outputs": [
    {
     "name": "stdout",
     "output_type": "stream",
     "text": [
      "+-----+--------------------+\n",
      "|label|                text|\n",
      "+-----+--------------------+\n",
      "|  ham|Go until jurong p...|\n",
      "|  ham|Ok lar... Joking ...|\n",
      "| spam|Free entry in 2 a...|\n",
      "|  ham|U dun say so earl...|\n",
      "|  ham|Nah I don't think...|\n",
      "| spam|FreeMsg Hey there...|\n",
      "|  ham|Even my brother i...|\n",
      "|  ham|As per your reque...|\n",
      "| spam|WINNER!! As a val...|\n",
      "| spam|Had your mobile 1...|\n",
      "|  ham|I'm gonna be home...|\n",
      "| spam|SIX chances to wi...|\n",
      "| spam|URGENT! You have ...|\n",
      "|  ham|I've been searchi...|\n",
      "|  ham|I HAVE A DATE ON ...|\n",
      "| spam|XXXMobileMovieClu...|\n",
      "|  ham|Oh k...i'm watchi...|\n",
      "|  ham|Eh u remember how...|\n",
      "|  ham|Fine if that��s t...|\n",
      "| spam|England v Macedon...|\n",
      "+-----+--------------------+\n",
      "only showing top 20 rows\n",
      "\n"
     ]
    }
   ],
   "source": [
    "df.show()"
   ]
  },
  {
   "cell_type": "code",
   "execution_count": 130,
   "id": "eed4ecec",
   "metadata": {},
   "outputs": [],
   "source": [
    "## Data preprocessing"
   ]
  },
  {
   "cell_type": "code",
   "execution_count": 131,
   "id": "da2c8c97",
   "metadata": {},
   "outputs": [],
   "source": [
    "from pyspark.ml.feature import Tokenizer\n",
    "from pyspark.sql.functions import col\n",
    "from pyspark.ml.feature import Tokenizer, StopWordsRemover, HashingTF, IDF\n",
    "from pyspark.ml.feature import StringIndexer\n",
    "#from pyspark.ml.feature import Word2Vec"
   ]
  },
  {
   "cell_type": "code",
   "execution_count": 132,
   "id": "93e798cd",
   "metadata": {},
   "outputs": [],
   "source": [
    "# Filter out rows with null values in the \"text\" column\n",
    "df = df.filter(col(\"text\").isNotNull())"
   ]
  },
  {
   "cell_type": "code",
   "execution_count": 133,
   "id": "df72920a",
   "metadata": {},
   "outputs": [],
   "source": [
    "# Tokenize the text column\n",
    "tokenizer = Tokenizer(inputCol=\"text\", outputCol=\"words\")\n",
    "df = tokenizer.transform(df)"
   ]
  },
  {
   "cell_type": "code",
   "execution_count": 134,
   "id": "c8ca29a6",
   "metadata": {},
   "outputs": [],
   "source": [
    "# Convert labels to binary values (0 and 1)\n",
    "from pyspark.sql.functions import when\n",
    "df = df.withColumn(\"label\", when(df[\"label\"] == \"ham\", 0).otherwise(1))"
   ]
  },
  {
   "cell_type": "code",
   "execution_count": 135,
   "id": "ef118dcc",
   "metadata": {
    "scrolled": false
   },
   "outputs": [
    {
     "name": "stdout",
     "output_type": "stream",
     "text": [
      "+-----+--------------------+--------------------+\n",
      "|label|                text|               words|\n",
      "+-----+--------------------+--------------------+\n",
      "|    0|Go until jurong p...|[go, until, juron...|\n",
      "|    0|Ok lar... Joking ...|[ok, lar..., joki...|\n",
      "|    1|Free entry in 2 a...|[free, entry, in,...|\n",
      "|    0|U dun say so earl...|[u, dun, say, so,...|\n",
      "|    0|Nah I don't think...|[nah, i, don't, t...|\n",
      "|    1|FreeMsg Hey there...|[freemsg, hey, th...|\n",
      "|    0|Even my brother i...|[even, my, brothe...|\n",
      "|    0|As per your reque...|[as, per, your, r...|\n",
      "|    1|WINNER!! As a val...|[winner!!, as, a,...|\n",
      "|    1|Had your mobile 1...|[had, your, mobil...|\n",
      "|    0|I'm gonna be home...|[i'm, gonna, be, ...|\n",
      "|    1|SIX chances to wi...|[six, chances, to...|\n",
      "|    1|URGENT! You have ...|[urgent!, you, ha...|\n",
      "|    0|I've been searchi...|[i've, been, sear...|\n",
      "|    0|I HAVE A DATE ON ...|[i, have, a, date...|\n",
      "|    1|XXXMobileMovieClu...|[xxxmobilemoviecl...|\n",
      "|    0|Oh k...i'm watchi...|[oh, k...i'm, wat...|\n",
      "|    0|Eh u remember how...|[eh, u, remember,...|\n",
      "|    0|Fine if that��s t...|[fine, if, that��...|\n",
      "|    1|England v Macedon...|[england, v, mace...|\n",
      "+-----+--------------------+--------------------+\n",
      "only showing top 20 rows\n",
      "\n"
     ]
    }
   ],
   "source": [
    "df.show()"
   ]
  },
  {
   "cell_type": "code",
   "execution_count": 136,
   "id": "d5a0349a",
   "metadata": {},
   "outputs": [
    {
     "name": "stderr",
     "output_type": "stream",
     "text": [
      "                                                                                \r"
     ]
    }
   ],
   "source": [
    "from pyspark.ml.feature import Word2Vec\n",
    "# Train Word2Vec model\n",
    "word2Vec = Word2Vec(vectorSize=200, minCount=6, inputCol=\"words\", outputCol=\"wordVectors\")\n",
    "word2Vec_model = word2Vec.fit(df)\n",
    "\n",
    "# Transform the DataFrame to add word vectors\n",
    "df = word2Vec_model.transform(df)\n",
    "\n",
    "# Use VectorAssembler to assemble word vectors into a single feature vector\n",
    "assembler = VectorAssembler(inputCols=[\"wordVectors\"], outputCol=\"features\")\n",
    "df = assembler.transform(df)"
   ]
  },
  {
   "cell_type": "code",
   "execution_count": 137,
   "id": "9f8707fc",
   "metadata": {},
   "outputs": [
    {
     "name": "stdout",
     "output_type": "stream",
     "text": [
      "+-----+--------------------+--------------------+--------------------+--------------------+\n",
      "|label|                text|               words|         wordVectors|            features|\n",
      "+-----+--------------------+--------------------+--------------------+--------------------+\n",
      "|    0|Go until jurong p...|[go, until, juron...|[0.00127687348649...|[0.00127687348649...|\n",
      "|    0|Ok lar... Joking ...|[ok, lar..., joki...|[0.01449287907841...|[0.01449287907841...|\n",
      "|    1|Free entry in 2 a...|[free, entry, in,...|[-0.0078280491704...|[-0.0078280491704...|\n",
      "|    0|U dun say so earl...|[u, dun, say, so,...|[0.02788206316869...|[0.02788206316869...|\n",
      "|    0|Nah I don't think...|[nah, i, don't, t...|[-0.0066751362039...|[-0.0066751362039...|\n",
      "|    1|FreeMsg Hey there...|[freemsg, hey, th...|[-0.0141197589728...|[-0.0141197589728...|\n",
      "|    0|Even my brother i...|[even, my, brothe...|[-0.0120659397653...|[-0.0120659397653...|\n",
      "|    0|As per your reque...|[as, per, your, r...|[-0.0163899484502...|[-0.0163899484502...|\n",
      "|    1|WINNER!! As a val...|[winner!!, as, a,...|[-0.0192853791657...|[-0.0192853791657...|\n",
      "|    1|Had your mobile 1...|[had, your, mobil...|[-0.0109079489885...|[-0.0109079489885...|\n",
      "|    0|I'm gonna be home...|[i'm, gonna, be, ...|[-0.0143805611060...|[-0.0143805611060...|\n",
      "|    1|SIX chances to wi...|[six, chances, to...|[-0.0066210392755...|[-0.0066210392755...|\n",
      "|    1|URGENT! You have ...|[urgent!, you, ha...|[-0.0222553195825...|[-0.0222553195825...|\n",
      "|    0|I've been searchi...|[i've, been, sear...|[-0.0235703051588...|[-0.0235703051588...|\n",
      "|    0|I HAVE A DATE ON ...|[i, have, a, date...|[-0.0117371704836...|[-0.0117371704836...|\n",
      "|    1|XXXMobileMovieClu...|[xxxmobilemoviecl...|[-0.0146929623412...|[-0.0146929623412...|\n",
      "|    0|Oh k...i'm watchi...|[oh, k...i'm, wat...|[6.94253714755177...|[6.94253714755177...|\n",
      "|    0|Eh u remember how...|[eh, u, remember,...|[1.47616074077392...|[1.47616074077392...|\n",
      "|    0|Fine if that��s t...|[fine, if, that��...|[-0.0037251318558...|[-0.0037251318558...|\n",
      "|    1|England v Macedon...|[england, v, mace...|[-0.0047747395304...|[-0.0047747395304...|\n",
      "+-----+--------------------+--------------------+--------------------+--------------------+\n",
      "only showing top 20 rows\n",
      "\n"
     ]
    }
   ],
   "source": [
    "df.show()"
   ]
  },
  {
   "cell_type": "code",
   "execution_count": 138,
   "id": "a25f6da7",
   "metadata": {},
   "outputs": [],
   "source": [
    "# Split the dataset into training and testing sets\n",
    "train_df, test_df = df.randomSplit([0.8, 0.2], seed=123)"
   ]
  },
  {
   "cell_type": "code",
   "execution_count": 139,
   "id": "59875aa9",
   "metadata": {},
   "outputs": [
    {
     "data": {
      "text/plain": [
       "DataFrame[label: int, text: string, words: array<string>, wordVectors: vector, features: vector]"
      ]
     },
     "execution_count": 139,
     "metadata": {},
     "output_type": "execute_result"
    }
   ],
   "source": [
    "test_df"
   ]
  },
  {
   "cell_type": "code",
   "execution_count": 140,
   "id": "4454bf4f",
   "metadata": {},
   "outputs": [],
   "source": [
    "from pyspark.ml.classification import MultilayerPerceptronClassifier\n",
    "from pyspark.ml.evaluation import MulticlassClassificationEvaluator\n",
    "model = MultilayerPerceptronClassifier(layers=[100, 50, 2], seed=123, featuresCol=\"features\", labelCol=\"label\")"
   ]
  },
  {
   "cell_type": "code",
   "execution_count": 141,
   "id": "1068f131",
   "metadata": {},
   "outputs": [
    {
     "name": "stderr",
     "output_type": "stream",
     "text": [
      "                                                                                \r"
     ]
    }
   ],
   "source": [
    "model = model.fit(train_df)"
   ]
  },
  {
   "cell_type": "code",
   "execution_count": 142,
   "id": "c1051618",
   "metadata": {},
   "outputs": [],
   "source": [
    "result = model.transform(test_df)"
   ]
  },
  {
   "cell_type": "code",
   "execution_count": 143,
   "id": "c40d7960",
   "metadata": {},
   "outputs": [
    {
     "name": "stderr",
     "output_type": "stream",
     "text": [
      "24/04/04 00:18:39 ERROR Executor: Exception in task 0.0 in stage 171.0 (TID 157)\n",
      "org.apache.spark.SparkException: [FAILED_EXECUTE_UDF] Failed to execute user defined function (ProbabilisticClassificationModel$$Lambda$4439/294239148: (struct<type:tinyint,size:int,indices:array<int>,values:array<double>>) => struct<type:tinyint,size:int,indices:array<int>,values:array<double>>).\n",
      "\tat org.apache.spark.sql.errors.QueryExecutionErrors$.failedExecuteUserDefinedFunctionError(QueryExecutionErrors.scala:217)\n",
      "\tat org.apache.spark.sql.errors.QueryExecutionErrors.failedExecuteUserDefinedFunctionError(QueryExecutionErrors.scala)\n",
      "\tat org.apache.spark.sql.catalyst.expressions.GeneratedClass$GeneratedIteratorForCodegenStage1.processNext(Unknown Source)\n",
      "\tat org.apache.spark.sql.execution.BufferedRowIterator.hasNext(BufferedRowIterator.java:43)\n",
      "\tat org.apache.spark.sql.execution.WholeStageCodegenExec$$anon$1.hasNext(WholeStageCodegenExec.scala:760)\n",
      "\tat scala.collection.Iterator$$anon$10.hasNext(Iterator.scala:460)\n",
      "\tat scala.collection.Iterator$$anon$10.hasNext(Iterator.scala:460)\n",
      "\tat scala.collection.Iterator$$anon$10.hasNext(Iterator.scala:460)\n",
      "\tat scala.collection.Iterator$$anon$10.hasNext(Iterator.scala:460)\n",
      "\tat org.apache.spark.util.collection.ExternalSorter.insertAll(ExternalSorter.scala:197)\n",
      "\tat org.apache.spark.shuffle.sort.SortShuffleWriter.write(SortShuffleWriter.scala:63)\n",
      "\tat org.apache.spark.shuffle.ShuffleWriteProcessor.write(ShuffleWriteProcessor.scala:59)\n",
      "\tat org.apache.spark.scheduler.ShuffleMapTask.runTask(ShuffleMapTask.scala:101)\n",
      "\tat org.apache.spark.scheduler.ShuffleMapTask.runTask(ShuffleMapTask.scala:53)\n",
      "\tat org.apache.spark.TaskContext.runTaskWithListeners(TaskContext.scala:161)\n",
      "\tat org.apache.spark.scheduler.Task.run(Task.scala:139)\n",
      "\tat org.apache.spark.executor.Executor$TaskRunner.$anonfun$run$3(Executor.scala:554)\n",
      "\tat org.apache.spark.util.Utils$.tryWithSafeFinally(Utils.scala:1529)\n",
      "\tat org.apache.spark.executor.Executor$TaskRunner.run(Executor.scala:557)\n",
      "\tat java.util.concurrent.ThreadPoolExecutor.runWorker(ThreadPoolExecutor.java:1149)\n",
      "\tat java.util.concurrent.ThreadPoolExecutor$Worker.run(ThreadPoolExecutor.java:624)\n",
      "\tat java.lang.Thread.run(Thread.java:750)\n",
      "Caused by: java.lang.IllegalArgumentException: requirement failed: A & B Dimension mismatch!\n",
      "\tat scala.Predef$.require(Predef.scala:281)\n",
      "\tat org.apache.spark.ml.ann.BreezeUtil$.dgemm(BreezeUtil.scala:42)\n",
      "\tat org.apache.spark.ml.ann.AffineLayerModel.eval(Layer.scala:164)\n",
      "\tat org.apache.spark.ml.ann.FeedForwardModel.forward(Layer.scala:508)\n",
      "\tat org.apache.spark.ml.ann.FeedForwardModel.predictRaw(Layer.scala:561)\n",
      "\tat org.apache.spark.ml.classification.MultilayerPerceptronClassificationModel.predictRaw(MultilayerPerceptronClassifier.scala:337)\n",
      "\tat org.apache.spark.ml.classification.MultilayerPerceptronClassificationModel.predictRaw(MultilayerPerceptronClassifier.scala:279)\n",
      "\tat org.apache.spark.ml.classification.ProbabilisticClassificationModel.$anonfun$transform$2(ProbabilisticClassifier.scala:121)\n",
      "\t... 20 more\n",
      "24/04/04 00:18:39 WARN TaskSetManager: Lost task 0.0 in stage 171.0 (TID 157) (10.0.2.15 executor driver): org.apache.spark.SparkException: [FAILED_EXECUTE_UDF] Failed to execute user defined function (ProbabilisticClassificationModel$$Lambda$4439/294239148: (struct<type:tinyint,size:int,indices:array<int>,values:array<double>>) => struct<type:tinyint,size:int,indices:array<int>,values:array<double>>).\n",
      "\tat org.apache.spark.sql.errors.QueryExecutionErrors$.failedExecuteUserDefinedFunctionError(QueryExecutionErrors.scala:217)\n",
      "\tat org.apache.spark.sql.errors.QueryExecutionErrors.failedExecuteUserDefinedFunctionError(QueryExecutionErrors.scala)\n",
      "\tat org.apache.spark.sql.catalyst.expressions.GeneratedClass$GeneratedIteratorForCodegenStage1.processNext(Unknown Source)\n",
      "\tat org.apache.spark.sql.execution.BufferedRowIterator.hasNext(BufferedRowIterator.java:43)\n",
      "\tat org.apache.spark.sql.execution.WholeStageCodegenExec$$anon$1.hasNext(WholeStageCodegenExec.scala:760)\n",
      "\tat scala.collection.Iterator$$anon$10.hasNext(Iterator.scala:460)\n",
      "\tat scala.collection.Iterator$$anon$10.hasNext(Iterator.scala:460)\n",
      "\tat scala.collection.Iterator$$anon$10.hasNext(Iterator.scala:460)\n",
      "\tat scala.collection.Iterator$$anon$10.hasNext(Iterator.scala:460)\n",
      "\tat org.apache.spark.util.collection.ExternalSorter.insertAll(ExternalSorter.scala:197)\n",
      "\tat org.apache.spark.shuffle.sort.SortShuffleWriter.write(SortShuffleWriter.scala:63)\n",
      "\tat org.apache.spark.shuffle.ShuffleWriteProcessor.write(ShuffleWriteProcessor.scala:59)\n",
      "\tat org.apache.spark.scheduler.ShuffleMapTask.runTask(ShuffleMapTask.scala:101)\n",
      "\tat org.apache.spark.scheduler.ShuffleMapTask.runTask(ShuffleMapTask.scala:53)\n",
      "\tat org.apache.spark.TaskContext.runTaskWithListeners(TaskContext.scala:161)\n",
      "\tat org.apache.spark.scheduler.Task.run(Task.scala:139)\n",
      "\tat org.apache.spark.executor.Executor$TaskRunner.$anonfun$run$3(Executor.scala:554)\n",
      "\tat org.apache.spark.util.Utils$.tryWithSafeFinally(Utils.scala:1529)\n",
      "\tat org.apache.spark.executor.Executor$TaskRunner.run(Executor.scala:557)\n",
      "\tat java.util.concurrent.ThreadPoolExecutor.runWorker(ThreadPoolExecutor.java:1149)\n",
      "\tat java.util.concurrent.ThreadPoolExecutor$Worker.run(ThreadPoolExecutor.java:624)\n",
      "\tat java.lang.Thread.run(Thread.java:750)\n",
      "Caused by: java.lang.IllegalArgumentException: requirement failed: A & B Dimension mismatch!\n",
      "\tat scala.Predef$.require(Predef.scala:281)\n",
      "\tat org.apache.spark.ml.ann.BreezeUtil$.dgemm(BreezeUtil.scala:42)\n",
      "\tat org.apache.spark.ml.ann.AffineLayerModel.eval(Layer.scala:164)\n",
      "\tat org.apache.spark.ml.ann.FeedForwardModel.forward(Layer.scala:508)\n",
      "\tat org.apache.spark.ml.ann.FeedForwardModel.predictRaw(Layer.scala:561)\n",
      "\tat org.apache.spark.ml.classification.MultilayerPerceptronClassificationModel.predictRaw(MultilayerPerceptronClassifier.scala:337)\n",
      "\tat org.apache.spark.ml.classification.MultilayerPerceptronClassificationModel.predictRaw(MultilayerPerceptronClassifier.scala:279)\n",
      "\tat org.apache.spark.ml.classification.ProbabilisticClassificationModel.$anonfun$transform$2(ProbabilisticClassifier.scala:121)\n",
      "\t... 20 more\n",
      "\n",
      "24/04/04 00:18:39 ERROR TaskSetManager: Task 0 in stage 171.0 failed 1 times; aborting job\n"
     ]
    },
    {
     "ename": "Py4JJavaError",
     "evalue": "An error occurred while calling o320.evaluate.\n: org.apache.spark.SparkException: Job aborted due to stage failure: Task 0 in stage 171.0 failed 1 times, most recent failure: Lost task 0.0 in stage 171.0 (TID 157) (10.0.2.15 executor driver): org.apache.spark.SparkException: [FAILED_EXECUTE_UDF] Failed to execute user defined function (ProbabilisticClassificationModel$$Lambda$4439/294239148: (struct<type:tinyint,size:int,indices:array<int>,values:array<double>>) => struct<type:tinyint,size:int,indices:array<int>,values:array<double>>).\n\tat org.apache.spark.sql.errors.QueryExecutionErrors$.failedExecuteUserDefinedFunctionError(QueryExecutionErrors.scala:217)\n\tat org.apache.spark.sql.errors.QueryExecutionErrors.failedExecuteUserDefinedFunctionError(QueryExecutionErrors.scala)\n\tat org.apache.spark.sql.catalyst.expressions.GeneratedClass$GeneratedIteratorForCodegenStage1.processNext(Unknown Source)\n\tat org.apache.spark.sql.execution.BufferedRowIterator.hasNext(BufferedRowIterator.java:43)\n\tat org.apache.spark.sql.execution.WholeStageCodegenExec$$anon$1.hasNext(WholeStageCodegenExec.scala:760)\n\tat scala.collection.Iterator$$anon$10.hasNext(Iterator.scala:460)\n\tat scala.collection.Iterator$$anon$10.hasNext(Iterator.scala:460)\n\tat scala.collection.Iterator$$anon$10.hasNext(Iterator.scala:460)\n\tat scala.collection.Iterator$$anon$10.hasNext(Iterator.scala:460)\n\tat org.apache.spark.util.collection.ExternalSorter.insertAll(ExternalSorter.scala:197)\n\tat org.apache.spark.shuffle.sort.SortShuffleWriter.write(SortShuffleWriter.scala:63)\n\tat org.apache.spark.shuffle.ShuffleWriteProcessor.write(ShuffleWriteProcessor.scala:59)\n\tat org.apache.spark.scheduler.ShuffleMapTask.runTask(ShuffleMapTask.scala:101)\n\tat org.apache.spark.scheduler.ShuffleMapTask.runTask(ShuffleMapTask.scala:53)\n\tat org.apache.spark.TaskContext.runTaskWithListeners(TaskContext.scala:161)\n\tat org.apache.spark.scheduler.Task.run(Task.scala:139)\n\tat org.apache.spark.executor.Executor$TaskRunner.$anonfun$run$3(Executor.scala:554)\n\tat org.apache.spark.util.Utils$.tryWithSafeFinally(Utils.scala:1529)\n\tat org.apache.spark.executor.Executor$TaskRunner.run(Executor.scala:557)\n\tat java.util.concurrent.ThreadPoolExecutor.runWorker(ThreadPoolExecutor.java:1149)\n\tat java.util.concurrent.ThreadPoolExecutor$Worker.run(ThreadPoolExecutor.java:624)\n\tat java.lang.Thread.run(Thread.java:750)\nCaused by: java.lang.IllegalArgumentException: requirement failed: A & B Dimension mismatch!\n\tat scala.Predef$.require(Predef.scala:281)\n\tat org.apache.spark.ml.ann.BreezeUtil$.dgemm(BreezeUtil.scala:42)\n\tat org.apache.spark.ml.ann.AffineLayerModel.eval(Layer.scala:164)\n\tat org.apache.spark.ml.ann.FeedForwardModel.forward(Layer.scala:508)\n\tat org.apache.spark.ml.ann.FeedForwardModel.predictRaw(Layer.scala:561)\n\tat org.apache.spark.ml.classification.MultilayerPerceptronClassificationModel.predictRaw(MultilayerPerceptronClassifier.scala:337)\n\tat org.apache.spark.ml.classification.MultilayerPerceptronClassificationModel.predictRaw(MultilayerPerceptronClassifier.scala:279)\n\tat org.apache.spark.ml.classification.ProbabilisticClassificationModel.$anonfun$transform$2(ProbabilisticClassifier.scala:121)\n\t... 20 more\n\nDriver stacktrace:\n\tat org.apache.spark.scheduler.DAGScheduler.failJobAndIndependentStages(DAGScheduler.scala:2785)\n\tat org.apache.spark.scheduler.DAGScheduler.$anonfun$abortStage$2(DAGScheduler.scala:2721)\n\tat org.apache.spark.scheduler.DAGScheduler.$anonfun$abortStage$2$adapted(DAGScheduler.scala:2720)\n\tat scala.collection.mutable.ResizableArray.foreach(ResizableArray.scala:62)\n\tat scala.collection.mutable.ResizableArray.foreach$(ResizableArray.scala:55)\n\tat scala.collection.mutable.ArrayBuffer.foreach(ArrayBuffer.scala:49)\n\tat org.apache.spark.scheduler.DAGScheduler.abortStage(DAGScheduler.scala:2720)\n\tat org.apache.spark.scheduler.DAGScheduler.$anonfun$handleTaskSetFailed$1(DAGScheduler.scala:1206)\n\tat org.apache.spark.scheduler.DAGScheduler.$anonfun$handleTaskSetFailed$1$adapted(DAGScheduler.scala:1206)\n\tat scala.Option.foreach(Option.scala:407)\n\tat org.apache.spark.scheduler.DAGScheduler.handleTaskSetFailed(DAGScheduler.scala:1206)\n\tat org.apache.spark.scheduler.DAGSchedulerEventProcessLoop.doOnReceive(DAGScheduler.scala:2984)\n\tat org.apache.spark.scheduler.DAGSchedulerEventProcessLoop.onReceive(DAGScheduler.scala:2923)\n\tat org.apache.spark.scheduler.DAGSchedulerEventProcessLoop.onReceive(DAGScheduler.scala:2912)\n\tat org.apache.spark.util.EventLoop$$anon$1.run(EventLoop.scala:49)\n\tat org.apache.spark.scheduler.DAGScheduler.runJob(DAGScheduler.scala:971)\n\tat org.apache.spark.SparkContext.runJob(SparkContext.scala:2263)\n\tat org.apache.spark.SparkContext.runJob(SparkContext.scala:2284)\n\tat org.apache.spark.SparkContext.runJob(SparkContext.scala:2303)\n\tat org.apache.spark.SparkContext.runJob(SparkContext.scala:2328)\n\tat org.apache.spark.rdd.RDD.$anonfun$collect$1(RDD.scala:1019)\n\tat org.apache.spark.rdd.RDDOperationScope$.withScope(RDDOperationScope.scala:151)\n\tat org.apache.spark.rdd.RDDOperationScope$.withScope(RDDOperationScope.scala:112)\n\tat org.apache.spark.rdd.RDD.withScope(RDD.scala:405)\n\tat org.apache.spark.rdd.RDD.collect(RDD.scala:1018)\n\tat org.apache.spark.rdd.PairRDDFunctions.$anonfun$collectAsMap$1(PairRDDFunctions.scala:738)\n\tat org.apache.spark.rdd.RDDOperationScope$.withScope(RDDOperationScope.scala:151)\n\tat org.apache.spark.rdd.RDDOperationScope$.withScope(RDDOperationScope.scala:112)\n\tat org.apache.spark.rdd.RDD.withScope(RDD.scala:405)\n\tat org.apache.spark.rdd.PairRDDFunctions.collectAsMap(PairRDDFunctions.scala:737)\n\tat org.apache.spark.mllib.evaluation.MulticlassMetrics.confusions$lzycompute(MulticlassMetrics.scala:61)\n\tat org.apache.spark.mllib.evaluation.MulticlassMetrics.confusions(MulticlassMetrics.scala:52)\n\tat org.apache.spark.mllib.evaluation.MulticlassMetrics.tpByClass$lzycompute(MulticlassMetrics.scala:78)\n\tat org.apache.spark.mllib.evaluation.MulticlassMetrics.tpByClass(MulticlassMetrics.scala:76)\n\tat org.apache.spark.mllib.evaluation.MulticlassMetrics.accuracy$lzycompute(MulticlassMetrics.scala:188)\n\tat org.apache.spark.mllib.evaluation.MulticlassMetrics.accuracy(MulticlassMetrics.scala:188)\n\tat org.apache.spark.ml.evaluation.MulticlassClassificationEvaluator.evaluate(MulticlassClassificationEvaluator.scala:153)\n\tat sun.reflect.NativeMethodAccessorImpl.invoke0(Native Method)\n\tat sun.reflect.NativeMethodAccessorImpl.invoke(NativeMethodAccessorImpl.java:62)\n\tat sun.reflect.DelegatingMethodAccessorImpl.invoke(DelegatingMethodAccessorImpl.java:43)\n\tat java.lang.reflect.Method.invoke(Method.java:498)\n\tat py4j.reflection.MethodInvoker.invoke(MethodInvoker.java:244)\n\tat py4j.reflection.ReflectionEngine.invoke(ReflectionEngine.java:374)\n\tat py4j.Gateway.invoke(Gateway.java:282)\n\tat py4j.commands.AbstractCommand.invokeMethod(AbstractCommand.java:132)\n\tat py4j.commands.CallCommand.execute(CallCommand.java:79)\n\tat py4j.ClientServerConnection.waitForCommands(ClientServerConnection.java:182)\n\tat py4j.ClientServerConnection.run(ClientServerConnection.java:106)\n\tat java.lang.Thread.run(Thread.java:750)\nCaused by: org.apache.spark.SparkException: [FAILED_EXECUTE_UDF] Failed to execute user defined function (ProbabilisticClassificationModel$$Lambda$4439/294239148: (struct<type:tinyint,size:int,indices:array<int>,values:array<double>>) => struct<type:tinyint,size:int,indices:array<int>,values:array<double>>).\n\tat org.apache.spark.sql.errors.QueryExecutionErrors$.failedExecuteUserDefinedFunctionError(QueryExecutionErrors.scala:217)\n\tat org.apache.spark.sql.errors.QueryExecutionErrors.failedExecuteUserDefinedFunctionError(QueryExecutionErrors.scala)\n\tat org.apache.spark.sql.catalyst.expressions.GeneratedClass$GeneratedIteratorForCodegenStage1.processNext(Unknown Source)\n\tat org.apache.spark.sql.execution.BufferedRowIterator.hasNext(BufferedRowIterator.java:43)\n\tat org.apache.spark.sql.execution.WholeStageCodegenExec$$anon$1.hasNext(WholeStageCodegenExec.scala:760)\n\tat scala.collection.Iterator$$anon$10.hasNext(Iterator.scala:460)\n\tat scala.collection.Iterator$$anon$10.hasNext(Iterator.scala:460)\n\tat scala.collection.Iterator$$anon$10.hasNext(Iterator.scala:460)\n\tat scala.collection.Iterator$$anon$10.hasNext(Iterator.scala:460)\n\tat org.apache.spark.util.collection.ExternalSorter.insertAll(ExternalSorter.scala:197)\n\tat org.apache.spark.shuffle.sort.SortShuffleWriter.write(SortShuffleWriter.scala:63)\n\tat org.apache.spark.shuffle.ShuffleWriteProcessor.write(ShuffleWriteProcessor.scala:59)\n\tat org.apache.spark.scheduler.ShuffleMapTask.runTask(ShuffleMapTask.scala:101)\n\tat org.apache.spark.scheduler.ShuffleMapTask.runTask(ShuffleMapTask.scala:53)\n\tat org.apache.spark.TaskContext.runTaskWithListeners(TaskContext.scala:161)\n\tat org.apache.spark.scheduler.Task.run(Task.scala:139)\n\tat org.apache.spark.executor.Executor$TaskRunner.$anonfun$run$3(Executor.scala:554)\n\tat org.apache.spark.util.Utils$.tryWithSafeFinally(Utils.scala:1529)\n\tat org.apache.spark.executor.Executor$TaskRunner.run(Executor.scala:557)\n\tat java.util.concurrent.ThreadPoolExecutor.runWorker(ThreadPoolExecutor.java:1149)\n\tat java.util.concurrent.ThreadPoolExecutor$Worker.run(ThreadPoolExecutor.java:624)\n\t... 1 more\nCaused by: java.lang.IllegalArgumentException: requirement failed: A & B Dimension mismatch!\n\tat scala.Predef$.require(Predef.scala:281)\n\tat org.apache.spark.ml.ann.BreezeUtil$.dgemm(BreezeUtil.scala:42)\n\tat org.apache.spark.ml.ann.AffineLayerModel.eval(Layer.scala:164)\n\tat org.apache.spark.ml.ann.FeedForwardModel.forward(Layer.scala:508)\n\tat org.apache.spark.ml.ann.FeedForwardModel.predictRaw(Layer.scala:561)\n\tat org.apache.spark.ml.classification.MultilayerPerceptronClassificationModel.predictRaw(MultilayerPerceptronClassifier.scala:337)\n\tat org.apache.spark.ml.classification.MultilayerPerceptronClassificationModel.predictRaw(MultilayerPerceptronClassifier.scala:279)\n\tat org.apache.spark.ml.classification.ProbabilisticClassificationModel.$anonfun$transform$2(ProbabilisticClassifier.scala:121)\n\t... 20 more\n",
     "output_type": "error",
     "traceback": [
      "\u001b[0;31m---------------------------------------------------------------------------\u001b[0m",
      "\u001b[0;31mPy4JJavaError\u001b[0m                             Traceback (most recent call last)",
      "\u001b[0;32m/tmp/ipykernel_6307/4047973926.py\u001b[0m in \u001b[0;36m<module>\u001b[0;34m\u001b[0m\n\u001b[1;32m      1\u001b[0m \u001b[0mpredictionAndLabels\u001b[0m \u001b[0;34m=\u001b[0m \u001b[0mresult\u001b[0m\u001b[0;34m.\u001b[0m\u001b[0mselect\u001b[0m\u001b[0;34m(\u001b[0m\u001b[0;34m\"prediction\"\u001b[0m\u001b[0;34m,\u001b[0m \u001b[0;34m\"label\"\u001b[0m\u001b[0;34m)\u001b[0m\u001b[0;34m\u001b[0m\u001b[0;34m\u001b[0m\u001b[0m\n\u001b[1;32m      2\u001b[0m \u001b[0mevaluator\u001b[0m \u001b[0;34m=\u001b[0m \u001b[0mMulticlassClassificationEvaluator\u001b[0m\u001b[0;34m(\u001b[0m\u001b[0mmetricName\u001b[0m\u001b[0;34m=\u001b[0m\u001b[0;34m\"accuracy\"\u001b[0m\u001b[0;34m)\u001b[0m\u001b[0;34m\u001b[0m\u001b[0;34m\u001b[0m\u001b[0m\n\u001b[0;32m----> 3\u001b[0;31m \u001b[0mprint\u001b[0m\u001b[0;34m(\u001b[0m\u001b[0;34m\"Test set accuracy = \"\u001b[0m \u001b[0;34m+\u001b[0m \u001b[0mstr\u001b[0m\u001b[0;34m(\u001b[0m\u001b[0mevaluator\u001b[0m\u001b[0;34m.\u001b[0m\u001b[0mevaluate\u001b[0m\u001b[0;34m(\u001b[0m\u001b[0mpredictionAndLabels\u001b[0m\u001b[0;34m)\u001b[0m\u001b[0;34m)\u001b[0m\u001b[0;34m)\u001b[0m\u001b[0;34m\u001b[0m\u001b[0;34m\u001b[0m\u001b[0m\n\u001b[0m",
      "\u001b[0;32m/usr/local/spark/python/pyspark/ml/evaluation.py\u001b[0m in \u001b[0;36mevaluate\u001b[0;34m(self, dataset, params)\u001b[0m\n\u001b[1;32m    109\u001b[0m                 \u001b[0;32mreturn\u001b[0m \u001b[0mself\u001b[0m\u001b[0;34m.\u001b[0m\u001b[0mcopy\u001b[0m\u001b[0;34m(\u001b[0m\u001b[0mparams\u001b[0m\u001b[0;34m)\u001b[0m\u001b[0;34m.\u001b[0m\u001b[0m_evaluate\u001b[0m\u001b[0;34m(\u001b[0m\u001b[0mdataset\u001b[0m\u001b[0;34m)\u001b[0m\u001b[0;34m\u001b[0m\u001b[0;34m\u001b[0m\u001b[0m\n\u001b[1;32m    110\u001b[0m             \u001b[0;32melse\u001b[0m\u001b[0;34m:\u001b[0m\u001b[0;34m\u001b[0m\u001b[0;34m\u001b[0m\u001b[0m\n\u001b[0;32m--> 111\u001b[0;31m                 \u001b[0;32mreturn\u001b[0m \u001b[0mself\u001b[0m\u001b[0;34m.\u001b[0m\u001b[0m_evaluate\u001b[0m\u001b[0;34m(\u001b[0m\u001b[0mdataset\u001b[0m\u001b[0;34m)\u001b[0m\u001b[0;34m\u001b[0m\u001b[0;34m\u001b[0m\u001b[0m\n\u001b[0m\u001b[1;32m    112\u001b[0m         \u001b[0;32melse\u001b[0m\u001b[0;34m:\u001b[0m\u001b[0;34m\u001b[0m\u001b[0;34m\u001b[0m\u001b[0m\n\u001b[1;32m    113\u001b[0m             \u001b[0;32mraise\u001b[0m \u001b[0mTypeError\u001b[0m\u001b[0;34m(\u001b[0m\u001b[0;34m\"Params must be a param map but got %s.\"\u001b[0m \u001b[0;34m%\u001b[0m \u001b[0mtype\u001b[0m\u001b[0;34m(\u001b[0m\u001b[0mparams\u001b[0m\u001b[0;34m)\u001b[0m\u001b[0;34m)\u001b[0m\u001b[0;34m\u001b[0m\u001b[0;34m\u001b[0m\u001b[0m\n",
      "\u001b[0;32m/usr/local/spark/python/pyspark/ml/evaluation.py\u001b[0m in \u001b[0;36m_evaluate\u001b[0;34m(self, dataset)\u001b[0m\n\u001b[1;32m    146\u001b[0m         \u001b[0mself\u001b[0m\u001b[0;34m.\u001b[0m\u001b[0m_transfer_params_to_java\u001b[0m\u001b[0;34m(\u001b[0m\u001b[0;34m)\u001b[0m\u001b[0;34m\u001b[0m\u001b[0;34m\u001b[0m\u001b[0m\n\u001b[1;32m    147\u001b[0m         \u001b[0;32massert\u001b[0m \u001b[0mself\u001b[0m\u001b[0;34m.\u001b[0m\u001b[0m_java_obj\u001b[0m \u001b[0;32mis\u001b[0m \u001b[0;32mnot\u001b[0m \u001b[0;32mNone\u001b[0m\u001b[0;34m\u001b[0m\u001b[0;34m\u001b[0m\u001b[0m\n\u001b[0;32m--> 148\u001b[0;31m         \u001b[0;32mreturn\u001b[0m \u001b[0mself\u001b[0m\u001b[0;34m.\u001b[0m\u001b[0m_java_obj\u001b[0m\u001b[0;34m.\u001b[0m\u001b[0mevaluate\u001b[0m\u001b[0;34m(\u001b[0m\u001b[0mdataset\u001b[0m\u001b[0;34m.\u001b[0m\u001b[0m_jdf\u001b[0m\u001b[0;34m)\u001b[0m\u001b[0;34m\u001b[0m\u001b[0;34m\u001b[0m\u001b[0m\n\u001b[0m\u001b[1;32m    149\u001b[0m \u001b[0;34m\u001b[0m\u001b[0m\n\u001b[1;32m    150\u001b[0m     \u001b[0;32mdef\u001b[0m \u001b[0misLargerBetter\u001b[0m\u001b[0;34m(\u001b[0m\u001b[0mself\u001b[0m\u001b[0;34m)\u001b[0m \u001b[0;34m->\u001b[0m \u001b[0mbool\u001b[0m\u001b[0;34m:\u001b[0m\u001b[0;34m\u001b[0m\u001b[0;34m\u001b[0m\u001b[0m\n",
      "\u001b[0;32m/usr/local/spark/python/lib/py4j-0.10.9.7-src.zip/py4j/java_gateway.py\u001b[0m in \u001b[0;36m__call__\u001b[0;34m(self, *args)\u001b[0m\n\u001b[1;32m   1320\u001b[0m \u001b[0;34m\u001b[0m\u001b[0m\n\u001b[1;32m   1321\u001b[0m         \u001b[0manswer\u001b[0m \u001b[0;34m=\u001b[0m \u001b[0mself\u001b[0m\u001b[0;34m.\u001b[0m\u001b[0mgateway_client\u001b[0m\u001b[0;34m.\u001b[0m\u001b[0msend_command\u001b[0m\u001b[0;34m(\u001b[0m\u001b[0mcommand\u001b[0m\u001b[0;34m)\u001b[0m\u001b[0;34m\u001b[0m\u001b[0;34m\u001b[0m\u001b[0m\n\u001b[0;32m-> 1322\u001b[0;31m         return_value = get_return_value(\n\u001b[0m\u001b[1;32m   1323\u001b[0m             answer, self.gateway_client, self.target_id, self.name)\n\u001b[1;32m   1324\u001b[0m \u001b[0;34m\u001b[0m\u001b[0m\n",
      "\u001b[0;32m/usr/local/spark/python/pyspark/errors/exceptions/captured.py\u001b[0m in \u001b[0;36mdeco\u001b[0;34m(*a, **kw)\u001b[0m\n\u001b[1;32m    167\u001b[0m     \u001b[0;32mdef\u001b[0m \u001b[0mdeco\u001b[0m\u001b[0;34m(\u001b[0m\u001b[0;34m*\u001b[0m\u001b[0ma\u001b[0m\u001b[0;34m:\u001b[0m \u001b[0mAny\u001b[0m\u001b[0;34m,\u001b[0m \u001b[0;34m**\u001b[0m\u001b[0mkw\u001b[0m\u001b[0;34m:\u001b[0m \u001b[0mAny\u001b[0m\u001b[0;34m)\u001b[0m \u001b[0;34m->\u001b[0m \u001b[0mAny\u001b[0m\u001b[0;34m:\u001b[0m\u001b[0;34m\u001b[0m\u001b[0;34m\u001b[0m\u001b[0m\n\u001b[1;32m    168\u001b[0m         \u001b[0;32mtry\u001b[0m\u001b[0;34m:\u001b[0m\u001b[0;34m\u001b[0m\u001b[0;34m\u001b[0m\u001b[0m\n\u001b[0;32m--> 169\u001b[0;31m             \u001b[0;32mreturn\u001b[0m \u001b[0mf\u001b[0m\u001b[0;34m(\u001b[0m\u001b[0;34m*\u001b[0m\u001b[0ma\u001b[0m\u001b[0;34m,\u001b[0m \u001b[0;34m**\u001b[0m\u001b[0mkw\u001b[0m\u001b[0;34m)\u001b[0m\u001b[0;34m\u001b[0m\u001b[0;34m\u001b[0m\u001b[0m\n\u001b[0m\u001b[1;32m    170\u001b[0m         \u001b[0;32mexcept\u001b[0m \u001b[0mPy4JJavaError\u001b[0m \u001b[0;32mas\u001b[0m \u001b[0me\u001b[0m\u001b[0;34m:\u001b[0m\u001b[0;34m\u001b[0m\u001b[0;34m\u001b[0m\u001b[0m\n\u001b[1;32m    171\u001b[0m             \u001b[0mconverted\u001b[0m \u001b[0;34m=\u001b[0m \u001b[0mconvert_exception\u001b[0m\u001b[0;34m(\u001b[0m\u001b[0me\u001b[0m\u001b[0;34m.\u001b[0m\u001b[0mjava_exception\u001b[0m\u001b[0;34m)\u001b[0m\u001b[0;34m\u001b[0m\u001b[0;34m\u001b[0m\u001b[0m\n",
      "\u001b[0;32m/usr/local/spark/python/lib/py4j-0.10.9.7-src.zip/py4j/protocol.py\u001b[0m in \u001b[0;36mget_return_value\u001b[0;34m(answer, gateway_client, target_id, name)\u001b[0m\n\u001b[1;32m    324\u001b[0m             \u001b[0mvalue\u001b[0m \u001b[0;34m=\u001b[0m \u001b[0mOUTPUT_CONVERTER\u001b[0m\u001b[0;34m[\u001b[0m\u001b[0mtype\u001b[0m\u001b[0;34m]\u001b[0m\u001b[0;34m(\u001b[0m\u001b[0manswer\u001b[0m\u001b[0;34m[\u001b[0m\u001b[0;36m2\u001b[0m\u001b[0;34m:\u001b[0m\u001b[0;34m]\u001b[0m\u001b[0;34m,\u001b[0m \u001b[0mgateway_client\u001b[0m\u001b[0;34m)\u001b[0m\u001b[0;34m\u001b[0m\u001b[0;34m\u001b[0m\u001b[0m\n\u001b[1;32m    325\u001b[0m             \u001b[0;32mif\u001b[0m \u001b[0manswer\u001b[0m\u001b[0;34m[\u001b[0m\u001b[0;36m1\u001b[0m\u001b[0;34m]\u001b[0m \u001b[0;34m==\u001b[0m \u001b[0mREFERENCE_TYPE\u001b[0m\u001b[0;34m:\u001b[0m\u001b[0;34m\u001b[0m\u001b[0;34m\u001b[0m\u001b[0m\n\u001b[0;32m--> 326\u001b[0;31m                 raise Py4JJavaError(\n\u001b[0m\u001b[1;32m    327\u001b[0m                     \u001b[0;34m\"An error occurred while calling {0}{1}{2}.\\n\"\u001b[0m\u001b[0;34m.\u001b[0m\u001b[0;34m\u001b[0m\u001b[0;34m\u001b[0m\u001b[0m\n\u001b[1;32m    328\u001b[0m                     format(target_id, \".\", name), value)\n",
      "\u001b[0;31mPy4JJavaError\u001b[0m: An error occurred while calling o320.evaluate.\n: org.apache.spark.SparkException: Job aborted due to stage failure: Task 0 in stage 171.0 failed 1 times, most recent failure: Lost task 0.0 in stage 171.0 (TID 157) (10.0.2.15 executor driver): org.apache.spark.SparkException: [FAILED_EXECUTE_UDF] Failed to execute user defined function (ProbabilisticClassificationModel$$Lambda$4439/294239148: (struct<type:tinyint,size:int,indices:array<int>,values:array<double>>) => struct<type:tinyint,size:int,indices:array<int>,values:array<double>>).\n\tat org.apache.spark.sql.errors.QueryExecutionErrors$.failedExecuteUserDefinedFunctionError(QueryExecutionErrors.scala:217)\n\tat org.apache.spark.sql.errors.QueryExecutionErrors.failedExecuteUserDefinedFunctionError(QueryExecutionErrors.scala)\n\tat org.apache.spark.sql.catalyst.expressions.GeneratedClass$GeneratedIteratorForCodegenStage1.processNext(Unknown Source)\n\tat org.apache.spark.sql.execution.BufferedRowIterator.hasNext(BufferedRowIterator.java:43)\n\tat org.apache.spark.sql.execution.WholeStageCodegenExec$$anon$1.hasNext(WholeStageCodegenExec.scala:760)\n\tat scala.collection.Iterator$$anon$10.hasNext(Iterator.scala:460)\n\tat scala.collection.Iterator$$anon$10.hasNext(Iterator.scala:460)\n\tat scala.collection.Iterator$$anon$10.hasNext(Iterator.scala:460)\n\tat scala.collection.Iterator$$anon$10.hasNext(Iterator.scala:460)\n\tat org.apache.spark.util.collection.ExternalSorter.insertAll(ExternalSorter.scala:197)\n\tat org.apache.spark.shuffle.sort.SortShuffleWriter.write(SortShuffleWriter.scala:63)\n\tat org.apache.spark.shuffle.ShuffleWriteProcessor.write(ShuffleWriteProcessor.scala:59)\n\tat org.apache.spark.scheduler.ShuffleMapTask.runTask(ShuffleMapTask.scala:101)\n\tat org.apache.spark.scheduler.ShuffleMapTask.runTask(ShuffleMapTask.scala:53)\n\tat org.apache.spark.TaskContext.runTaskWithListeners(TaskContext.scala:161)\n\tat org.apache.spark.scheduler.Task.run(Task.scala:139)\n\tat org.apache.spark.executor.Executor$TaskRunner.$anonfun$run$3(Executor.scala:554)\n\tat org.apache.spark.util.Utils$.tryWithSafeFinally(Utils.scala:1529)\n\tat org.apache.spark.executor.Executor$TaskRunner.run(Executor.scala:557)\n\tat java.util.concurrent.ThreadPoolExecutor.runWorker(ThreadPoolExecutor.java:1149)\n\tat java.util.concurrent.ThreadPoolExecutor$Worker.run(ThreadPoolExecutor.java:624)\n\tat java.lang.Thread.run(Thread.java:750)\nCaused by: java.lang.IllegalArgumentException: requirement failed: A & B Dimension mismatch!\n\tat scala.Predef$.require(Predef.scala:281)\n\tat org.apache.spark.ml.ann.BreezeUtil$.dgemm(BreezeUtil.scala:42)\n\tat org.apache.spark.ml.ann.AffineLayerModel.eval(Layer.scala:164)\n\tat org.apache.spark.ml.ann.FeedForwardModel.forward(Layer.scala:508)\n\tat org.apache.spark.ml.ann.FeedForwardModel.predictRaw(Layer.scala:561)\n\tat org.apache.spark.ml.classification.MultilayerPerceptronClassificationModel.predictRaw(MultilayerPerceptronClassifier.scala:337)\n\tat org.apache.spark.ml.classification.MultilayerPerceptronClassificationModel.predictRaw(MultilayerPerceptronClassifier.scala:279)\n\tat org.apache.spark.ml.classification.ProbabilisticClassificationModel.$anonfun$transform$2(ProbabilisticClassifier.scala:121)\n\t... 20 more\n\nDriver stacktrace:\n\tat org.apache.spark.scheduler.DAGScheduler.failJobAndIndependentStages(DAGScheduler.scala:2785)\n\tat org.apache.spark.scheduler.DAGScheduler.$anonfun$abortStage$2(DAGScheduler.scala:2721)\n\tat org.apache.spark.scheduler.DAGScheduler.$anonfun$abortStage$2$adapted(DAGScheduler.scala:2720)\n\tat scala.collection.mutable.ResizableArray.foreach(ResizableArray.scala:62)\n\tat scala.collection.mutable.ResizableArray.foreach$(ResizableArray.scala:55)\n\tat scala.collection.mutable.ArrayBuffer.foreach(ArrayBuffer.scala:49)\n\tat org.apache.spark.scheduler.DAGScheduler.abortStage(DAGScheduler.scala:2720)\n\tat org.apache.spark.scheduler.DAGScheduler.$anonfun$handleTaskSetFailed$1(DAGScheduler.scala:1206)\n\tat org.apache.spark.scheduler.DAGScheduler.$anonfun$handleTaskSetFailed$1$adapted(DAGScheduler.scala:1206)\n\tat scala.Option.foreach(Option.scala:407)\n\tat org.apache.spark.scheduler.DAGScheduler.handleTaskSetFailed(DAGScheduler.scala:1206)\n\tat org.apache.spark.scheduler.DAGSchedulerEventProcessLoop.doOnReceive(DAGScheduler.scala:2984)\n\tat org.apache.spark.scheduler.DAGSchedulerEventProcessLoop.onReceive(DAGScheduler.scala:2923)\n\tat org.apache.spark.scheduler.DAGSchedulerEventProcessLoop.onReceive(DAGScheduler.scala:2912)\n\tat org.apache.spark.util.EventLoop$$anon$1.run(EventLoop.scala:49)\n\tat org.apache.spark.scheduler.DAGScheduler.runJob(DAGScheduler.scala:971)\n\tat org.apache.spark.SparkContext.runJob(SparkContext.scala:2263)\n\tat org.apache.spark.SparkContext.runJob(SparkContext.scala:2284)\n\tat org.apache.spark.SparkContext.runJob(SparkContext.scala:2303)\n\tat org.apache.spark.SparkContext.runJob(SparkContext.scala:2328)\n\tat org.apache.spark.rdd.RDD.$anonfun$collect$1(RDD.scala:1019)\n\tat org.apache.spark.rdd.RDDOperationScope$.withScope(RDDOperationScope.scala:151)\n\tat org.apache.spark.rdd.RDDOperationScope$.withScope(RDDOperationScope.scala:112)\n\tat org.apache.spark.rdd.RDD.withScope(RDD.scala:405)\n\tat org.apache.spark.rdd.RDD.collect(RDD.scala:1018)\n\tat org.apache.spark.rdd.PairRDDFunctions.$anonfun$collectAsMap$1(PairRDDFunctions.scala:738)\n\tat org.apache.spark.rdd.RDDOperationScope$.withScope(RDDOperationScope.scala:151)\n\tat org.apache.spark.rdd.RDDOperationScope$.withScope(RDDOperationScope.scala:112)\n\tat org.apache.spark.rdd.RDD.withScope(RDD.scala:405)\n\tat org.apache.spark.rdd.PairRDDFunctions.collectAsMap(PairRDDFunctions.scala:737)\n\tat org.apache.spark.mllib.evaluation.MulticlassMetrics.confusions$lzycompute(MulticlassMetrics.scala:61)\n\tat org.apache.spark.mllib.evaluation.MulticlassMetrics.confusions(MulticlassMetrics.scala:52)\n\tat org.apache.spark.mllib.evaluation.MulticlassMetrics.tpByClass$lzycompute(MulticlassMetrics.scala:78)\n\tat org.apache.spark.mllib.evaluation.MulticlassMetrics.tpByClass(MulticlassMetrics.scala:76)\n\tat org.apache.spark.mllib.evaluation.MulticlassMetrics.accuracy$lzycompute(MulticlassMetrics.scala:188)\n\tat org.apache.spark.mllib.evaluation.MulticlassMetrics.accuracy(MulticlassMetrics.scala:188)\n\tat org.apache.spark.ml.evaluation.MulticlassClassificationEvaluator.evaluate(MulticlassClassificationEvaluator.scala:153)\n\tat sun.reflect.NativeMethodAccessorImpl.invoke0(Native Method)\n\tat sun.reflect.NativeMethodAccessorImpl.invoke(NativeMethodAccessorImpl.java:62)\n\tat sun.reflect.DelegatingMethodAccessorImpl.invoke(DelegatingMethodAccessorImpl.java:43)\n\tat java.lang.reflect.Method.invoke(Method.java:498)\n\tat py4j.reflection.MethodInvoker.invoke(MethodInvoker.java:244)\n\tat py4j.reflection.ReflectionEngine.invoke(ReflectionEngine.java:374)\n\tat py4j.Gateway.invoke(Gateway.java:282)\n\tat py4j.commands.AbstractCommand.invokeMethod(AbstractCommand.java:132)\n\tat py4j.commands.CallCommand.execute(CallCommand.java:79)\n\tat py4j.ClientServerConnection.waitForCommands(ClientServerConnection.java:182)\n\tat py4j.ClientServerConnection.run(ClientServerConnection.java:106)\n\tat java.lang.Thread.run(Thread.java:750)\nCaused by: org.apache.spark.SparkException: [FAILED_EXECUTE_UDF] Failed to execute user defined function (ProbabilisticClassificationModel$$Lambda$4439/294239148: (struct<type:tinyint,size:int,indices:array<int>,values:array<double>>) => struct<type:tinyint,size:int,indices:array<int>,values:array<double>>).\n\tat org.apache.spark.sql.errors.QueryExecutionErrors$.failedExecuteUserDefinedFunctionError(QueryExecutionErrors.scala:217)\n\tat org.apache.spark.sql.errors.QueryExecutionErrors.failedExecuteUserDefinedFunctionError(QueryExecutionErrors.scala)\n\tat org.apache.spark.sql.catalyst.expressions.GeneratedClass$GeneratedIteratorForCodegenStage1.processNext(Unknown Source)\n\tat org.apache.spark.sql.execution.BufferedRowIterator.hasNext(BufferedRowIterator.java:43)\n\tat org.apache.spark.sql.execution.WholeStageCodegenExec$$anon$1.hasNext(WholeStageCodegenExec.scala:760)\n\tat scala.collection.Iterator$$anon$10.hasNext(Iterator.scala:460)\n\tat scala.collection.Iterator$$anon$10.hasNext(Iterator.scala:460)\n\tat scala.collection.Iterator$$anon$10.hasNext(Iterator.scala:460)\n\tat scala.collection.Iterator$$anon$10.hasNext(Iterator.scala:460)\n\tat org.apache.spark.util.collection.ExternalSorter.insertAll(ExternalSorter.scala:197)\n\tat org.apache.spark.shuffle.sort.SortShuffleWriter.write(SortShuffleWriter.scala:63)\n\tat org.apache.spark.shuffle.ShuffleWriteProcessor.write(ShuffleWriteProcessor.scala:59)\n\tat org.apache.spark.scheduler.ShuffleMapTask.runTask(ShuffleMapTask.scala:101)\n\tat org.apache.spark.scheduler.ShuffleMapTask.runTask(ShuffleMapTask.scala:53)\n\tat org.apache.spark.TaskContext.runTaskWithListeners(TaskContext.scala:161)\n\tat org.apache.spark.scheduler.Task.run(Task.scala:139)\n\tat org.apache.spark.executor.Executor$TaskRunner.$anonfun$run$3(Executor.scala:554)\n\tat org.apache.spark.util.Utils$.tryWithSafeFinally(Utils.scala:1529)\n\tat org.apache.spark.executor.Executor$TaskRunner.run(Executor.scala:557)\n\tat java.util.concurrent.ThreadPoolExecutor.runWorker(ThreadPoolExecutor.java:1149)\n\tat java.util.concurrent.ThreadPoolExecutor$Worker.run(ThreadPoolExecutor.java:624)\n\t... 1 more\nCaused by: java.lang.IllegalArgumentException: requirement failed: A & B Dimension mismatch!\n\tat scala.Predef$.require(Predef.scala:281)\n\tat org.apache.spark.ml.ann.BreezeUtil$.dgemm(BreezeUtil.scala:42)\n\tat org.apache.spark.ml.ann.AffineLayerModel.eval(Layer.scala:164)\n\tat org.apache.spark.ml.ann.FeedForwardModel.forward(Layer.scala:508)\n\tat org.apache.spark.ml.ann.FeedForwardModel.predictRaw(Layer.scala:561)\n\tat org.apache.spark.ml.classification.MultilayerPerceptronClassificationModel.predictRaw(MultilayerPerceptronClassifier.scala:337)\n\tat org.apache.spark.ml.classification.MultilayerPerceptronClassificationModel.predictRaw(MultilayerPerceptronClassifier.scala:279)\n\tat org.apache.spark.ml.classification.ProbabilisticClassificationModel.$anonfun$transform$2(ProbabilisticClassifier.scala:121)\n\t... 20 more\n"
     ]
    }
   ],
   "source": [
    "predictionAndLabels = result.select(\"prediction\", \"label\")\n",
    "evaluator = MulticlassClassificationEvaluator(metricName=\"accuracy\")\n",
    "print(\"Test set accuracy = \" + str(evaluator.evaluate(predictionAndLabels)))"
   ]
  },
  {
   "cell_type": "code",
   "execution_count": null,
   "id": "9779ad2c",
   "metadata": {},
   "outputs": [],
   "source": []
  },
  {
   "cell_type": "code",
   "execution_count": null,
   "id": "b0dda2c2",
   "metadata": {},
   "outputs": [],
   "source": [
    "## Due to above error not able to progress further to evoluate the models."
   ]
  },
  {
   "cell_type": "markdown",
   "id": "d4ca3636",
   "metadata": {},
   "source": [
    "## Critical Evaluation of Models and Conclusions:\n",
    "\n",
    "From the above Machine learning and Deep learning model performances it is observed that,\n",
    "\n",
    "Multinomial NB model achieved an accuracy of 97.58% and a precision of 99.02%. In the confusion matrix, it correctly classified 908 instances of one class and 101 instances of the other, with only 1 misclassification in the former and 24 in the latter. These results indicate a strong performance of the model in both overall accuracy and the ability to correctly identify positive instances.\n",
    "\n",
    "RNN LSTM model demonstrated a promising trend in accuracy, starting at approximately 79.45% and steadily increasing to around 97.37% by the end of training. Similarly, the validation accuracy began at 87.92% and reached approximately 96.26% by the final epoch. In terms of loss, the RNN LSTM model exhibited a decreasing trend from 0.4876 to 0.0992 for training loss and from 0.2692 to 0.1189 for validation loss.\n",
    "\n",
    "RNN BiLSTM model demonstrated even more impressive performance. Starting with an accuracy of approximately 97.84%, it soared to around 99.32% by the fourth epoch. Validation accuracy followed a similar trajectory, starting at 97.95% and reaching approximately 98.55%. Loss for the RNN BiLSTM model decreased substantially from 0.0807 to 0.0364 for training loss and from 0.0744 to 0.0592 for validation loss.\n",
    "\n",
    "As a final step in our modelling process, we also used pyspark to perform some preprocessing of data using Word2Vec model to convert word to vectors. We build a model with Multilayer Perceptron Classifier trained on train data but unfortunately not able evaluate the model accuracy due to computational errors.\n",
    "\n",
    "In summary, three models exhibited strong performance in terms of accuracy, precision, and loss, with the RNN BiLSTM model showing slightly superior results, achieving higher accuracy and lower loss compared to the MultinomialNB and RNN LSTM models."
   ]
  },
  {
   "cell_type": "code",
   "execution_count": null,
   "id": "a76afd13",
   "metadata": {},
   "outputs": [],
   "source": []
  },
  {
   "cell_type": "code",
   "execution_count": null,
   "id": "4325d7de",
   "metadata": {},
   "outputs": [],
   "source": []
  },
  {
   "cell_type": "code",
   "execution_count": null,
   "id": "c0ffe125",
   "metadata": {},
   "outputs": [],
   "source": []
  },
  {
   "cell_type": "code",
   "execution_count": null,
   "id": "d51ad0ef",
   "metadata": {},
   "outputs": [],
   "source": []
  },
  {
   "cell_type": "code",
   "execution_count": null,
   "id": "96ac0478",
   "metadata": {},
   "outputs": [],
   "source": []
  },
  {
   "cell_type": "code",
   "execution_count": null,
   "id": "d34d0ca4",
   "metadata": {},
   "outputs": [],
   "source": []
  },
  {
   "cell_type": "code",
   "execution_count": null,
   "id": "fcda6958",
   "metadata": {},
   "outputs": [],
   "source": []
  },
  {
   "cell_type": "code",
   "execution_count": null,
   "id": "42d803c0",
   "metadata": {},
   "outputs": [],
   "source": []
  },
  {
   "cell_type": "code",
   "execution_count": null,
   "id": "1d7e5595",
   "metadata": {},
   "outputs": [],
   "source": []
  },
  {
   "cell_type": "code",
   "execution_count": null,
   "id": "6ff6ea7c",
   "metadata": {},
   "outputs": [],
   "source": []
  },
  {
   "cell_type": "code",
   "execution_count": null,
   "id": "18f6e4d7",
   "metadata": {},
   "outputs": [],
   "source": []
  },
  {
   "cell_type": "code",
   "execution_count": null,
   "id": "313e933d",
   "metadata": {},
   "outputs": [],
   "source": []
  },
  {
   "cell_type": "code",
   "execution_count": null,
   "id": "c409a6cb",
   "metadata": {},
   "outputs": [],
   "source": []
  },
  {
   "cell_type": "code",
   "execution_count": null,
   "id": "de6e7865",
   "metadata": {},
   "outputs": [],
   "source": []
  },
  {
   "cell_type": "code",
   "execution_count": null,
   "id": "a7c8cfc6",
   "metadata": {},
   "outputs": [],
   "source": []
  },
  {
   "cell_type": "code",
   "execution_count": null,
   "id": "31a0edbf",
   "metadata": {},
   "outputs": [],
   "source": []
  }
 ],
 "metadata": {
  "kernelspec": {
   "display_name": "Python 3 (ipykernel)",
   "language": "python",
   "name": "python3"
  },
  "language_info": {
   "codemirror_mode": {
    "name": "ipython",
    "version": 3
   },
   "file_extension": ".py",
   "mimetype": "text/x-python",
   "name": "python",
   "nbconvert_exporter": "python",
   "pygments_lexer": "ipython3",
   "version": "3.10.12"
  }
 },
 "nbformat": 4,
 "nbformat_minor": 5
}
